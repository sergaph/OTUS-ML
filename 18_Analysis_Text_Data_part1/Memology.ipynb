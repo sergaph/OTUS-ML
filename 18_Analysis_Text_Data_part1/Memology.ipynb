{
 "cells": [
  {
   "cell_type": "markdown",
   "metadata": {},
   "source": [
    "# Memology - DataScience & Memes\n",
    "![](http://orig07.deviantart.net/3e62/f/2015/267/4/1/meme_team_logo_png_smol_by_kuiwi-d9ass0h.png)"
   ]
  },
  {
   "cell_type": "code",
   "execution_count": 2,
   "metadata": {},
   "outputs": [],
   "source": [
    "import warnings\n",
    "warnings.filterwarnings('ignore')\n",
    "import numpy as np\n",
    "import pandas as pd\n",
    "import json\n",
    "\n",
    "from sklearn.preprocessing import LabelEncoder\n",
    "le = LabelEncoder()\n",
    "\n",
    "import seaborn as sn\n",
    "from pylab import rcParams      \n",
    "rcParams['figure.figsize'] = 8, 8\n",
    "import seaborn as sns\n",
    "import matplotlib.pyplot as plt\n",
    "plt.style.use(\"ggplot\")\n",
    "%matplotlib inline"
   ]
  },
  {
   "cell_type": "code",
   "execution_count": 3,
   "metadata": {},
   "outputs": [],
   "source": [
    "from sklearn.model_selection import StratifiedKFold, train_test_split, RandomizedSearchCV\n",
    "from sklearn.metrics import classification_report, confusion_matrix, accuracy_score"
   ]
  },
  {
   "cell_type": "markdown",
   "metadata": {},
   "source": [
    "###  Часть 1. Описание набора данных и признаков"
   ]
  },
  {
   "cell_type": "code",
   "execution_count": 6,
   "metadata": {},
   "outputs": [],
   "source": [
    "memes = pd.read_csv('data/MEMES_new_short.csv', index_col=0)"
   ]
  },
  {
   "cell_type": "code",
   "execution_count": 8,
   "metadata": {},
   "outputs": [
    {
     "data": {
      "text/plain": [
       "(4206, 14)"
      ]
     },
     "execution_count": 8,
     "metadata": {},
     "output_type": "execute_result"
    }
   ],
   "source": [
    "memes.shape"
   ]
  },
  {
   "cell_type": "code",
   "execution_count": 7,
   "metadata": {},
   "outputs": [
    {
     "data": {
      "text/html": [
       "<div>\n",
       "<style scoped>\n",
       "    .dataframe tbody tr th:only-of-type {\n",
       "        vertical-align: middle;\n",
       "    }\n",
       "\n",
       "    .dataframe tbody tr th {\n",
       "        vertical-align: top;\n",
       "    }\n",
       "\n",
       "    .dataframe thead th {\n",
       "        text-align: right;\n",
       "    }\n",
       "</style>\n",
       "<table border=\"1\" class=\"dataframe\">\n",
       "  <thead>\n",
       "    <tr style=\"text-align: right;\">\n",
       "      <th></th>\n",
       "      <th>name</th>\n",
       "      <th>status</th>\n",
       "      <th>type</th>\n",
       "      <th>origin_year</th>\n",
       "      <th>origin_place</th>\n",
       "      <th>date_added</th>\n",
       "      <th>views</th>\n",
       "      <th>videos</th>\n",
       "      <th>photos</th>\n",
       "      <th>comments</th>\n",
       "      <th>tags</th>\n",
       "      <th>about</th>\n",
       "      <th>origin</th>\n",
       "      <th>other_text</th>\n",
       "    </tr>\n",
       "  </thead>\n",
       "  <tbody>\n",
       "    <tr>\n",
       "      <th>0</th>\n",
       "      <td>Muvvafukka</td>\n",
       "      <td>Submission</td>\n",
       "      <td>Viral Video</td>\n",
       "      <td>2019</td>\n",
       "      <td>Facebook</td>\n",
       "      <td>2019-10-24T04:05:03-04:00</td>\n",
       "      <td>13613</td>\n",
       "      <td>0</td>\n",
       "      <td>7</td>\n",
       "      <td>8</td>\n",
       "      <td>jay-lee hilzinger &amp; maddie flynn, eshayz, davi...</td>\n",
       "      <td>Muvvafukka refers to a viral video of two teen...</td>\n",
       "      <td>While it appears the original video is deleted...</td>\n",
       "      <td>Butler also made a screenshot of Hilzinger's f...</td>\n",
       "    </tr>\n",
       "    <tr>\n",
       "      <th>1</th>\n",
       "      <td>Martyrdom (Drop a Live Grenade When Killed)</td>\n",
       "      <td>Submission</td>\n",
       "      <td>Reaction</td>\n",
       "      <td>2007</td>\n",
       "      <td>Call of Duty 4: Modern Warfare</td>\n",
       "      <td>2019-10-23T12:13:13-04:00</td>\n",
       "      <td>13973</td>\n",
       "      <td>0</td>\n",
       "      <td>17</td>\n",
       "      <td>8</td>\n",
       "      <td>perk, martyrdom, live grenade, reaction image,...</td>\n",
       "      <td>Martyrdom (Drop a Live Grenade When Killed) re...</td>\n",
       "      <td>On April 12th, 2007, first person shooter Call...</td>\n",
       "      <td>Spread The exact first instance of use of the ...</td>\n",
       "    </tr>\n",
       "    <tr>\n",
       "      <th>2</th>\n",
       "      <td>Wet Kylo Ren</td>\n",
       "      <td>Submission</td>\n",
       "      <td>Image Macro</td>\n",
       "      <td>2019</td>\n",
       "      <td>Star Wars: The Rise of Skywalker (Movie Trailer)</td>\n",
       "      <td>2019-10-23T11:56:19-04:00</td>\n",
       "      <td>5339</td>\n",
       "      <td>0</td>\n",
       "      <td>12</td>\n",
       "      <td>7</td>\n",
       "      <td>kylo ren, star wars the rise of skywalker, ada...</td>\n",
       "      <td>Wet Kylo Ren is an image macro series based on...</td>\n",
       "      <td>On October 21st, 2019, the final trailer for t...</td>\n",
       "      <td>Shortly after the trailer's release, some on T...</td>\n",
       "    </tr>\n",
       "    <tr>\n",
       "      <th>3</th>\n",
       "      <td>You're Invited</td>\n",
       "      <td>Submission</td>\n",
       "      <td>Parody</td>\n",
       "      <td>2019</td>\n",
       "      <td>TikTok</td>\n",
       "      <td>2019-10-23T10:32:04-04:00</td>\n",
       "      <td>2249</td>\n",
       "      <td>0</td>\n",
       "      <td>0</td>\n",
       "      <td>0</td>\n",
       "      <td>byob, byow, party, flyer, charge, door</td>\n",
       "      <td>You're Invited is a series of TikTok videos pa...</td>\n",
       "      <td>On October 13th, 2019, TikTok user @coolguycol...</td>\n",
       "      <td>Spread On October 15th, 2019, @moneyxmo upload...</td>\n",
       "    </tr>\n",
       "    <tr>\n",
       "      <th>4</th>\n",
       "      <td>Companies Posting Their Own Names</td>\n",
       "      <td>Submission</td>\n",
       "      <td>Participatory Media</td>\n",
       "      <td>2019</td>\n",
       "      <td>Facebook</td>\n",
       "      <td>2019-10-25T12:42:22-04:00</td>\n",
       "      <td>5662</td>\n",
       "      <td>0</td>\n",
       "      <td>16</td>\n",
       "      <td>33</td>\n",
       "      <td>social media campaign, brands, companies, max ...</td>\n",
       "      <td>Companies Posting Their Own Names refers to a ...</td>\n",
       "      <td>On October 18th, 2019, Australian musician and...</td>\n",
       "      <td>Before October 2019, a number of companies and...</td>\n",
       "    </tr>\n",
       "  </tbody>\n",
       "</table>\n",
       "</div>"
      ],
      "text/plain": [
       "                                          name      status  \\\n",
       "0                                   Muvvafukka  Submission   \n",
       "1  Martyrdom (Drop a Live Grenade When Killed)  Submission   \n",
       "2                                 Wet Kylo Ren  Submission   \n",
       "3                               You're Invited  Submission   \n",
       "4            Companies Posting Their Own Names  Submission   \n",
       "\n",
       "                  type origin_year  \\\n",
       "0          Viral Video        2019   \n",
       "1             Reaction        2007   \n",
       "2          Image Macro        2019   \n",
       "3               Parody        2019   \n",
       "4  Participatory Media        2019   \n",
       "\n",
       "                                       origin_place  \\\n",
       "0                                          Facebook   \n",
       "1                    Call of Duty 4: Modern Warfare   \n",
       "2  Star Wars: The Rise of Skywalker (Movie Trailer)   \n",
       "3                                            TikTok   \n",
       "4                                          Facebook   \n",
       "\n",
       "                  date_added  views  videos  photos  comments  \\\n",
       "0  2019-10-24T04:05:03-04:00  13613       0       7         8   \n",
       "1  2019-10-23T12:13:13-04:00  13973       0      17         8   \n",
       "2  2019-10-23T11:56:19-04:00   5339       0      12         7   \n",
       "3  2019-10-23T10:32:04-04:00   2249       0       0         0   \n",
       "4  2019-10-25T12:42:22-04:00   5662       0      16        33   \n",
       "\n",
       "                                                tags  \\\n",
       "0  jay-lee hilzinger & maddie flynn, eshayz, davi...   \n",
       "1  perk, martyrdom, live grenade, reaction image,...   \n",
       "2  kylo ren, star wars the rise of skywalker, ada...   \n",
       "3             byob, byow, party, flyer, charge, door   \n",
       "4  social media campaign, brands, companies, max ...   \n",
       "\n",
       "                                               about  \\\n",
       "0  Muvvafukka refers to a viral video of two teen...   \n",
       "1  Martyrdom (Drop a Live Grenade When Killed) re...   \n",
       "2  Wet Kylo Ren is an image macro series based on...   \n",
       "3  You're Invited is a series of TikTok videos pa...   \n",
       "4  Companies Posting Their Own Names refers to a ...   \n",
       "\n",
       "                                              origin  \\\n",
       "0  While it appears the original video is deleted...   \n",
       "1  On April 12th, 2007, first person shooter Call...   \n",
       "2  On October 21st, 2019, the final trailer for t...   \n",
       "3  On October 13th, 2019, TikTok user @coolguycol...   \n",
       "4  On October 18th, 2019, Australian musician and...   \n",
       "\n",
       "                                          other_text  \n",
       "0  Butler also made a screenshot of Hilzinger's f...  \n",
       "1  Spread The exact first instance of use of the ...  \n",
       "2  Shortly after the trailer's release, some on T...  \n",
       "3  Spread On October 15th, 2019, @moneyxmo upload...  \n",
       "4  Before October 2019, a number of companies and...  "
      ]
     },
     "execution_count": 7,
     "metadata": {},
     "output_type": "execute_result"
    }
   ],
   "source": [
    "memes.head()"
   ]
  },
  {
   "cell_type": "code",
   "execution_count": 11,
   "metadata": {},
   "outputs": [],
   "source": [
    "memes.reset_index(drop=True, inplace=True)"
   ]
  },
  {
   "cell_type": "code",
   "execution_count": 12,
   "metadata": {},
   "outputs": [
    {
     "name": "stdout",
     "output_type": "stream",
     "text": [
      "<class 'pandas.core.frame.DataFrame'>\n",
      "RangeIndex: 4206 entries, 0 to 4205\n",
      "Data columns (total 14 columns):\n",
      "name            4206 non-null object\n",
      "status          4206 non-null object\n",
      "type            1786 non-null object\n",
      "origin_year     4206 non-null object\n",
      "origin_place    4205 non-null object\n",
      "date_added      4206 non-null object\n",
      "views           4206 non-null int64\n",
      "videos          4206 non-null int64\n",
      "photos          4206 non-null int64\n",
      "comments        4206 non-null int64\n",
      "tags            4205 non-null object\n",
      "about           3798 non-null object\n",
      "origin          2524 non-null object\n",
      "other_text      3508 non-null object\n",
      "dtypes: int64(4), object(10)\n",
      "memory usage: 460.1+ KB\n"
     ]
    }
   ],
   "source": [
    "memes.info()"
   ]
  },
  {
   "cell_type": "markdown",
   "metadata": {},
   "source": [
    "Итак, пройдемся по переменным:\n",
    "\n",
    "- name - название мема\n",
    "- added - дата добавления\n",
    "- views - число просмотров на сайте\n",
    "- comments - число комментариев\n",
    "- status - категориальная переменная, статус присваивается на сайте в зависимости от \"одобрения\" мема сообществом\n",
    "- year - год, к которому относится первоисточник появления картинки (например, год выхода определенной серии Симпсонов)\n",
    "- tags - тэги, также являются категориями\n",
    "- about - описание мема\n",
    "- origin - описание происхождения\n",
    "- spread - где приобрел особенную популярность"
   ]
  },
  {
   "cell_type": "code",
   "execution_count": 13,
   "metadata": {},
   "outputs": [
    {
     "data": {
      "text/html": [
       "<div>\n",
       "<style scoped>\n",
       "    .dataframe tbody tr th:only-of-type {\n",
       "        vertical-align: middle;\n",
       "    }\n",
       "\n",
       "    .dataframe tbody tr th {\n",
       "        vertical-align: top;\n",
       "    }\n",
       "\n",
       "    .dataframe thead th {\n",
       "        text-align: right;\n",
       "    }\n",
       "</style>\n",
       "<table border=\"1\" class=\"dataframe\">\n",
       "  <thead>\n",
       "    <tr style=\"text-align: right;\">\n",
       "      <th></th>\n",
       "      <th>name</th>\n",
       "      <th>status</th>\n",
       "      <th>type</th>\n",
       "      <th>origin_year</th>\n",
       "      <th>origin_place</th>\n",
       "      <th>date_added</th>\n",
       "      <th>views</th>\n",
       "      <th>videos</th>\n",
       "      <th>photos</th>\n",
       "      <th>comments</th>\n",
       "      <th>tags</th>\n",
       "      <th>about</th>\n",
       "      <th>origin</th>\n",
       "      <th>other_text</th>\n",
       "    </tr>\n",
       "  </thead>\n",
       "  <tbody>\n",
       "    <tr>\n",
       "      <th>0</th>\n",
       "      <td>Muvvafukka</td>\n",
       "      <td>Submission</td>\n",
       "      <td>Viral Video</td>\n",
       "      <td>2019</td>\n",
       "      <td>Facebook</td>\n",
       "      <td>2019-10-24T04:05:03-04:00</td>\n",
       "      <td>13613</td>\n",
       "      <td>0</td>\n",
       "      <td>7</td>\n",
       "      <td>8</td>\n",
       "      <td>jay-lee hilzinger &amp; maddie flynn, eshayz, davi...</td>\n",
       "      <td>Muvvafukka refers to a viral video of two teen...</td>\n",
       "      <td>While it appears the original video is deleted...</td>\n",
       "      <td>Butler also made a screenshot of Hilzinger's f...</td>\n",
       "    </tr>\n",
       "    <tr>\n",
       "      <th>1</th>\n",
       "      <td>Martyrdom (Drop a Live Grenade When Killed)</td>\n",
       "      <td>Submission</td>\n",
       "      <td>Reaction</td>\n",
       "      <td>2007</td>\n",
       "      <td>Call of Duty 4: Modern Warfare</td>\n",
       "      <td>2019-10-23T12:13:13-04:00</td>\n",
       "      <td>13973</td>\n",
       "      <td>0</td>\n",
       "      <td>17</td>\n",
       "      <td>8</td>\n",
       "      <td>perk, martyrdom, live grenade, reaction image,...</td>\n",
       "      <td>Martyrdom (Drop a Live Grenade When Killed) re...</td>\n",
       "      <td>On April 12th, 2007, first person shooter Call...</td>\n",
       "      <td>Spread The exact first instance of use of the ...</td>\n",
       "    </tr>\n",
       "    <tr>\n",
       "      <th>2</th>\n",
       "      <td>Wet Kylo Ren</td>\n",
       "      <td>Submission</td>\n",
       "      <td>Image Macro</td>\n",
       "      <td>2019</td>\n",
       "      <td>Star Wars: The Rise of Skywalker (Movie Trailer)</td>\n",
       "      <td>2019-10-23T11:56:19-04:00</td>\n",
       "      <td>5339</td>\n",
       "      <td>0</td>\n",
       "      <td>12</td>\n",
       "      <td>7</td>\n",
       "      <td>kylo ren, star wars the rise of skywalker, ada...</td>\n",
       "      <td>Wet Kylo Ren is an image macro series based on...</td>\n",
       "      <td>On October 21st, 2019, the final trailer for t...</td>\n",
       "      <td>Shortly after the trailer's release, some on T...</td>\n",
       "    </tr>\n",
       "  </tbody>\n",
       "</table>\n",
       "</div>"
      ],
      "text/plain": [
       "                                          name      status         type  \\\n",
       "0                                   Muvvafukka  Submission  Viral Video   \n",
       "1  Martyrdom (Drop a Live Grenade When Killed)  Submission     Reaction   \n",
       "2                                 Wet Kylo Ren  Submission  Image Macro   \n",
       "\n",
       "  origin_year                                      origin_place  \\\n",
       "0        2019                                          Facebook   \n",
       "1        2007                    Call of Duty 4: Modern Warfare   \n",
       "2        2019  Star Wars: The Rise of Skywalker (Movie Trailer)   \n",
       "\n",
       "                  date_added  views  videos  photos  comments  \\\n",
       "0  2019-10-24T04:05:03-04:00  13613       0       7         8   \n",
       "1  2019-10-23T12:13:13-04:00  13973       0      17         8   \n",
       "2  2019-10-23T11:56:19-04:00   5339       0      12         7   \n",
       "\n",
       "                                                tags  \\\n",
       "0  jay-lee hilzinger & maddie flynn, eshayz, davi...   \n",
       "1  perk, martyrdom, live grenade, reaction image,...   \n",
       "2  kylo ren, star wars the rise of skywalker, ada...   \n",
       "\n",
       "                                               about  \\\n",
       "0  Muvvafukka refers to a viral video of two teen...   \n",
       "1  Martyrdom (Drop a Live Grenade When Killed) re...   \n",
       "2  Wet Kylo Ren is an image macro series based on...   \n",
       "\n",
       "                                              origin  \\\n",
       "0  While it appears the original video is deleted...   \n",
       "1  On April 12th, 2007, first person shooter Call...   \n",
       "2  On October 21st, 2019, the final trailer for t...   \n",
       "\n",
       "                                          other_text  \n",
       "0  Butler also made a screenshot of Hilzinger's f...  \n",
       "1  Spread The exact first instance of use of the ...  \n",
       "2  Shortly after the trailer's release, some on T...  "
      ]
     },
     "execution_count": 13,
     "metadata": {},
     "output_type": "execute_result"
    }
   ],
   "source": [
    "memes.head(3)"
   ]
  },
  {
   "cell_type": "code",
   "execution_count": 14,
   "metadata": {},
   "outputs": [
    {
     "data": {
      "text/html": [
       "<div>\n",
       "<style scoped>\n",
       "    .dataframe tbody tr th:only-of-type {\n",
       "        vertical-align: middle;\n",
       "    }\n",
       "\n",
       "    .dataframe tbody tr th {\n",
       "        vertical-align: top;\n",
       "    }\n",
       "\n",
       "    .dataframe thead th {\n",
       "        text-align: right;\n",
       "    }\n",
       "</style>\n",
       "<table border=\"1\" class=\"dataframe\">\n",
       "  <thead>\n",
       "    <tr style=\"text-align: right;\">\n",
       "      <th></th>\n",
       "      <th>name</th>\n",
       "      <th>status</th>\n",
       "      <th>type</th>\n",
       "      <th>origin_year</th>\n",
       "      <th>origin_place</th>\n",
       "      <th>date_added</th>\n",
       "      <th>views</th>\n",
       "      <th>videos</th>\n",
       "      <th>photos</th>\n",
       "      <th>comments</th>\n",
       "      <th>tags</th>\n",
       "      <th>about</th>\n",
       "      <th>origin</th>\n",
       "      <th>other_text</th>\n",
       "    </tr>\n",
       "  </thead>\n",
       "  <tbody>\n",
       "    <tr>\n",
       "      <th>4203</th>\n",
       "      <td>Because of Parkinson's</td>\n",
       "      <td>Confirmed</td>\n",
       "      <td>NaN</td>\n",
       "      <td>2006</td>\n",
       "      <td>YTMND</td>\n",
       "      <td>2013-09-26T16:26:49-04:00</td>\n",
       "      <td>205323</td>\n",
       "      <td>2</td>\n",
       "      <td>101</td>\n",
       "      <td>61</td>\n",
       "      <td>michael j. fox, joke, image macro, 4chan, cele...</td>\n",
       "      <td>Because of Parkinson's (also known as \"Michael...</td>\n",
       "      <td>Michel J. Fox is an Canadian–American actor an...</td>\n",
       "      <td>The first instance of Michael J. Fox's equatio...</td>\n",
       "    </tr>\n",
       "    <tr>\n",
       "      <th>4204</th>\n",
       "      <td>Paranoid Parrot</td>\n",
       "      <td>Confirmed</td>\n",
       "      <td>Image Macro</td>\n",
       "      <td>2009</td>\n",
       "      <td>r9k</td>\n",
       "      <td>2019-10-31T03:47:02-04:00</td>\n",
       "      <td>416158</td>\n",
       "      <td>2</td>\n",
       "      <td>218</td>\n",
       "      <td>51</td>\n",
       "      <td>4chan, parrot, paranoia, paranoid parrot, advi...</td>\n",
       "      <td>Paranoid Parrot is an advice animal image macr...</td>\n",
       "      <td>While the photographer is unknown, the origina...</td>\n",
       "      <td>In 2007, the same image was used to illustrate...</td>\n",
       "    </tr>\n",
       "    <tr>\n",
       "      <th>4205</th>\n",
       "      <td>I Believe You Have My Stapler</td>\n",
       "      <td>Confirmed</td>\n",
       "      <td>Pop Culture Reference</td>\n",
       "      <td>2004</td>\n",
       "      <td>YTMND</td>\n",
       "      <td>2018-04-09T16:28:49-04:00</td>\n",
       "      <td>109512</td>\n",
       "      <td>1</td>\n",
       "      <td>25</td>\n",
       "      <td>29</td>\n",
       "      <td>movie, catchphrase, film, office space, movie ...</td>\n",
       "      <td>NaN</td>\n",
       "      <td>Office Space was a 1999 comedy by Beavis and B...</td>\n",
       "      <td>Milton Waddams (played by actor Stephen Root) ...</td>\n",
       "    </tr>\n",
       "  </tbody>\n",
       "</table>\n",
       "</div>"
      ],
      "text/plain": [
       "                               name     status                   type  \\\n",
       "4203         Because of Parkinson's  Confirmed                    NaN   \n",
       "4204                Paranoid Parrot  Confirmed            Image Macro   \n",
       "4205  I Believe You Have My Stapler  Confirmed  Pop Culture Reference   \n",
       "\n",
       "     origin_year origin_place                 date_added   views  videos  \\\n",
       "4203        2006        YTMND  2013-09-26T16:26:49-04:00  205323       2   \n",
       "4204        2009          r9k  2019-10-31T03:47:02-04:00  416158       2   \n",
       "4205        2004        YTMND  2018-04-09T16:28:49-04:00  109512       1   \n",
       "\n",
       "      photos  comments                                               tags  \\\n",
       "4203     101        61  michael j. fox, joke, image macro, 4chan, cele...   \n",
       "4204     218        51  4chan, parrot, paranoia, paranoid parrot, advi...   \n",
       "4205      25        29  movie, catchphrase, film, office space, movie ...   \n",
       "\n",
       "                                                  about  \\\n",
       "4203  Because of Parkinson's (also known as \"Michael...   \n",
       "4204  Paranoid Parrot is an advice animal image macr...   \n",
       "4205                                                NaN   \n",
       "\n",
       "                                                 origin  \\\n",
       "4203  Michel J. Fox is an Canadian–American actor an...   \n",
       "4204  While the photographer is unknown, the origina...   \n",
       "4205  Office Space was a 1999 comedy by Beavis and B...   \n",
       "\n",
       "                                             other_text  \n",
       "4203  The first instance of Michael J. Fox's equatio...  \n",
       "4204  In 2007, the same image was used to illustrate...  \n",
       "4205  Milton Waddams (played by actor Stephen Root) ...  "
      ]
     },
     "execution_count": 14,
     "metadata": {},
     "output_type": "execute_result"
    }
   ],
   "source": [
    "memes.tail(3)"
   ]
  },
  {
   "cell_type": "markdown",
   "metadata": {},
   "source": [
    "###  Часть 2. Первичный анализ признаков"
   ]
  },
  {
   "cell_type": "markdown",
   "metadata": {
    "collapsed": true
   },
   "source": [
    "Конечно же, в первую очередь хочется посмотреть на самый популярный мем"
   ]
  },
  {
   "cell_type": "code",
   "execution_count": 15,
   "metadata": {},
   "outputs": [
    {
     "data": {
      "text/html": [
       "<div>\n",
       "<style scoped>\n",
       "    .dataframe tbody tr th:only-of-type {\n",
       "        vertical-align: middle;\n",
       "    }\n",
       "\n",
       "    .dataframe tbody tr th {\n",
       "        vertical-align: top;\n",
       "    }\n",
       "\n",
       "    .dataframe thead th {\n",
       "        text-align: right;\n",
       "    }\n",
       "</style>\n",
       "<table border=\"1\" class=\"dataframe\">\n",
       "  <thead>\n",
       "    <tr style=\"text-align: right;\">\n",
       "      <th></th>\n",
       "      <th>name</th>\n",
       "      <th>status</th>\n",
       "      <th>type</th>\n",
       "      <th>origin_year</th>\n",
       "      <th>origin_place</th>\n",
       "      <th>date_added</th>\n",
       "      <th>views</th>\n",
       "      <th>videos</th>\n",
       "      <th>photos</th>\n",
       "      <th>comments</th>\n",
       "      <th>tags</th>\n",
       "      <th>about</th>\n",
       "      <th>origin</th>\n",
       "      <th>other_text</th>\n",
       "    </tr>\n",
       "  </thead>\n",
       "  <tbody>\n",
       "    <tr>\n",
       "      <th>3958</th>\n",
       "      <td>Me Gusta</td>\n",
       "      <td>Confirmed</td>\n",
       "      <td>Character</td>\n",
       "      <td>2010</td>\n",
       "      <td>4chan</td>\n",
       "      <td>2018-09-27T16:03:51-04:00</td>\n",
       "      <td>9095857</td>\n",
       "      <td>21</td>\n",
       "      <td>518</td>\n",
       "      <td>142</td>\n",
       "      <td>4chan, rageguy, spinoff, 4 panel comic, me gus...</td>\n",
       "      <td>Me Gusta is a rage comic face that is typicall...</td>\n",
       "      <td>The colloquial Spanish phrase \"Me Gusta\" was f...</td>\n",
       "      <td>Spread In December 2010, the single topic blog...</td>\n",
       "    </tr>\n",
       "  </tbody>\n",
       "</table>\n",
       "</div>"
      ],
      "text/plain": [
       "          name     status       type origin_year origin_place  \\\n",
       "3958  Me Gusta  Confirmed  Character        2010        4chan   \n",
       "\n",
       "                     date_added    views  videos  photos  comments  \\\n",
       "3958  2018-09-27T16:03:51-04:00  9095857      21     518       142   \n",
       "\n",
       "                                                   tags  \\\n",
       "3958  4chan, rageguy, spinoff, 4 panel comic, me gus...   \n",
       "\n",
       "                                                  about  \\\n",
       "3958  Me Gusta is a rage comic face that is typicall...   \n",
       "\n",
       "                                                 origin  \\\n",
       "3958  The colloquial Spanish phrase \"Me Gusta\" was f...   \n",
       "\n",
       "                                             other_text  \n",
       "3958  Spread In December 2010, the single topic blog...  "
      ]
     },
     "execution_count": 15,
     "metadata": {},
     "output_type": "execute_result"
    }
   ],
   "source": [
    "memes[memes.views==memes.views.max()]"
   ]
  },
  {
   "cell_type": "markdown",
   "metadata": {},
   "source": [
    "![](http://i2.kym-cdn.com/entries/icons/original/000/013/564/aP2dv.gif)"
   ]
  },
  {
   "cell_type": "markdown",
   "metadata": {},
   "source": [
    "# Время добавления\n",
    "\n",
    "Так как в нашем распоряжении есть чудесная переменная `added`, то можно поиграться с ней, преобразовав в понятный питону формат и повытаскивая из него час, день недели и месяца, месяц и год добавления"
   ]
  },
  {
   "cell_type": "code",
   "execution_count": 18,
   "metadata": {},
   "outputs": [],
   "source": [
    "memes['Timestamp'] = pd.to_datetime(memes['date_added'])"
   ]
  },
  {
   "cell_type": "code",
   "execution_count": 27,
   "metadata": {},
   "outputs": [],
   "source": [
    "memes['Year'] = memes.Timestamp.apply(lambda x: x.year)\n",
    "memes['Month'] = memes.Timestamp.apply(lambda x: x.month)\n",
    "memes['Day'] = memes.Timestamp.apply(lambda x: x.day)\n",
    "memes['Hour'] = memes.Timestamp.apply(lambda x: x.hour)\n",
    "memes['Weekday'] = memes.Timestamp.apply(lambda x: x.weekday())"
   ]
  },
  {
   "cell_type": "markdown",
   "metadata": {},
   "source": [
    "Также пригодится переменная, отвечающая за число дней, прошедших с момента добавления мема на сайт"
   ]
  },
  {
   "cell_type": "code",
   "execution_count": 28,
   "metadata": {},
   "outputs": [],
   "source": [
    "memes['days_from_creation'] = (memes.Timestamp.max() - memes.Timestamp)/np.timedelta64(1, 'D')"
   ]
  },
  {
   "cell_type": "markdown",
   "metadata": {},
   "source": [
    "А теперь для наших созданных переменных построим несколько гистограмм"
   ]
  },
  {
   "cell_type": "code",
   "execution_count": 29,
   "metadata": {},
   "outputs": [
    {
     "data": {
      "image/png": "[encoded data removed]",
      "text/plain": [
       "<Figure size 1080x720 with 4 Axes>"
      ]
     },
     "metadata": {
      "needs_background": "light"
     },
     "output_type": "display_data"
    }
   ],
   "source": [
    "index =0 \n",
    "f, axarr = plt.subplots(2, 2, figsize=(15,10))\n",
    "times = ['Month', 'Day', 'Hour', 'Weekday']\n",
    "bins = [12, 31, 24, 7]\n",
    "index = 0\n",
    "for i in range(2):\n",
    "    for j in range(2):\n",
    "        axarr[i, j].hist(memes[times[index]], bins = bins[index])\n",
    "        axarr[i, j].set_title('Histogram of {}'.format(times[index]))\n",
    "        index += 1\n",
    "\n",
    "f.subplots_adjust(hspace=0.2)"
   ]
  },
  {
   "cell_type": "markdown",
   "metadata": {},
   "source": [
    "Итак, что тут есть интересного:\n",
    "- День ничего необычного не принес, распределено достаточно равномерно\n",
    "- Гистограмма часа достаточно показательная - в ночной период активность значительно снижается, а затем растет, достигая пика примерно после окончания уроков у основной аудитории\n",
    "- По дням недели есть заметное снижения на выходных, интересно, почему бы это"
   ]
  },
  {
   "cell_type": "code",
   "execution_count": 30,
   "metadata": {},
   "outputs": [
    {
     "data": {
      "image/png": "[encoded data removed]",
      "text/plain": [
       "<Figure size 720x360 with 1 Axes>"
      ]
     },
     "metadata": {
      "needs_background": "light"
     },
     "output_type": "display_data"
    }
   ],
   "source": [
    "memes.Year.value_counts().plot(kind='bar', figsize=(10, 5))\n",
    "plt.title(\"Histogram of year\")\n",
    "plt.show()"
   ]
  },
  {
   "cell_type": "code",
   "execution_count": 34,
   "metadata": {},
   "outputs": [
    {
     "data": {
      "text/plain": [
       "2019    27.41%\n",
       "2018    15.93%\n",
       "2017    11.70%\n",
       "2016     9.77%\n",
       "2015     7.66%\n",
       "2014     6.92%\n",
       "2011     5.37%\n",
       "2012     5.33%\n",
       "2010     4.97%\n",
       "2013     4.33%\n",
       "2009     0.62%\n",
       "Name: Year, dtype: object"
      ]
     },
     "execution_count": 34,
     "metadata": {},
     "output_type": "execute_result"
    }
   ],
   "source": [
    "memes.Year.value_counts(normalize=True).apply(lambda x: \"{:.2f}%\".format(x*100))"
   ]
  },
  {
   "cell_type": "markdown",
   "metadata": {},
   "source": [
    "\n",
    "# Год появления первоисточника\n",
    "\n",
    "Посмотрим также на вторую переменную, связанную с годом - год появления первоисточника `year`"
   ]
  },
  {
   "cell_type": "code",
   "execution_count": 37,
   "metadata": {},
   "outputs": [
    {
     "data": {
      "text/plain": [
       "Unknown    349\n",
       "2011       329\n",
       "2016       310\n",
       "2010       297\n",
       "2017       281\n",
       "2013       259\n",
       "2019       258\n",
       "2012       236\n",
       "2014       233\n",
       "2018       229\n",
       "Name: origin_year, dtype: int64"
      ]
     },
     "execution_count": 37,
     "metadata": {},
     "output_type": "execute_result"
    }
   ],
   "source": [
    "memes.origin_year.value_counts()[:10]"
   ]
  },
  {
   "cell_type": "code",
   "execution_count": 42,
   "metadata": {},
   "outputs": [],
   "source": [
    "memes.tags[memes.tags.isin(['none...', 'none', 'Unknown', 'none... Unknown', 'None'])] = 'unknown'"
   ]
  },
  {
   "cell_type": "code",
   "execution_count": 44,
   "metadata": {},
   "outputs": [
    {
     "data": {
      "text/plain": [
       "count    3857.000000\n",
       "mean     2007.444387\n",
       "std        35.630976\n",
       "min      1100.000000\n",
       "25%      2008.000000\n",
       "50%      2012.000000\n",
       "75%      2016.000000\n",
       "max      2069.000000\n",
       "Name: origin_year, dtype: float64"
      ]
     },
     "execution_count": 44,
     "metadata": {},
     "output_type": "execute_result"
    }
   ],
   "source": [
    "memes.origin_year.describe()"
   ]
  },
  {
   "cell_type": "code",
   "execution_count": 56,
   "metadata": {},
   "outputs": [
    {
     "data": {
      "image/png": "[encoded data removed]",
      "text/plain": [
       "<Figure size 432x288 with 1 Axes>"
      ]
     },
     "metadata": {
      "needs_background": "light"
     },
     "output_type": "display_data"
    }
   ],
   "source": [
    "memes.origin_year[(memes.origin_year>2000)&(memes.origin_year<=2020)].hist(bins=200)\n",
    "plt.show()"
   ]
  },
  {
   "cell_type": "markdown",
   "metadata": {},
   "source": [
    "Можем посмотреть на наиболее \"исторические\" мемы, берущие своё начало, например, до 1500 года"
   ]
  },
  {
   "cell_type": "code",
   "execution_count": 59,
   "metadata": {
    "scrolled": true
   },
   "outputs": [
    {
     "name": "stdout",
     "output_type": "stream",
     "text": [
      "Name: Pascal's Triangle\n",
      "Year: 1100.0\n",
      "About:\n",
      "NOTE: This Entry was related to the 2013 April Fools joke. For more information, please check out the KYMdb Offline Crisis Response Initiative.\n",
      "==================================================================\n",
      "\n",
      "Name: Chocolate\n",
      "Year: 1100.0\n",
      "About:\n",
      "Chocolate is a food item known for its sweet taste, its tendency to melt in a hot environment and its all-round delicious nature. Chocolate is typically produced using cocoa solids, sugar and other fats. Milk chocolate, as the name would suggest, is created using milk and is the most common type of chocolate available. In modern culture, chocolate is often lauded as being an incredible food in similar vein to Bacon (which leads to unexpected results when you combine the two)\n",
      "==================================================================\n",
      "\n",
      "Name: V Sign\n",
      "Year: 1415.0\n",
      "About:\n",
      "NOTE: This Entry was related to the 2013 April Fools joke. For more information, please check out the KYMdb Offline Crisis Response Initiative.\n",
      "==================================================================\n",
      "\n",
      "Name: The Last Supper Parodies\n",
      "Year: 1495.0\n",
      "About:\n",
      "nan\n",
      "==================================================================\n",
      "\n",
      "Name: Dented Guitar\n",
      "Year: 1111.0\n",
      "About:\n",
      "1 for the money\n",
      "==================================================================\n",
      "\n"
     ]
    }
   ],
   "source": [
    "ancient = memes[memes.origin_year<1500]\n",
    "for i in ancient.index.tolist():\n",
    "    print(\"Name: {}\".format(ancient.loc[i, \"name\"]))\n",
    "    print(\"Year: {}\".format(ancient.loc[i, \"origin_year\"]))\n",
    "    print(\"About:\\n{}\".format(ancient.loc[i, \"about\"]))\n",
    "    print(\"==================================================================\\n\")"
   ]
  },
  {
   "cell_type": "markdown",
   "metadata": {},
   "source": [
    "# Число просмотров"
   ]
  },
  {
   "cell_type": "code",
   "execution_count": 60,
   "metadata": {},
   "outputs": [
    {
     "data": {
      "image/png": "[encoded data removed]",
      "text/plain": [
       "<Figure size 432x288 with 1 Axes>"
      ]
     },
     "metadata": {
      "needs_background": "light"
     },
     "output_type": "display_data"
    }
   ],
   "source": [
    "memes.views[memes.views>0].hist(bins=10)\n",
    "plt.title(\"Hist of Views\")\n",
    "plt.show()"
   ]
  },
  {
   "cell_type": "code",
   "execution_count": 61,
   "metadata": {},
   "outputs": [
    {
     "data": {
      "image/png": "[encoded data removed]",
      "text/plain": [
       "<Figure size 432x288 with 1 Axes>"
      ]
     },
     "metadata": {
      "needs_background": "light"
     },
     "output_type": "display_data"
    }
   ],
   "source": [
    "memes.views[memes.views>0].apply(np.log).hist(bins=10)\n",
    "plt.title(\"Hist of log Views\")\n",
    "plt.show()"
   ]
  },
  {
   "cell_type": "markdown",
   "metadata": {},
   "source": [
    "# Популярность\n",
    "\n",
    "Метрикой популярности, в данном случае, будет оценка среднего числа просмотров в день. Для этого разделим фактическое число просмотров на число дней, прошедших со дня публикации."
   ]
  },
  {
   "cell_type": "code",
   "execution_count": 62,
   "metadata": {},
   "outputs": [],
   "source": [
    "memes['average_views'] = memes.views/memes.days_from_creation"
   ]
  },
  {
   "cell_type": "code",
   "execution_count": 66,
   "metadata": {},
   "outputs": [
    {
     "data": {
      "text/html": [
       "<div>\n",
       "<style scoped>\n",
       "    .dataframe tbody tr th:only-of-type {\n",
       "        vertical-align: middle;\n",
       "    }\n",
       "\n",
       "    .dataframe tbody tr th {\n",
       "        vertical-align: top;\n",
       "    }\n",
       "\n",
       "    .dataframe thead th {\n",
       "        text-align: right;\n",
       "    }\n",
       "</style>\n",
       "<table border=\"1\" class=\"dataframe\">\n",
       "  <thead>\n",
       "    <tr style=\"text-align: right;\">\n",
       "      <th></th>\n",
       "      <th>name</th>\n",
       "      <th>status</th>\n",
       "      <th>type</th>\n",
       "      <th>origin_year</th>\n",
       "      <th>origin_place</th>\n",
       "      <th>date_added</th>\n",
       "      <th>views</th>\n",
       "      <th>videos</th>\n",
       "      <th>photos</th>\n",
       "      <th>comments</th>\n",
       "      <th>...</th>\n",
       "      <th>origin</th>\n",
       "      <th>other_text</th>\n",
       "      <th>Timestamp</th>\n",
       "      <th>Year</th>\n",
       "      <th>Month</th>\n",
       "      <th>Day</th>\n",
       "      <th>Hour</th>\n",
       "      <th>Weekday</th>\n",
       "      <th>days_from_creation</th>\n",
       "      <th>average_views</th>\n",
       "    </tr>\n",
       "  </thead>\n",
       "  <tbody>\n",
       "    <tr>\n",
       "      <th>831</th>\n",
       "      <td>Flex Tape</td>\n",
       "      <td>Submission</td>\n",
       "      <td>Advertisement</td>\n",
       "      <td>2017.0</td>\n",
       "      <td>Flex Seal</td>\n",
       "      <td>2019-11-06T14:33:40-05:00</td>\n",
       "      <td>92958</td>\n",
       "      <td>27</td>\n",
       "      <td>77</td>\n",
       "      <td>22</td>\n",
       "      <td>...</td>\n",
       "      <td>On January 12th, 2017, Flex Seal uploaded a co...</td>\n",
       "      <td>Spread On September 30th, 2017, popular YouTub...</td>\n",
       "      <td>2019-11-06 14:33:40-05:00</td>\n",
       "      <td>2019</td>\n",
       "      <td>11</td>\n",
       "      <td>6</td>\n",
       "      <td>14</td>\n",
       "      <td>2</td>\n",
       "      <td>0.0</td>\n",
       "      <td>inf</td>\n",
       "    </tr>\n",
       "  </tbody>\n",
       "</table>\n",
       "<p>1 rows × 22 columns</p>\n",
       "</div>"
      ],
      "text/plain": [
       "          name      status           type  origin_year origin_place  \\\n",
       "831  Flex Tape  Submission  Advertisement       2017.0    Flex Seal   \n",
       "\n",
       "                    date_added  views  videos  photos  comments  ...  \\\n",
       "831  2019-11-06T14:33:40-05:00  92958      27      77        22  ...   \n",
       "\n",
       "                                                origin  \\\n",
       "831  On January 12th, 2017, Flex Seal uploaded a co...   \n",
       "\n",
       "                                            other_text  \\\n",
       "831  Spread On September 30th, 2017, popular YouTub...   \n",
       "\n",
       "                     Timestamp  Year Month  Day  Hour  Weekday  \\\n",
       "831  2019-11-06 14:33:40-05:00  2019    11    6    14        2   \n",
       "\n",
       "     days_from_creation  average_views  \n",
       "831                 0.0            inf  \n",
       "\n",
       "[1 rows x 22 columns]"
      ]
     },
     "execution_count": 66,
     "metadata": {},
     "output_type": "execute_result"
    }
   ],
   "source": [
    "memes[memes['average_views']==memes['average_views'].max()]"
   ]
  },
  {
   "cell_type": "code",
   "execution_count": 67,
   "metadata": {},
   "outputs": [],
   "source": [
    "index = memes['average_views']==memes['average_views'].max()\n",
    "memes['average_views'][index] = memes['views'][index]"
   ]
  },
  {
   "cell_type": "code",
   "execution_count": 68,
   "metadata": {},
   "outputs": [
    {
     "data": {
      "image/png": "[encoded data removed]",
      "text/plain": [
       "<Figure size 432x288 with 1 Axes>"
      ]
     },
     "metadata": {
      "needs_background": "light"
     },
     "output_type": "display_data"
    }
   ],
   "source": [
    "plt.hist(memes.average_views.apply(np.log))\n",
    "plt.title(\"Hist of log average views\");"
   ]
  },
  {
   "cell_type": "markdown",
   "metadata": {},
   "source": [
    "### Посмотрим на самые популярные!"
   ]
  },
  {
   "cell_type": "code",
   "execution_count": 69,
   "metadata": {},
   "outputs": [
    {
     "name": "stdout",
     "output_type": "stream",
     "text": [
      "Meme name: \n",
      "Colonel Meow\n",
      "Average views (per day) 536753.0\n",
      "==============\n",
      "\n",
      "Meme name: \n",
      "Distracted Boyfriend\n",
      "Average views (per day) 466923.0\n",
      "==============\n",
      "\n",
      "Meme name: \n",
      "Derp\n",
      "Average views (per day) 300836.0\n",
      "==============\n",
      "\n",
      "Meme name: \n",
      "Need for Speed\n",
      "Average views (per day) 246737.0\n",
      "==============\n",
      "\n",
      "Meme name: \n",
      "Shitposting\n",
      "Average views (per day) 210984.0\n",
      "==============\n",
      "\n",
      "Meme name: \n",
      "Starter Packs\n",
      "Average views (per day) 167624.0\n",
      "==============\n",
      "\n",
      "Meme name: \n",
      "Double D's Facts Book\n",
      "Average views (per day) 166858.0\n",
      "==============\n",
      "\n"
     ]
    }
   ],
   "source": [
    "popular = memes.sort_values(by='average_views', ascending=False)\n",
    "for i in popular.index.tolist()[:7]:\n",
    "    print('Meme name: ')\n",
    "    print(popular.loc[i,'name'])\n",
    "    print(\"Average views (per day) {}\".format(round(popular.loc[i,'average_views'])))\n",
    "    print('==============\\n')"
   ]
  },
  {
   "cell_type": "markdown",
   "metadata": {},
   "source": [
    "# Комментарии"
   ]
  },
  {
   "cell_type": "code",
   "execution_count": 72,
   "metadata": {},
   "outputs": [
    {
     "data": {
      "image/png": "[encoded data removed]",
      "text/plain": [
       "<Figure size 432x288 with 1 Axes>"
      ]
     },
     "metadata": {
      "needs_background": "light"
     },
     "output_type": "display_data"
    }
   ],
   "source": [
    "memes.comments.hist()\n",
    "plt.title(\"Hist of comments\")\n",
    "plt.show()"
   ]
  },
  {
   "cell_type": "markdown",
   "metadata": {},
   "source": [
    "### Посмотрим на самые комментируемые"
   ]
  },
  {
   "cell_type": "code",
   "execution_count": 73,
   "metadata": {},
   "outputs": [],
   "source": [
    "memes['average_comments'] = memes.comments/memes.days_from_creation"
   ]
  },
  {
   "cell_type": "code",
   "execution_count": 74,
   "metadata": {},
   "outputs": [],
   "source": [
    "index = memes['average_comments']==memes['average_comments'].max()\n",
    "memes['average_comments'][index] = memes['comments'][index]"
   ]
  },
  {
   "cell_type": "code",
   "execution_count": 75,
   "metadata": {},
   "outputs": [
    {
     "name": "stdout",
     "output_type": "stream",
     "text": [
      "Meme name: \n",
      "Need for Speed\n",
      "Average comments (per day) 989.0\n",
      "==============\n",
      "\n",
      "Meme name: \n",
      "Hero Cat\n",
      "Average comments (per day) 308.0\n",
      "==============\n",
      "\n",
      "Meme name: \n",
      "Colonel Meow\n",
      "Average comments (per day) 302.0\n",
      "==============\n",
      "\n",
      "Meme name: \n",
      "Miley Cyrus\n",
      "Average comments (per day) 99.0\n",
      "==============\n",
      "\n",
      "Meme name: \n",
      "McDonald’s \"Happy\" Mascot\n",
      "Average comments (per day) 97.0\n",
      "==============\n",
      "\n",
      "Meme name: \n",
      "Metro Man Sees Megamind and Roxie\n",
      "Average comments (per day) 87.0\n",
      "==============\n",
      "\n",
      "Meme name: \n",
      "Double D's Facts Book\n",
      "Average comments (per day) 83.0\n",
      "==============\n",
      "\n"
     ]
    }
   ],
   "source": [
    "popular = memes.sort_values(by='average_comments', ascending=False)\n",
    "for i in popular.index.tolist()[:7]:\n",
    "    print('Meme name: ')\n",
    "    print(popular.loc[i,'name'])\n",
    "    print(\"Average comments (per day) {}\".format(round(popular.loc[i,'average_comments'])))\n",
    "    print('==============\\n')"
   ]
  },
  {
   "cell_type": "markdown",
   "metadata": {},
   "source": [
    "# Статус"
   ]
  },
  {
   "cell_type": "code",
   "execution_count": 76,
   "metadata": {},
   "outputs": [
    {
     "data": {
      "image/png": "[encoded data removed]",
      "text/plain": [
       "<Figure size 432x288 with 1 Axes>"
      ]
     },
     "metadata": {
      "needs_background": "light"
     },
     "output_type": "display_data"
    }
   ],
   "source": [
    "memes.status.value_counts().plot(kind='barh')\n",
    "plt.title(\"Hist of Status\")\n",
    "plt.show()"
   ]
  },
  {
   "cell_type": "markdown",
   "metadata": {},
   "source": [
    "А вот здесь можно попутно решить еще и задачку множественной классификации - для каждого мема есть три состояния:\n",
    "- Submission - добавлен недавно или не еще не стал \"признанным\" в сообществе\n",
    "- Deadpool - если умер и не используется\n",
    "- Confirmed - активно используется и получил статус \"подтвержденного\" мема"
   ]
  },
  {
   "cell_type": "markdown",
   "metadata": {},
   "source": [
    "---\n",
    "\n"
   ]
  },
  {
   "cell_type": "markdown",
   "metadata": {},
   "source": [
    "# ML"
   ]
  },
  {
   "cell_type": "code",
   "execution_count": 77,
   "metadata": {},
   "outputs": [],
   "source": [
    "import nltk\n",
    "from nltk.corpus import stopwords"
   ]
  },
  {
   "cell_type": "code",
   "execution_count": 324,
   "metadata": {},
   "outputs": [],
   "source": [
    "stop = stopwords.words('english')\n",
    "stemmer = nltk.stem.snowball.EnglishStemmer('english')\n",
    "\n",
    "def data_Stemmer(text):\n",
    "    return ' '.join([stemmer.stem(word) for word in text.split(' ') if word not in stop])"
   ]
  },
  {
   "cell_type": "code",
   "execution_count": 361,
   "metadata": {},
   "outputs": [],
   "source": [
    "memes[\"description\"] = memes.tags.fillna(\"\")+' '+\\\n",
    "                       memes.about.fillna(\"\")+' '+\\\n",
    "                       memes.origin.fillna(\"\")+' '+\\\n",
    "                       memes.other_text.fillna(\"\")"
   ]
  },
  {
   "cell_type": "code",
   "execution_count": 362,
   "metadata": {},
   "outputs": [],
   "source": [
    "memes.description = memes.description.apply(lambda x: x.lower().replace('unknown', ''))"
   ]
  },
  {
   "cell_type": "code",
   "execution_count": 363,
   "metadata": {},
   "outputs": [
    {
     "data": {
      "text/plain": [
       "'jay-lee hilzinger & maddie flynn, eshayz, david jones, freakout, jay-lee hilzinger, maddie flynn, frazzle tazz, caiden butler, declan, zinger burgers, simbra, sir david attenborough, daniel sanders muvvafukka refers to a viral video of two teenage girls, jay-lee hilzinger and maddie flynn, having a tantrum in australian department store david jones. quotes from the video, as well as a face hilzinger made in the video, have been parodied in memes in australian areas of the internet. while it appears the original video is deleted, it appears to have been first posted to facebook on october 20th, 2019. the person holding the camera says its \"a sunday,\" indicating the likely date the tantrum was filmed was sunday, october 20th. a screen-capture of the video when it was live on facebook was posted to youtube by user frazzle tazz on the 21st.[1] the screen capture is taken from a video posted by facebook user caiden butler. butler has also posted the video to youtube (shown below). butler also made a screenshot of hilzinger\\'s face in the video his cover photo on the 20th.[2] the face (shown below), would be used in future photoshop memes.     spread after the video grew popular on facebook and youtube, australian internet users began joking about it with various memes. youtuber simbra edited clips of the two girls into a commercial for zinger burgers, making a pun on hilzinger\\'s name, gaining over 5,700 views (shown below, left). user declan made a video in which sir david attenborough\\'s planet earth narration plays over the clip (shown below, right).     the video was also the source of dozens of photoshops, many of which used the face butler screenshot for his cover photo. facebook user daniel sanders[3] posted a collection of photoshops, gaining over 1,400 reactions (examples shown below).     various examples          search interest   trends.embed.renderexplorewidget(\"timeseries\", {\"comparisonitem\":[{\"keyword\":\"muvvafukka\",\"geo\":\"\",\"time\":\"now 7-d\"}],\"category\":0,\"property\":\"\"}, {\"explorequery\":\"date=now%207-d&q=muvvafukka\",\"guestpath\":\"https://trends.google.com:443/trends/embed/\"}); know your meme store external references  [1] youtube – muvvafukka eshay loses her mind! muvaf*ka crazy eshayz bother people. jay lee hilzinger/maddie flynn [2] facebook – caiden butler [3] facebook – daniel sanders'"
      ]
     },
     "execution_count": 363,
     "metadata": {},
     "output_type": "execute_result"
    }
   ],
   "source": [
    "memes.description[0]"
   ]
  },
  {
   "cell_type": "code",
   "execution_count": 364,
   "metadata": {},
   "outputs": [
    {
     "data": {
      "text/plain": [
       "'jay-le hilzing & maddi flynn, eshayz, david jones, freakout, jay-le hilzinger, maddi flynn, frazzl tazz, caiden butler, declan, zinger burgers, simbra, sir david attenborough, daniel sander muvvafukka refer viral video two teenag girls, jay-le hilzing maddi flynn, tantrum australian depart store david jones. quot video, well face hilzing made video, parodi meme australian area internet. appear origin video deleted, appear first post facebook octob 20th, 2019. person hold camera say \"a sunday,\" indic like date tantrum film sunday, octob 20th. screen-captur video live facebook post youtub user frazzl tazz 21st.[1] screen captur taken video post facebook user caiden butler. butler also post video youtub (shown below). butler also made screenshot hilzing face video cover photo 20th.[2] face (shown below), would use futur photoshop memes.     spread video grew popular facebook youtube, australian internet user began joke various memes. youtub simbra edit clip two girl commerci zinger burgers, make pun hilzing name, gain 5,700 view (shown below, left). user declan made video sir david attenborough planet earth narrat play clip (shown below, right).     video also sourc dozen photoshops, mani use face butler screenshot cover photo. facebook user daniel sanders[3] post collect photoshops, gain 1,400 reaction (exampl shown below).     various exampl          search interest   trends.embed.renderexplorewidget(\"timeseries\", {\"comparisonitem\":[{\"keyword\":\"muvvafukka\",\"geo\":\"\",\"time\":\"now 7-d\"}],\"category\":0,\"property\":\"\"}, {\"explorequery\":\"date=now%207-d&q=muvvafukka\",\"guestpath\":\"https://trends.google.com:443/trends/embed/\"}); know meme store extern refer  [1] youtub – muvvafukka eshay lose mind! muvaf*ka crazi eshayz bother people. jay lee hilzinger/maddi flynn [2] facebook – caiden butler [3] facebook – daniel sander'"
      ]
     },
     "execution_count": 364,
     "metadata": {},
     "output_type": "execute_result"
    }
   ],
   "source": [
    "data_Stemmer(memes.description[0])"
   ]
  },
  {
   "cell_type": "code",
   "execution_count": 365,
   "metadata": {},
   "outputs": [],
   "source": [
    "memes.description = memes.description.apply(lambda x: data_Stemmer(x))"
   ]
  },
  {
   "cell_type": "code",
   "execution_count": 366,
   "metadata": {},
   "outputs": [],
   "source": [
    "X = memes.description\n",
    "y = memes.average_views"
   ]
  },
  {
   "cell_type": "markdown",
   "metadata": {},
   "source": [
    "Для TF-IDF попробуем использовать биграммы, а чтобы словарь не раздувался до неадекватных размеров, ограничим минимальную частоты содержания слов в документах 0.1%. То есть будем выкидывать такие слова и биграммы, которые встречаются реже, чем в 0.1% документов. "
   ]
  },
  {
   "cell_type": "code",
   "execution_count": 368,
   "metadata": {},
   "outputs": [],
   "source": [
    "from sklearn.feature_extraction.text import TfidfTransformer, TfidfVectorizer\n",
    "tf_vectorizer = TfidfVectorizer(stop_words=stop, ngram_range=(1, 2), min_df=0.001, norm='l2')"
   ]
  },
  {
   "cell_type": "code",
   "execution_count": 369,
   "metadata": {},
   "outputs": [],
   "source": [
    "Xtr, Xval, ytr, yval  = train_test_split(X, y, test_size=0.30, random_state=42)"
   ]
  },
  {
   "cell_type": "code",
   "execution_count": 370,
   "metadata": {},
   "outputs": [
    {
     "data": {
      "text/plain": [
       "((2944, 38513), (1262, 38513))"
      ]
     },
     "execution_count": 370,
     "metadata": {},
     "output_type": "execute_result"
    }
   ],
   "source": [
    "Xtr_tfidf = tf_vectorizer.fit_transform(Xtr)\n",
    "Xval_tfidf = tf_vectorizer.transform(Xval)\n",
    "Xtr_tfidf.shape, Xval_tfidf.shape"
   ]
  },
  {
   "cell_type": "markdown",
   "metadata": {},
   "source": [
    "Целевую переменную (среднее число просмотров в день), разделим на пять групп по квантилям, одновременно получая наивный baseline - если мы всем объектам примишем один класс, то итоговая точность составит 1/5 = 20%. Еще один плюс подхода - дисбаланса классов у нас точно не будет :)"
   ]
  },
  {
   "cell_type": "code",
   "execution_count": 371,
   "metadata": {},
   "outputs": [],
   "source": [
    "ytr_quantile = pd.qcut(ytr, q=5)"
   ]
  },
  {
   "cell_type": "code",
   "execution_count": 372,
   "metadata": {},
   "outputs": [
    {
     "data": {
      "text/plain": [
       "(206.357, 536753.118]    589\n",
       "(39.263, 206.357]        589\n",
       "(1.794, 11.488]          589\n",
       "(0.096, 1.794]           589\n",
       "(11.488, 39.263]         588\n",
       "Name: average_views, dtype: int64"
      ]
     },
     "execution_count": 372,
     "metadata": {},
     "output_type": "execute_result"
    }
   ],
   "source": [
    "ytr_quantile.value_counts()"
   ]
  },
  {
   "cell_type": "markdown",
   "metadata": {},
   "source": [
    "Для будущих нужд запомним имеющиеся интервалы"
   ]
  },
  {
   "cell_type": "code",
   "execution_count": 373,
   "metadata": {},
   "outputs": [],
   "source": [
    "intervals = ytr_quantile.unique().categories.get_values()"
   ]
  },
  {
   "cell_type": "code",
   "execution_count": 374,
   "metadata": {},
   "outputs": [
    {
     "data": {
      "text/plain": [
       "IntervalArray([(0.096, 1.794], (1.794, 11.488], (11.488, 39.263], (39.263, 206.357], (206.357, 536753.118]],\n",
       "              closed='right',\n",
       "              dtype='interval[float64]')"
      ]
     },
     "execution_count": 374,
     "metadata": {},
     "output_type": "execute_result"
    }
   ],
   "source": [
    "intervals"
   ]
  },
  {
   "cell_type": "markdown",
   "metadata": {},
   "source": [
    "Так как на тестовой выборке мы аналогичное преобразование с квантильным разбиением выполнить не можем (группы не будут совпадать), запишем функцию для преобразования тестовых значений "
   ]
  },
  {
   "cell_type": "code",
   "execution_count": 375,
   "metadata": {},
   "outputs": [],
   "source": [
    "def quantile(y):\n",
    "    for interval in intervals:\n",
    "        if y<=interval.right:\n",
    "            return interval\n",
    "            break\n",
    "    return interval"
   ]
  },
  {
   "cell_type": "code",
   "execution_count": 376,
   "metadata": {},
   "outputs": [],
   "source": [
    "yval_quantile = yval.apply(quantile)"
   ]
  },
  {
   "cell_type": "code",
   "execution_count": 377,
   "metadata": {},
   "outputs": [
    {
     "data": {
      "text/plain": [
       "(39.263, 206.357]        266\n",
       "(11.488, 39.263]         260\n",
       "(0.096, 1.794]           248\n",
       "(206.357, 536753.118]    248\n",
       "(1.794, 11.488]          240\n",
       "Name: average_views, dtype: int64"
      ]
     },
     "execution_count": 377,
     "metadata": {},
     "output_type": "execute_result"
    }
   ],
   "source": [
    "yval_quantile.value_counts()"
   ]
  },
  {
   "cell_type": "markdown",
   "metadata": {},
   "source": [
    "Наконец, для обучения закодируем интервалы при помощи `LabelEncoder()`"
   ]
  },
  {
   "cell_type": "code",
   "execution_count": 378,
   "metadata": {},
   "outputs": [],
   "source": [
    "ytr_quantile = le.fit_transform(ytr_quantile)\n",
    "yval_quantile = le.transform(yval_quantile)"
   ]
  },
  {
   "cell_type": "code",
   "execution_count": 410,
   "metadata": {},
   "outputs": [
    {
     "data": {
      "text/plain": [
       "array([0, 1, 0, ..., 2, 0, 1])"
      ]
     },
     "execution_count": 410,
     "metadata": {},
     "output_type": "execute_result"
    }
   ],
   "source": [
    "ytr_quantile"
   ]
  },
  {
   "cell_type": "markdown",
   "metadata": {},
   "source": [
    "![](https://pp.vk.me/c837129/v837129713/e948/2ruPyl7Dxj8.jpg)"
   ]
  },
  {
   "cell_type": "code",
   "execution_count": 382,
   "metadata": {},
   "outputs": [],
   "source": [
    "from sklearn.linear_model import SGDClassifier, LogisticRegressionCV"
   ]
  },
  {
   "cell_type": "code",
   "execution_count": 383,
   "metadata": {},
   "outputs": [],
   "source": [
    "logit_sgd = SGDClassifier(\n",
    "    loss='log', \n",
    "    shuffle=True, \n",
    "    n_iter_no_change=10, \n",
    "    max_iter=1000, \n",
    "    penalty='l1', \n",
    "    random_state=42\n",
    ")"
   ]
  },
  {
   "cell_type": "code",
   "execution_count": 404,
   "metadata": {},
   "outputs": [
    {
     "name": "stdout",
     "output_type": "stream",
     "text": [
      "0.7754755434782609\n",
      "0.41679873217115687\n",
      "              precision    recall  f1-score   support\n",
      "\n",
      "           0       0.79      0.63      0.70       308\n",
      "           1       0.31      0.33      0.32       225\n",
      "           2       0.32      0.34      0.33       243\n",
      "           3       0.25      0.29      0.27       230\n",
      "           4       0.43      0.41      0.42       256\n",
      "\n",
      "    accuracy                           0.42      1262\n",
      "   macro avg       0.42      0.40      0.41      1262\n",
      "weighted avg       0.44      0.42      0.43      1262\n",
      "\n"
     ]
    }
   ],
   "source": [
    "logit_sgd.fit(Xtr_tfidf, ytr_quantile)\n",
    "\n",
    "print(accuracy_score(logit_sgd.predict(Xtr_tfidf), ytr_quantile))\n",
    "print(accuracy_score(logit_sgd.predict(Xval_tfidf), yval_quantile))\n",
    "\n",
    "print(classification_report(logit_sgd.predict(Xval_tfidf), yval_quantile))"
   ]
  },
  {
   "cell_type": "code",
   "execution_count": 385,
   "metadata": {},
   "outputs": [
    {
     "data": {
      "text/plain": [
       "LogisticRegressionCV(Cs=10, class_weight=None, cv='warn', dual=False,\n",
       "                     fit_intercept=True, intercept_scaling=1.0, l1_ratios=None,\n",
       "                     max_iter=100, multi_class='warn', n_jobs=-1, penalty='l2',\n",
       "                     random_state=None, refit=True, scoring=None,\n",
       "                     solver='lbfgs', tol=0.0001, verbose=0)"
      ]
     },
     "execution_count": 385,
     "metadata": {},
     "output_type": "execute_result"
    }
   ],
   "source": [
    "logit_cv = LogisticRegressionCV(Cs=10, n_jobs=-1)\n",
    "logit_cv.fit(Xtr_tfidf, ytr_quantile)"
   ]
  },
  {
   "cell_type": "code",
   "execution_count": 406,
   "metadata": {},
   "outputs": [
    {
     "name": "stdout",
     "output_type": "stream",
     "text": [
      "0.6501358695652174\n",
      "0.41283676703645006\n",
      "              precision    recall  f1-score   support\n",
      "\n",
      "           0       0.84      0.63      0.72       331\n",
      "           1       0.27      0.38      0.31       169\n",
      "           2       0.00      0.00      0.00         0\n",
      "           3       0.23      0.23      0.23       266\n",
      "           4       0.75      0.38      0.50       496\n",
      "\n",
      "    accuracy                           0.41      1262\n",
      "   macro avg       0.42      0.32      0.35      1262\n",
      "weighted avg       0.60      0.41      0.48      1262\n",
      "\n"
     ]
    }
   ],
   "source": [
    "print(accuracy_score(logit_cv.predict(Xtr_tfidf), ytr_quantile))\n",
    "print(accuracy_score(logit_cv.predict(Xval_tfidf), yval_quantile))\n",
    "\n",
    "print(classification_report(logit_cv.predict(Xval_tfidf), yval_quantile))"
   ]
  },
  {
   "cell_type": "code",
   "execution_count": 389,
   "metadata": {},
   "outputs": [],
   "source": [
    "def visualize_coefficients(coef, feature_names, title, plot_num, n_top_features=25):\n",
    "    interesting_coefficients = np.argsort(coef)[-n_top_features:]\n",
    "    \n",
    "    plt.figure(figsize=(15, 15))\n",
    "    plt.subplot(510+plot_num+1)\n",
    "    colors = [\"lightblue\" for c in coef[interesting_coefficients]]\n",
    "    plt.bar(np.arange(n_top_features), coef[interesting_coefficients], color=colors)\n",
    "    feature_names = np.array(feature_names)\n",
    "    plt.xticks(np.arange(1, 1 + n_top_features), \n",
    "               feature_names[interesting_coefficients], rotation=60, ha=\"right\", fontsize=14);\n",
    "    plt.title(title)"
   ]
  },
  {
   "cell_type": "markdown",
   "metadata": {},
   "source": [
    "На графиках отображены по топ-25 слов, которые (по мнению логистической регресии), наиболее сильно увеличивают вероятность попадания в соответствующий класс популярности"
   ]
  },
  {
   "cell_type": "code",
   "execution_count": 408,
   "metadata": {},
   "outputs": [
    {
     "data": {
      "image/png": "[encoded data removed]",
      "text/plain": [
       "<Figure size 1080x1080 with 1 Axes>"
      ]
     },
     "metadata": {
      "needs_background": "light"
     },
     "output_type": "display_data"
    },
    {
     "data": {
      "image/png": "[encoded data removed]",
      "text/plain": [
       "<Figure size 1080x1080 with 1 Axes>"
      ]
     },
     "metadata": {
      "needs_background": "light"
     },
     "output_type": "display_data"
    },
    {
     "data": {
      "image/png": "[encoded data removed]",
      "text/plain": [
       "<Figure size 1080x1080 with 1 Axes>"
      ]
     },
     "metadata": {
      "needs_background": "light"
     },
     "output_type": "display_data"
    },
    {
     "data": {
      "image/png": "[encoded data removed]",
      "text/plain": [
       "<Figure size 1080x1080 with 1 Axes>"
      ]
     },
     "metadata": {
      "needs_background": "light"
     },
     "output_type": "display_data"
    },
    {
     "data": {
      "image/png": "[encoded data removed]",
      "text/plain": [
       "<Figure size 1080x1080 with 1 Axes>"
      ]
     },
     "metadata": {
      "needs_background": "light"
     },
     "output_type": "display_data"
    }
   ],
   "source": [
    "titles = [\"Very unpopular\", \"Unpopular\", 'Average', 'Popular', 'Very popular']\n",
    "for i in range(5):\n",
    "    visualize_coefficients(logit_sgd.coef_[i,:], tf_vectorizer.get_feature_names(),\n",
    "                      title=titles[i], plot_num=i)"
   ]
  },
  {
   "cell_type": "code",
   "execution_count": 409,
   "metadata": {},
   "outputs": [
    {
     "data": {
      "image/png": "[encoded data removed]",
      "text/plain": [
       "<Figure size 432x288 with 1 Axes>"
      ]
     },
     "metadata": {
      "needs_background": "light"
     },
     "output_type": "display_data"
    }
   ],
   "source": [
    "plt.hist(np.max(logit_sgd.predict_proba(Xval_tfidf), axis=1));"
   ]
  },
  {
   "cell_type": "code",
   "execution_count": 397,
   "metadata": {},
   "outputs": [],
   "source": [
    "predictions = logit_sgd.predict(Xval_tfidf)\n",
    "certainty_mask = np.max(logit_sgd.predict_proba(Xval_tfidf), axis=1)>0.6"
   ]
  },
  {
   "cell_type": "code",
   "execution_count": 398,
   "metadata": {
    "scrolled": false
   },
   "outputs": [],
   "source": [
    "meme_slice = memes.loc[Xval.index[certainty_mask]]\n",
    "meme_slice['actual_popularity'] = le.inverse_transform(predictions[certainty_mask])"
   ]
  },
  {
   "cell_type": "code",
   "execution_count": 399,
   "metadata": {},
   "outputs": [
    {
     "data": {
      "text/html": [
       "<div>\n",
       "<style scoped>\n",
       "    .dataframe tbody tr th:only-of-type {\n",
       "        vertical-align: middle;\n",
       "    }\n",
       "\n",
       "    .dataframe tbody tr th {\n",
       "        vertical-align: top;\n",
       "    }\n",
       "\n",
       "    .dataframe thead th {\n",
       "        text-align: right;\n",
       "    }\n",
       "</style>\n",
       "<table border=\"1\" class=\"dataframe\">\n",
       "  <thead>\n",
       "    <tr style=\"text-align: right;\">\n",
       "      <th></th>\n",
       "      <th>name</th>\n",
       "      <th>origin_year</th>\n",
       "      <th>date_added</th>\n",
       "      <th>views</th>\n",
       "      <th>description</th>\n",
       "      <th>average_views</th>\n",
       "      <th>actual_popularity</th>\n",
       "    </tr>\n",
       "  </thead>\n",
       "  <tbody>\n",
       "    <tr>\n",
       "      <th>1488</th>\n",
       "      <td>Big Smoke's Order</td>\n",
       "      <td>2004.0</td>\n",
       "      <td>2019-08-14T07:37:57-04:00</td>\n",
       "      <td>1041655</td>\n",
       "      <td>big smoke, grand theft auto, san andreas, fast...</td>\n",
       "      <td>12352.075989</td>\n",
       "      <td>(39.263, 206.357]</td>\n",
       "    </tr>\n",
       "    <tr>\n",
       "      <th>1135</th>\n",
       "      <td>Twitch Emotes</td>\n",
       "      <td>2015.0</td>\n",
       "      <td>2019-09-23T08:42:37-04:00</td>\n",
       "      <td>374437</td>\n",
       "      <td>emote, twitch, huwarf, fivethirtyeight, franke...</td>\n",
       "      <td>8455.079225</td>\n",
       "      <td>(206.357, 536753.118]</td>\n",
       "    </tr>\n",
       "    <tr>\n",
       "      <th>2097</th>\n",
       "      <td>/pol/</td>\n",
       "      <td>2011.0</td>\n",
       "      <td>2018-03-11T07:30:52-04:00</td>\n",
       "      <td>344744</td>\n",
       "      <td>pol, 4chan, polit incorrect, politics, 4chan b...</td>\n",
       "      <td>569.509184</td>\n",
       "      <td>(206.357, 536753.118]</td>\n",
       "    </tr>\n",
       "    <tr>\n",
       "      <th>2093</th>\n",
       "      <td>/b/</td>\n",
       "      <td>2004.0</td>\n",
       "      <td>2019-04-30T10:15:11-04:00</td>\n",
       "      <td>301270</td>\n",
       "      <td>4chan, board, 4chan board, random, /b/, new /b...</td>\n",
       "      <td>1583.787975</td>\n",
       "      <td>(206.357, 536753.118]</td>\n",
       "    </tr>\n",
       "    <tr>\n",
       "      <th>4178</th>\n",
       "      <td>Crabcore</td>\n",
       "      <td>2008.0</td>\n",
       "      <td>2018-06-25T14:09:53-04:00</td>\n",
       "      <td>242035</td>\n",
       "      <td>crabcore, attack attack, music, screamo, scene...</td>\n",
       "      <td>484.983532</td>\n",
       "      <td>(11.488, 39.263]</td>\n",
       "    </tr>\n",
       "    <tr>\n",
       "      <th>3553</th>\n",
       "      <td>Dammit Jim, I'm a Doctor, Not a X</td>\n",
       "      <td>1966.0</td>\n",
       "      <td>2011-01-29T23:44:27-05:00</td>\n",
       "      <td>168372</td>\n",
       "      <td>damn damm jim i'm doctor star trek dammit jim,...</td>\n",
       "      <td>52.573247</td>\n",
       "      <td>(1.794, 11.488]</td>\n",
       "    </tr>\n",
       "    <tr>\n",
       "      <th>4139</th>\n",
       "      <td>Bitches and Whores</td>\n",
       "      <td>2008.0</td>\n",
       "      <td>2019-04-11T06:40:13-04:00</td>\n",
       "      <td>161368</td>\n",
       "      <td>catchphrase, 4chan, comic, insult, persona, mi...</td>\n",
       "      <td>770.729580</td>\n",
       "      <td>(206.357, 536753.118]</td>\n",
       "    </tr>\n",
       "    <tr>\n",
       "      <th>1647</th>\n",
       "      <td>Help i accidentally build a shelf!</td>\n",
       "      <td>2013.0</td>\n",
       "      <td>2016-07-26T02:36:54-04:00</td>\n",
       "      <td>119064</td>\n",
       "      <td>\"help accident build shelf\"  googl search sen...</td>\n",
       "      <td>99.340913</td>\n",
       "      <td>(0.096, 1.794]</td>\n",
       "    </tr>\n",
       "    <tr>\n",
       "      <th>439</th>\n",
       "      <td>Lucifersexdoll / What's New, Scooby-Doo?</td>\n",
       "      <td>2018.0</td>\n",
       "      <td>2019-04-11T04:18:11-04:00</td>\n",
       "      <td>118399</td>\n",
       "      <td>tiktok, instagram, scoobi doo, goth, lucifer, ...</td>\n",
       "      <td>565.233765</td>\n",
       "      <td>(206.357, 536753.118]</td>\n",
       "    </tr>\n",
       "    <tr>\n",
       "      <th>4205</th>\n",
       "      <td>I Believe You Have My Stapler</td>\n",
       "      <td>2004.0</td>\n",
       "      <td>2018-04-09T16:28:49-04:00</td>\n",
       "      <td>109512</td>\n",
       "      <td>movie, catchphrase, film, offic space, movi qu...</td>\n",
       "      <td>190.137642</td>\n",
       "      <td>(206.357, 536753.118]</td>\n",
       "    </tr>\n",
       "    <tr>\n",
       "      <th>2658</th>\n",
       "      <td>iFunny</td>\n",
       "      <td>2011.0</td>\n",
       "      <td>2019-10-04T17:53:49-04:00</td>\n",
       "      <td>109217</td>\n",
       "      <td>pictures, iphone, memes, app, ifunny, iron mem...</td>\n",
       "      <td>3319.395904</td>\n",
       "      <td>(206.357, 536753.118]</td>\n",
       "    </tr>\n",
       "    <tr>\n",
       "      <th>3636</th>\n",
       "      <td>It costs X to Y for Z seconds</td>\n",
       "      <td>2009.0</td>\n",
       "      <td>2016-04-16T11:16:03-04:00</td>\n",
       "      <td>68182</td>\n",
       "      <td>heavy, meet team, costs, 12 seconds, tf2 part ...</td>\n",
       "      <td>52.480840</td>\n",
       "      <td>(0.096, 1.794]</td>\n",
       "    </tr>\n",
       "    <tr>\n",
       "      <th>247</th>\n",
       "      <td>Not Funny, Didn't Laugh</td>\n",
       "      <td>2019.0</td>\n",
       "      <td>2019-08-04T08:34:42-04:00</td>\n",
       "      <td>66979</td>\n",
       "      <td>funni laugh, funni laugh, ifunny, reaction, me...</td>\n",
       "      <td>710.343895</td>\n",
       "      <td>(206.357, 536753.118]</td>\n",
       "    </tr>\n",
       "    <tr>\n",
       "      <th>2359</th>\n",
       "      <td>ChaoticMonki / Cryaotic</td>\n",
       "      <td>2006.0</td>\n",
       "      <td>2016-03-23T12:10:37-04:00</td>\n",
       "      <td>61382</td>\n",
       "      <td>youtube, youtuber, dramat reading, let play, p...</td>\n",
       "      <td>46.391125</td>\n",
       "      <td>(206.357, 536753.118]</td>\n",
       "    </tr>\n",
       "    <tr>\n",
       "      <th>95</th>\n",
       "      <td>Joker Stairs</td>\n",
       "      <td>2019.0</td>\n",
       "      <td>2019-11-06T04:56:52-05:00</td>\n",
       "      <td>57540</td>\n",
       "      <td>joker, joaquin phoenix, religi destination, st...</td>\n",
       "      <td>143650.485437</td>\n",
       "      <td>(206.357, 536753.118]</td>\n",
       "    </tr>\n",
       "    <tr>\n",
       "      <th>3709</th>\n",
       "      <td>The guy holding a sewing machine, in front of ...</td>\n",
       "      <td>2004.0</td>\n",
       "      <td>2010-06-08T23:32:14-04:00</td>\n",
       "      <td>51709</td>\n",
       "      <td>ups, truck, unexplainable, sewingmachine, tux,...</td>\n",
       "      <td>15.041885</td>\n",
       "      <td>(0.096, 1.794]</td>\n",
       "    </tr>\n",
       "    <tr>\n",
       "      <th>1330</th>\n",
       "      <td>Easy D</td>\n",
       "      <td>2017.0</td>\n",
       "      <td>2017-02-08T17:08:48-05:00</td>\n",
       "      <td>45896</td>\n",
       "      <td>euphemism, twitter, politics, donald trump, \"e...</td>\n",
       "      <td>45.855085</td>\n",
       "      <td>(11.488, 39.263]</td>\n",
       "    </tr>\n",
       "    <tr>\n",
       "      <th>3952</th>\n",
       "      <td>Reverse Memes</td>\n",
       "      <td>2008.0</td>\n",
       "      <td>2015-05-06T15:31:18-04:00</td>\n",
       "      <td>45021</td>\n",
       "      <td>reverse, revers memes, 4chan, backwards, negat...</td>\n",
       "      <td>27.368362</td>\n",
       "      <td>(0.096, 1.794]</td>\n",
       "    </tr>\n",
       "    <tr>\n",
       "      <th>1268</th>\n",
       "      <td>What Is My Purpose?</td>\n",
       "      <td>2014.0</td>\n",
       "      <td>2017-03-08T17:17:58-05:00</td>\n",
       "      <td>43307</td>\n",
       "      <td>rick morty, robot, butter, butter robot \"what ...</td>\n",
       "      <td>44.513956</td>\n",
       "      <td>(39.263, 206.357]</td>\n",
       "    </tr>\n",
       "    <tr>\n",
       "      <th>910</th>\n",
       "      <td>2017 Hurricane Irma</td>\n",
       "      <td>2017.0</td>\n",
       "      <td>2017-09-06T15:27:20-04:00</td>\n",
       "      <td>35386</td>\n",
       "      <td>hurricane, florida, caribbean 2017 hurrican ir...</td>\n",
       "      <td>44.735529</td>\n",
       "      <td>(11.488, 39.263]</td>\n",
       "    </tr>\n",
       "    <tr>\n",
       "      <th>2390</th>\n",
       "      <td>Free Him</td>\n",
       "      <td>2014.0</td>\n",
       "      <td>2016-05-01T00:47:40-04:00</td>\n",
       "      <td>30271</td>\n",
       "      <td>tumblr, pikachu free phrase use often respons ...</td>\n",
       "      <td>23.564253</td>\n",
       "      <td>(206.357, 536753.118]</td>\n",
       "    </tr>\n",
       "    <tr>\n",
       "      <th>1602</th>\n",
       "      <td>#TrumpGirlsBreakTheInternet</td>\n",
       "      <td>2016.0</td>\n",
       "      <td>2016-06-29T11:49:48-04:00</td>\n",
       "      <td>28189</td>\n",
       "      <td>donald trump, politics, presidenti race #trump...</td>\n",
       "      <td>23.008509</td>\n",
       "      <td>(11.488, 39.263]</td>\n",
       "    </tr>\n",
       "    <tr>\n",
       "      <th>3768</th>\n",
       "      <td>Oh my god, JC a bomb!</td>\n",
       "      <td>2007.0</td>\n",
       "      <td>2010-06-20T23:10:40-04:00</td>\n",
       "      <td>26797</td>\n",
       "      <td>deus ex, quote, catchphrase, jock, youtub wide...</td>\n",
       "      <td>7.822383</td>\n",
       "      <td>(0.096, 1.794]</td>\n",
       "    </tr>\n",
       "    <tr>\n",
       "      <th>1117</th>\n",
       "      <td>Fresh Pizza Girl Meets Raven Girl</td>\n",
       "      <td>2017.0</td>\n",
       "      <td>2017-05-01T13:44:51-04:00</td>\n",
       "      <td>24410</td>\n",
       "      <td>fresh pizza girl, raven girl, twitter, picture...</td>\n",
       "      <td>26.559296</td>\n",
       "      <td>(11.488, 39.263]</td>\n",
       "    </tr>\n",
       "    <tr>\n",
       "      <th>3351</th>\n",
       "      <td>Steve The Red Pikmin</td>\n",
       "      <td>2010.0</td>\n",
       "      <td>2012-12-18T20:49:59-05:00</td>\n",
       "      <td>22746</td>\n",
       "      <td>pikmin, chuggaaconroy, steve steve common know...</td>\n",
       "      <td>9.048673</td>\n",
       "      <td>(0.096, 1.794]</td>\n",
       "    </tr>\n",
       "    <tr>\n",
       "      <th>51</th>\n",
       "      <td>Time Zone War</td>\n",
       "      <td>2018.0</td>\n",
       "      <td>2019-10-22T04:38:43-04:00</td>\n",
       "      <td>22015</td>\n",
       "      <td>time zone, eastern timezone, central timezone,...</td>\n",
       "      <td>1424.474106</td>\n",
       "      <td>(206.357, 536753.118]</td>\n",
       "    </tr>\n",
       "    <tr>\n",
       "      <th>1011</th>\n",
       "      <td>Juggalo March on Washington</td>\n",
       "      <td>2017.0</td>\n",
       "      <td>2017-09-18T11:51:42-04:00</td>\n",
       "      <td>15966</td>\n",
       "      <td>insan clown posse, fbi, juggalo, hatchet rider...</td>\n",
       "      <td>20.491452</td>\n",
       "      <td>(11.488, 39.263]</td>\n",
       "    </tr>\n",
       "    <tr>\n",
       "      <th>1200</th>\n",
       "      <td>#SpicerSpinsMoviePlots</td>\n",
       "      <td>2017.0</td>\n",
       "      <td>2017-04-10T14:29:39-04:00</td>\n",
       "      <td>15520</td>\n",
       "      <td>sean spicer, trump, film, altern fact #spicers...</td>\n",
       "      <td>16.509857</td>\n",
       "      <td>(11.488, 39.263]</td>\n",
       "    </tr>\n",
       "    <tr>\n",
       "      <th>564</th>\n",
       "      <td>Rolling Lemon</td>\n",
       "      <td>2018.0</td>\n",
       "      <td>2018-07-13T13:23:49-04:00</td>\n",
       "      <td>13784</td>\n",
       "      <td>lemon, skaeriver, mike sakasegawa, fruit, roll...</td>\n",
       "      <td>28.651593</td>\n",
       "      <td>(11.488, 39.263]</td>\n",
       "    </tr>\n",
       "    <tr>\n",
       "      <th>423</th>\n",
       "      <td>Because He Can Say the N-Word</td>\n",
       "      <td>2018.0</td>\n",
       "      <td>2019-04-23T04:54:36-04:00</td>\n",
       "      <td>12338</td>\n",
       "      <td>power, text meme, snowclone, phrasal template,...</td>\n",
       "      <td>62.488669</td>\n",
       "      <td>(206.357, 536753.118]</td>\n",
       "    </tr>\n",
       "    <tr>\n",
       "      <th>...</th>\n",
       "      <td>...</td>\n",
       "      <td>...</td>\n",
       "      <td>...</td>\n",
       "      <td>...</td>\n",
       "      <td>...</td>\n",
       "      <td>...</td>\n",
       "      <td>...</td>\n",
       "    </tr>\n",
       "    <tr>\n",
       "      <th>3210</th>\n",
       "      <td>everything changes with bacon</td>\n",
       "      <td>2012.0</td>\n",
       "      <td>2012-03-12T19:42:43-04:00</td>\n",
       "      <td>761</td>\n",
       "      <td>bacon meme show decis tough bacon involved.</td>\n",
       "      <td>0.272289</td>\n",
       "      <td>(0.096, 1.794]</td>\n",
       "    </tr>\n",
       "    <tr>\n",
       "      <th>2763</th>\n",
       "      <td>AthanasianGainsay</td>\n",
       "      <td>2015.0</td>\n",
       "      <td>2013-06-24T15:42:35-04:00</td>\n",
       "      <td>761</td>\n",
       "      <td>fuckass who douchebag?</td>\n",
       "      <td>0.327172</td>\n",
       "      <td>(0.096, 1.794]</td>\n",
       "    </tr>\n",
       "    <tr>\n",
       "      <th>2672</th>\n",
       "      <td>Petulant Hen</td>\n",
       "      <td>2013.0</td>\n",
       "      <td>2013-08-17T17:17:38-04:00</td>\n",
       "      <td>720</td>\n",
       "      <td>angry, chicken, birds, judgmental, petulant, d...</td>\n",
       "      <td>0.316911</td>\n",
       "      <td>(0.096, 1.794]</td>\n",
       "    </tr>\n",
       "    <tr>\n",
       "      <th>1075</th>\n",
       "      <td>X but it's Opposite Day.</td>\n",
       "      <td>2012.0</td>\n",
       "      <td>2017-05-07T13:11:29-04:00</td>\n",
       "      <td>716</td>\n",
       "      <td>day. meme.</td>\n",
       "      <td>0.784143</td>\n",
       "      <td>(0.096, 1.794]</td>\n",
       "    </tr>\n",
       "    <tr>\n",
       "      <th>3416</th>\n",
       "      <td>This is Living</td>\n",
       "      <td>2011.0</td>\n",
       "      <td>2011-09-14T12:02:00-04:00</td>\n",
       "      <td>684</td>\n",
       "      <td>this, living, toyota, allyn, rachel, meme actu...</td>\n",
       "      <td>0.229905</td>\n",
       "      <td>(0.096, 1.794]</td>\n",
       "    </tr>\n",
       "    <tr>\n",
       "      <th>807</th>\n",
       "      <td>weyheyhey !! Sample Pack</td>\n",
       "      <td>2016.0</td>\n",
       "      <td>2018-01-21T16:29:21-05:00</td>\n",
       "      <td>669</td>\n",
       "      <td>music production, breakcore, sampl pack</td>\n",
       "      <td>1.023061</td>\n",
       "      <td>(0.096, 1.794]</td>\n",
       "    </tr>\n",
       "    <tr>\n",
       "      <th>3542</th>\n",
       "      <td>YouDecide</td>\n",
       "      <td>NaN</td>\n",
       "      <td>2011-01-31T07:13:18-05:00</td>\n",
       "      <td>603</td>\n",
       "      <td>edit</td>\n",
       "      <td>0.188361</td>\n",
       "      <td>(0.096, 1.794]</td>\n",
       "    </tr>\n",
       "    <tr>\n",
       "      <th>2499</th>\n",
       "      <td>Drout</td>\n",
       "      <td>NaN</td>\n",
       "      <td>2014-02-11T14:10:54-05:00</td>\n",
       "      <td>585</td>\n",
       "      <td>flush everytim time realli necessary?</td>\n",
       "      <td>0.279368</td>\n",
       "      <td>(0.096, 1.794]</td>\n",
       "    </tr>\n",
       "    <tr>\n",
       "      <th>1618</th>\n",
       "      <td>Hilariously Indecisive Voter Girl</td>\n",
       "      <td>2016.0</td>\n",
       "      <td>2016-06-26T07:36:13-04:00</td>\n",
       "      <td>538</td>\n",
       "      <td>#brexit, #uninformedvoters, #buyersremorse, #o...</td>\n",
       "      <td>0.437992</td>\n",
       "      <td>(0.096, 1.794]</td>\n",
       "    </tr>\n",
       "    <tr>\n",
       "      <th>809</th>\n",
       "      <td>Sergio Ramos</td>\n",
       "      <td>NaN</td>\n",
       "      <td>2018-01-22T07:18:49-05:00</td>\n",
       "      <td>537</td>\n",
       "      <td>sergio ramo wip</td>\n",
       "      <td>0.821978</td>\n",
       "      <td>(0.096, 1.794]</td>\n",
       "    </tr>\n",
       "    <tr>\n",
       "      <th>3320</th>\n",
       "      <td>LOLzxzxzxzx</td>\n",
       "      <td>NaN</td>\n",
       "      <td>2011-12-07T17:48:48-05:00</td>\n",
       "      <td>533</td>\n",
       "      <td>lol</td>\n",
       "      <td>0.184374</td>\n",
       "      <td>(0.096, 1.794]</td>\n",
       "    </tr>\n",
       "    <tr>\n",
       "      <th>263</th>\n",
       "      <td>Make Greece Acid Jamaica</td>\n",
       "      <td>NaN</td>\n",
       "      <td>2019-07-01T15:04:12-04:00</td>\n",
       "      <td>532</td>\n",
       "      <td>make greec acid jamaica</td>\n",
       "      <td>4.155586</td>\n",
       "      <td>(0.096, 1.794]</td>\n",
       "    </tr>\n",
       "    <tr>\n",
       "      <th>1288</th>\n",
       "      <td>Subscribe to AlaawiiGames</td>\n",
       "      <td>2016.0</td>\n",
       "      <td>2017-03-03T10:19:44-05:00</td>\n",
       "      <td>529</td>\n",
       "      <td>alaawiigames, alaawii, sub alaawiigames, subsc...</td>\n",
       "      <td>0.540802</td>\n",
       "      <td>(0.096, 1.794]</td>\n",
       "    </tr>\n",
       "    <tr>\n",
       "      <th>1545</th>\n",
       "      <td>Spung</td>\n",
       "      <td>2015.0</td>\n",
       "      <td>2019-08-15T04:25:06-04:00</td>\n",
       "      <td>505</td>\n",
       "      <td>troll, sneaky, troller, trollface, spoderman, ...</td>\n",
       "      <td>6.050492</td>\n",
       "      <td>(0.096, 1.794]</td>\n",
       "    </tr>\n",
       "    <tr>\n",
       "      <th>1298</th>\n",
       "      <td>B-B-Baka Chambs</td>\n",
       "      <td>2015.0</td>\n",
       "      <td>2017-02-14T15:20:46-05:00</td>\n",
       "      <td>441</td>\n",
       "      <td>baka, inform technologies, infobaka tech, dank...</td>\n",
       "      <td>0.443231</td>\n",
       "      <td>(0.096, 1.794]</td>\n",
       "    </tr>\n",
       "    <tr>\n",
       "      <th>3297</th>\n",
       "      <td>Evil David Stern</td>\n",
       "      <td>NaN</td>\n",
       "      <td>2011-12-11T01:51:47-05:00</td>\n",
       "      <td>432</td>\n",
       "      <td>lockout, david stern, veto david stern…i awful.</td>\n",
       "      <td>0.149609</td>\n",
       "      <td>(0.096, 1.794]</td>\n",
       "    </tr>\n",
       "    <tr>\n",
       "      <th>393</th>\n",
       "      <td>Average Suitcase</td>\n",
       "      <td>2015.0</td>\n",
       "      <td>2019-01-13T21:06:03-05:00</td>\n",
       "      <td>428</td>\n",
       "      <td>s4s, [s4s], /s4s/, 4chan, 4chan.org, 4chan.org...</td>\n",
       "      <td>1.442401</td>\n",
       "      <td>(0.096, 1.794]</td>\n",
       "    </tr>\n",
       "    <tr>\n",
       "      <th>156</th>\n",
       "      <td>Who Is Creeper D?</td>\n",
       "      <td>2019.0</td>\n",
       "      <td>2019-07-20T08:23:16-04:00</td>\n",
       "      <td>385</td>\n",
       "      <td>creeper d, who?, skellux creeper d?</td>\n",
       "      <td>3.522451</td>\n",
       "      <td>(0.096, 1.794]</td>\n",
       "    </tr>\n",
       "    <tr>\n",
       "      <th>3055</th>\n",
       "      <td>Crack-roll</td>\n",
       "      <td>2012.0</td>\n",
       "      <td>2012-09-23T14:38:44-04:00</td>\n",
       "      <td>384</td>\n",
       "      <td>youtube, video, roll, meme, bait, switch, crac...</td>\n",
       "      <td>0.147690</td>\n",
       "      <td>(0.096, 1.794]</td>\n",
       "    </tr>\n",
       "    <tr>\n",
       "      <th>990</th>\n",
       "      <td>My Name Is Kacper</td>\n",
       "      <td>2017.0</td>\n",
       "      <td>2017-08-24T06:09:13-04:00</td>\n",
       "      <td>362</td>\n",
       "      <td>lol</td>\n",
       "      <td>0.450029</td>\n",
       "      <td>(0.096, 1.794]</td>\n",
       "    </tr>\n",
       "    <tr>\n",
       "      <th>3300</th>\n",
       "      <td>Locking</td>\n",
       "      <td>2011.0</td>\n",
       "      <td>2011-12-09T20:39:51-05:00</td>\n",
       "      <td>361</td>\n",
       "      <td>lock origin highschool idea lock peopl thing t...</td>\n",
       "      <td>0.124968</td>\n",
       "      <td>(0.096, 1.794]</td>\n",
       "    </tr>\n",
       "    <tr>\n",
       "      <th>56</th>\n",
       "      <td>Balkan Memes</td>\n",
       "      <td>2019.0</td>\n",
       "      <td>2019-10-18T02:23:02-04:00</td>\n",
       "      <td>345</td>\n",
       "      <td>[w.i.p]  spread various exampl search interes...</td>\n",
       "      <td>17.647916</td>\n",
       "      <td>(11.488, 39.263]</td>\n",
       "    </tr>\n",
       "    <tr>\n",
       "      <th>1047</th>\n",
       "      <td>Miyako</td>\n",
       "      <td>2017.0</td>\n",
       "      <td>2017-07-13T06:43:58-04:00</td>\n",
       "      <td>302</td>\n",
       "      <td>miyako miyako spiciest meme yukitheat</td>\n",
       "      <td>0.356819</td>\n",
       "      <td>(0.096, 1.794]</td>\n",
       "    </tr>\n",
       "    <tr>\n",
       "      <th>1095</th>\n",
       "      <td>Rawr XD King Ivy</td>\n",
       "      <td>2016.0</td>\n",
       "      <td>2017-05-04T13:27:09-04:00</td>\n",
       "      <td>301</td>\n",
       "      <td>king ivi rawr xd meme publish onto youtub oct...</td>\n",
       "      <td>0.328571</td>\n",
       "      <td>(0.096, 1.794]</td>\n",
       "    </tr>\n",
       "    <tr>\n",
       "      <th>1553</th>\n",
       "      <td>SKITTULS/Excited Skittles Vendor</td>\n",
       "      <td>2014.0</td>\n",
       "      <td>2016-07-11T16:14:30-04:00</td>\n",
       "      <td>269</td>\n",
       "      <td>skittul man taylor swift concert sell skittles...</td>\n",
       "      <td>0.221769</td>\n",
       "      <td>(0.096, 1.794]</td>\n",
       "    </tr>\n",
       "    <tr>\n",
       "      <th>351</th>\n",
       "      <td>Golden Kamuy</td>\n",
       "      <td>NaN</td>\n",
       "      <td>2019-05-01T10:26:26-04:00</td>\n",
       "      <td>263</td>\n",
       "      <td>deadpool plagiar</td>\n",
       "      <td>1.389965</td>\n",
       "      <td>(0.096, 1.794]</td>\n",
       "    </tr>\n",
       "    <tr>\n",
       "      <th>217</th>\n",
       "      <td>Timomatic</td>\n",
       "      <td>2019.0</td>\n",
       "      <td>2019-07-07T09:19:43-04:00</td>\n",
       "      <td>229</td>\n",
       "      <td>australia, timomat australian singer/dancer, t...</td>\n",
       "      <td>1.873062</td>\n",
       "      <td>(0.096, 1.794]</td>\n",
       "    </tr>\n",
       "    <tr>\n",
       "      <th>1593</th>\n",
       "      <td>Balls televison</td>\n",
       "      <td>2016.0</td>\n",
       "      <td>2016-07-02T04:11:32-04:00</td>\n",
       "      <td>174</td>\n",
       "      <td>simmer ball televison witch got popular 2016 s...</td>\n",
       "      <td>0.142334</td>\n",
       "      <td>(0.096, 1.794]</td>\n",
       "    </tr>\n",
       "    <tr>\n",
       "      <th>1022</th>\n",
       "      <td>Bob gets jolted</td>\n",
       "      <td>NaN</td>\n",
       "      <td>2018-08-24T22:22:18-04:00</td>\n",
       "      <td>157</td>\n",
       "      <td>funny, electric, shocking, sarah, bob novemb 2...</td>\n",
       "      <td>0.357862</td>\n",
       "      <td>(0.096, 1.794]</td>\n",
       "    </tr>\n",
       "    <tr>\n",
       "      <th>33</th>\n",
       "      <td>Wesley Ford (Also known as Wesley_Ford, or u/W...</td>\n",
       "      <td>2019.0</td>\n",
       "      <td>2019-10-20T12:12:23-04:00</td>\n",
       "      <td>146</td>\n",
       "      <td>troll, reddit, hypixel, minecraft wesley ford ...</td>\n",
       "      <td>8.518196</td>\n",
       "      <td>(206.357, 536753.118]</td>\n",
       "    </tr>\n",
       "  </tbody>\n",
       "</table>\n",
       "<p>136 rows × 7 columns</p>\n",
       "</div>"
      ],
      "text/plain": [
       "                                                   name  origin_year  \\\n",
       "1488                                  Big Smoke's Order       2004.0   \n",
       "1135                                      Twitch Emotes       2015.0   \n",
       "2097                                              /pol/       2011.0   \n",
       "2093                                                /b/       2004.0   \n",
       "4178                                           Crabcore       2008.0   \n",
       "3553                  Dammit Jim, I'm a Doctor, Not a X       1966.0   \n",
       "4139                                 Bitches and Whores       2008.0   \n",
       "1647                 Help i accidentally build a shelf!       2013.0   \n",
       "439            Lucifersexdoll / What's New, Scooby-Doo?       2018.0   \n",
       "4205                      I Believe You Have My Stapler       2004.0   \n",
       "2658                                             iFunny       2011.0   \n",
       "3636                      It costs X to Y for Z seconds       2009.0   \n",
       "247                             Not Funny, Didn't Laugh       2019.0   \n",
       "2359                            ChaoticMonki / Cryaotic       2006.0   \n",
       "95                                         Joker Stairs       2019.0   \n",
       "3709  The guy holding a sewing machine, in front of ...       2004.0   \n",
       "1330                                             Easy D       2017.0   \n",
       "3952                                      Reverse Memes       2008.0   \n",
       "1268                                What Is My Purpose?       2014.0   \n",
       "910                                 2017 Hurricane Irma       2017.0   \n",
       "2390                                           Free Him       2014.0   \n",
       "1602                        #TrumpGirlsBreakTheInternet       2016.0   \n",
       "3768                              Oh my god, JC a bomb!       2007.0   \n",
       "1117                  Fresh Pizza Girl Meets Raven Girl       2017.0   \n",
       "3351                               Steve The Red Pikmin       2010.0   \n",
       "51                                        Time Zone War       2018.0   \n",
       "1011                        Juggalo March on Washington       2017.0   \n",
       "1200                             #SpicerSpinsMoviePlots       2017.0   \n",
       "564                                       Rolling Lemon       2018.0   \n",
       "423                       Because He Can Say the N-Word       2018.0   \n",
       "...                                                 ...          ...   \n",
       "3210                      everything changes with bacon       2012.0   \n",
       "2763                                  AthanasianGainsay       2015.0   \n",
       "2672                                       Petulant Hen       2013.0   \n",
       "1075                           X but it's Opposite Day.       2012.0   \n",
       "3416                                     This is Living       2011.0   \n",
       "807                            weyheyhey !! Sample Pack       2016.0   \n",
       "3542                                          YouDecide          NaN   \n",
       "2499                                              Drout          NaN   \n",
       "1618                  Hilariously Indecisive Voter Girl       2016.0   \n",
       "809                                        Sergio Ramos          NaN   \n",
       "3320                                        LOLzxzxzxzx          NaN   \n",
       "263                            Make Greece Acid Jamaica          NaN   \n",
       "1288                          Subscribe to AlaawiiGames       2016.0   \n",
       "1545                                              Spung       2015.0   \n",
       "1298                                    B-B-Baka Chambs       2015.0   \n",
       "3297                                   Evil David Stern          NaN   \n",
       "393                                    Average Suitcase       2015.0   \n",
       "156                                   Who Is Creeper D?       2019.0   \n",
       "3055                                         Crack-roll       2012.0   \n",
       "990                                   My Name Is Kacper       2017.0   \n",
       "3300                                            Locking       2011.0   \n",
       "56                                         Balkan Memes       2019.0   \n",
       "1047                                             Miyako       2017.0   \n",
       "1095                                   Rawr XD King Ivy       2016.0   \n",
       "1553                   SKITTULS/Excited Skittles Vendor       2014.0   \n",
       "351                                        Golden Kamuy          NaN   \n",
       "217                                           Timomatic       2019.0   \n",
       "1593                                    Balls televison       2016.0   \n",
       "1022                                    Bob gets jolted          NaN   \n",
       "33    Wesley Ford (Also known as Wesley_Ford, or u/W...       2019.0   \n",
       "\n",
       "                     date_added    views  \\\n",
       "1488  2019-08-14T07:37:57-04:00  1041655   \n",
       "1135  2019-09-23T08:42:37-04:00   374437   \n",
       "2097  2018-03-11T07:30:52-04:00   344744   \n",
       "2093  2019-04-30T10:15:11-04:00   301270   \n",
       "4178  2018-06-25T14:09:53-04:00   242035   \n",
       "3553  2011-01-29T23:44:27-05:00   168372   \n",
       "4139  2019-04-11T06:40:13-04:00   161368   \n",
       "1647  2016-07-26T02:36:54-04:00   119064   \n",
       "439   2019-04-11T04:18:11-04:00   118399   \n",
       "4205  2018-04-09T16:28:49-04:00   109512   \n",
       "2658  2019-10-04T17:53:49-04:00   109217   \n",
       "3636  2016-04-16T11:16:03-04:00    68182   \n",
       "247   2019-08-04T08:34:42-04:00    66979   \n",
       "2359  2016-03-23T12:10:37-04:00    61382   \n",
       "95    2019-11-06T04:56:52-05:00    57540   \n",
       "3709  2010-06-08T23:32:14-04:00    51709   \n",
       "1330  2017-02-08T17:08:48-05:00    45896   \n",
       "3952  2015-05-06T15:31:18-04:00    45021   \n",
       "1268  2017-03-08T17:17:58-05:00    43307   \n",
       "910   2017-09-06T15:27:20-04:00    35386   \n",
       "2390  2016-05-01T00:47:40-04:00    30271   \n",
       "1602  2016-06-29T11:49:48-04:00    28189   \n",
       "3768  2010-06-20T23:10:40-04:00    26797   \n",
       "1117  2017-05-01T13:44:51-04:00    24410   \n",
       "3351  2012-12-18T20:49:59-05:00    22746   \n",
       "51    2019-10-22T04:38:43-04:00    22015   \n",
       "1011  2017-09-18T11:51:42-04:00    15966   \n",
       "1200  2017-04-10T14:29:39-04:00    15520   \n",
       "564   2018-07-13T13:23:49-04:00    13784   \n",
       "423   2019-04-23T04:54:36-04:00    12338   \n",
       "...                         ...      ...   \n",
       "3210  2012-03-12T19:42:43-04:00      761   \n",
       "2763  2013-06-24T15:42:35-04:00      761   \n",
       "2672  2013-08-17T17:17:38-04:00      720   \n",
       "1075  2017-05-07T13:11:29-04:00      716   \n",
       "3416  2011-09-14T12:02:00-04:00      684   \n",
       "807   2018-01-21T16:29:21-05:00      669   \n",
       "3542  2011-01-31T07:13:18-05:00      603   \n",
       "2499  2014-02-11T14:10:54-05:00      585   \n",
       "1618  2016-06-26T07:36:13-04:00      538   \n",
       "809   2018-01-22T07:18:49-05:00      537   \n",
       "3320  2011-12-07T17:48:48-05:00      533   \n",
       "263   2019-07-01T15:04:12-04:00      532   \n",
       "1288  2017-03-03T10:19:44-05:00      529   \n",
       "1545  2019-08-15T04:25:06-04:00      505   \n",
       "1298  2017-02-14T15:20:46-05:00      441   \n",
       "3297  2011-12-11T01:51:47-05:00      432   \n",
       "393   2019-01-13T21:06:03-05:00      428   \n",
       "156   2019-07-20T08:23:16-04:00      385   \n",
       "3055  2012-09-23T14:38:44-04:00      384   \n",
       "990   2017-08-24T06:09:13-04:00      362   \n",
       "3300  2011-12-09T20:39:51-05:00      361   \n",
       "56    2019-10-18T02:23:02-04:00      345   \n",
       "1047  2017-07-13T06:43:58-04:00      302   \n",
       "1095  2017-05-04T13:27:09-04:00      301   \n",
       "1553  2016-07-11T16:14:30-04:00      269   \n",
       "351   2019-05-01T10:26:26-04:00      263   \n",
       "217   2019-07-07T09:19:43-04:00      229   \n",
       "1593  2016-07-02T04:11:32-04:00      174   \n",
       "1022  2018-08-24T22:22:18-04:00      157   \n",
       "33    2019-10-20T12:12:23-04:00      146   \n",
       "\n",
       "                                            description  average_views  \\\n",
       "1488  big smoke, grand theft auto, san andreas, fast...   12352.075989   \n",
       "1135  emote, twitch, huwarf, fivethirtyeight, franke...    8455.079225   \n",
       "2097  pol, 4chan, polit incorrect, politics, 4chan b...     569.509184   \n",
       "2093  4chan, board, 4chan board, random, /b/, new /b...    1583.787975   \n",
       "4178  crabcore, attack attack, music, screamo, scene...     484.983532   \n",
       "3553  damn damm jim i'm doctor star trek dammit jim,...      52.573247   \n",
       "4139  catchphrase, 4chan, comic, insult, persona, mi...     770.729580   \n",
       "1647   \"help accident build shelf\"  googl search sen...      99.340913   \n",
       "439   tiktok, instagram, scoobi doo, goth, lucifer, ...     565.233765   \n",
       "4205  movie, catchphrase, film, offic space, movi qu...     190.137642   \n",
       "2658  pictures, iphone, memes, app, ifunny, iron mem...    3319.395904   \n",
       "3636  heavy, meet team, costs, 12 seconds, tf2 part ...      52.480840   \n",
       "247   funni laugh, funni laugh, ifunny, reaction, me...     710.343895   \n",
       "2359  youtube, youtuber, dramat reading, let play, p...      46.391125   \n",
       "95    joker, joaquin phoenix, religi destination, st...  143650.485437   \n",
       "3709  ups, truck, unexplainable, sewingmachine, tux,...      15.041885   \n",
       "1330  euphemism, twitter, politics, donald trump, \"e...      45.855085   \n",
       "3952  reverse, revers memes, 4chan, backwards, negat...      27.368362   \n",
       "1268  rick morty, robot, butter, butter robot \"what ...      44.513956   \n",
       "910   hurricane, florida, caribbean 2017 hurrican ir...      44.735529   \n",
       "2390  tumblr, pikachu free phrase use often respons ...      23.564253   \n",
       "1602  donald trump, politics, presidenti race #trump...      23.008509   \n",
       "3768  deus ex, quote, catchphrase, jock, youtub wide...       7.822383   \n",
       "1117  fresh pizza girl, raven girl, twitter, picture...      26.559296   \n",
       "3351  pikmin, chuggaaconroy, steve steve common know...       9.048673   \n",
       "51    time zone, eastern timezone, central timezone,...    1424.474106   \n",
       "1011  insan clown posse, fbi, juggalo, hatchet rider...      20.491452   \n",
       "1200  sean spicer, trump, film, altern fact #spicers...      16.509857   \n",
       "564   lemon, skaeriver, mike sakasegawa, fruit, roll...      28.651593   \n",
       "423   power, text meme, snowclone, phrasal template,...      62.488669   \n",
       "...                                                 ...            ...   \n",
       "3210      bacon meme show decis tough bacon involved.         0.272289   \n",
       "2763                           fuckass who douchebag?         0.327172   \n",
       "2672  angry, chicken, birds, judgmental, petulant, d...       0.316911   \n",
       "1075                                       day. meme.         0.784143   \n",
       "3416  this, living, toyota, allyn, rachel, meme actu...       0.229905   \n",
       "807          music production, breakcore, sampl pack          1.023061   \n",
       "3542                                             edit         0.188361   \n",
       "2499            flush everytim time realli necessary?         0.279368   \n",
       "1618  #brexit, #uninformedvoters, #buyersremorse, #o...       0.437992   \n",
       "809                                   sergio ramo wip         0.821978   \n",
       "3320                                              lol         0.184374   \n",
       "263                           make greec acid jamaica         4.155586   \n",
       "1288  alaawiigames, alaawii, sub alaawiigames, subsc...       0.540802   \n",
       "1545  troll, sneaky, troller, trollface, spoderman, ...       6.050492   \n",
       "1298  baka, inform technologies, infobaka tech, dank...       0.443231   \n",
       "3297  lockout, david stern, veto david stern…i awful.         0.149609   \n",
       "393   s4s, [s4s], /s4s/, 4chan, 4chan.org, 4chan.org...       1.442401   \n",
       "156               creeper d, who?, skellux creeper d?         3.522451   \n",
       "3055  youtube, video, roll, meme, bait, switch, crac...       0.147690   \n",
       "990                                               lol         0.450029   \n",
       "3300  lock origin highschool idea lock peopl thing t...       0.124968   \n",
       "56     [w.i.p]  spread various exampl search interes...      17.647916   \n",
       "1047            miyako miyako spiciest meme yukitheat         0.356819   \n",
       "1095   king ivi rawr xd meme publish onto youtub oct...       0.328571   \n",
       "1553  skittul man taylor swift concert sell skittles...       0.221769   \n",
       "351                                  deadpool plagiar         1.389965   \n",
       "217   australia, timomat australian singer/dancer, t...       1.873062   \n",
       "1593  simmer ball televison witch got popular 2016 s...       0.142334   \n",
       "1022  funny, electric, shocking, sarah, bob novemb 2...       0.357862   \n",
       "33    troll, reddit, hypixel, minecraft wesley ford ...       8.518196   \n",
       "\n",
       "          actual_popularity  \n",
       "1488      (39.263, 206.357]  \n",
       "1135  (206.357, 536753.118]  \n",
       "2097  (206.357, 536753.118]  \n",
       "2093  (206.357, 536753.118]  \n",
       "4178       (11.488, 39.263]  \n",
       "3553        (1.794, 11.488]  \n",
       "4139  (206.357, 536753.118]  \n",
       "1647         (0.096, 1.794]  \n",
       "439   (206.357, 536753.118]  \n",
       "4205  (206.357, 536753.118]  \n",
       "2658  (206.357, 536753.118]  \n",
       "3636         (0.096, 1.794]  \n",
       "247   (206.357, 536753.118]  \n",
       "2359  (206.357, 536753.118]  \n",
       "95    (206.357, 536753.118]  \n",
       "3709         (0.096, 1.794]  \n",
       "1330       (11.488, 39.263]  \n",
       "3952         (0.096, 1.794]  \n",
       "1268      (39.263, 206.357]  \n",
       "910        (11.488, 39.263]  \n",
       "2390  (206.357, 536753.118]  \n",
       "1602       (11.488, 39.263]  \n",
       "3768         (0.096, 1.794]  \n",
       "1117       (11.488, 39.263]  \n",
       "3351         (0.096, 1.794]  \n",
       "51    (206.357, 536753.118]  \n",
       "1011       (11.488, 39.263]  \n",
       "1200       (11.488, 39.263]  \n",
       "564        (11.488, 39.263]  \n",
       "423   (206.357, 536753.118]  \n",
       "...                     ...  \n",
       "3210         (0.096, 1.794]  \n",
       "2763         (0.096, 1.794]  \n",
       "2672         (0.096, 1.794]  \n",
       "1075         (0.096, 1.794]  \n",
       "3416         (0.096, 1.794]  \n",
       "807          (0.096, 1.794]  \n",
       "3542         (0.096, 1.794]  \n",
       "2499         (0.096, 1.794]  \n",
       "1618         (0.096, 1.794]  \n",
       "809          (0.096, 1.794]  \n",
       "3320         (0.096, 1.794]  \n",
       "263          (0.096, 1.794]  \n",
       "1288         (0.096, 1.794]  \n",
       "1545         (0.096, 1.794]  \n",
       "1298         (0.096, 1.794]  \n",
       "3297         (0.096, 1.794]  \n",
       "393          (0.096, 1.794]  \n",
       "156          (0.096, 1.794]  \n",
       "3055         (0.096, 1.794]  \n",
       "990          (0.096, 1.794]  \n",
       "3300         (0.096, 1.794]  \n",
       "56         (11.488, 39.263]  \n",
       "1047         (0.096, 1.794]  \n",
       "1095         (0.096, 1.794]  \n",
       "1553         (0.096, 1.794]  \n",
       "351          (0.096, 1.794]  \n",
       "217          (0.096, 1.794]  \n",
       "1593         (0.096, 1.794]  \n",
       "1022         (0.096, 1.794]  \n",
       "33    (206.357, 536753.118]  \n",
       "\n",
       "[136 rows x 7 columns]"
      ]
     },
     "execution_count": 399,
     "metadata": {},
     "output_type": "execute_result"
    }
   ],
   "source": [
    "meme_slice[\n",
    "    ['name', 'origin_year', 'date_added', 'views', 'description', 'average_views', 'actual_popularity']\n",
    "].sort_values(by='views', ascending=False)"
   ]
  },
  {
   "cell_type": "markdown",
   "metadata": {},
   "source": [
    "### А теперь можно взглянуть на confusion matrix и посмотреть, где же косячат модели"
   ]
  },
  {
   "cell_type": "code",
   "execution_count": 400,
   "metadata": {},
   "outputs": [],
   "source": [
    "def plot_confusion(predictions, yval, title):\n",
    "    array = confusion_matrix(yval, predictions)\n",
    "    df_cm = pd.DataFrame(array, index = [i for i in titles],\n",
    "                      columns = [i for i in titles])\n",
    "    plt.figure(figsize = (7,7))\n",
    "    sn.heatmap(df_cm, annot=True, fmt='g', cbar=False)\n",
    "    plt.title(title);"
   ]
  },
  {
   "cell_type": "code",
   "execution_count": 401,
   "metadata": {},
   "outputs": [
    {
     "data": {
      "image/png": "[encoded data removed]",
      "text/plain": [
       "<Figure size 504x504 with 1 Axes>"
      ]
     },
     "metadata": {
      "needs_background": "light"
     },
     "output_type": "display_data"
    }
   ],
   "source": [
    "plot_confusion(logit_sgd.predict(Xval_tfidf), yval_quantile, \"Logit regression\")"
   ]
  }
 ],
 "metadata": {
  "anaconda-cloud": {},
  "kernelspec": {
   "display_name": "Python 3",
   "language": "python",
   "name": "python3"
  },
  "language_info": {
   "codemirror_mode": {
    "name": "ipython",
    "version": 3
   },
   "file_extension": ".py",
   "mimetype": "text/x-python",
   "name": "python",
   "nbconvert_exporter": "python",
   "pygments_lexer": "ipython3",
   "version": "3.7.4"
  },
  "varInspector": {
   "cols": {
    "lenName": 16,
    "lenType": 16,
    "lenVar": 40
   },
   "kernels_config": {
    "python": {
     "delete_cmd_postfix": "",
     "delete_cmd_prefix": "del ",
     "library": "var_list.py",
     "varRefreshCmd": "print(var_dic_list())"
    },
    "r": {
     "delete_cmd_postfix": ") ",
     "delete_cmd_prefix": "rm(",
     "library": "var_list.r",
     "varRefreshCmd": "cat(var_dic_list()) "
    }
   },
   "types_to_exclude": [
    "module",
    "function",
    "builtin_function_or_method",
    "instance",
    "_Feature"
   ],
   "window_display": false
  }
 },
 "nbformat": 4,
 "nbformat_minor": 1
}
