{
 "cells": [
  {
   "cell_type": "markdown",
   "metadata": {},
   "source": [
    "# Цель"
   ]
  },
  {
   "cell_type": "markdown",
   "metadata": {},
   "source": [
    "Сравнение трех разобранных алгоритмов бустинга и подбор гиперпараметров для получения лучшего качества.\n",
    "Использовать любой датасет для задачи классификации."
   ]
  },
  {
   "cell_type": "code",
   "execution_count": 60,
   "metadata": {},
   "outputs": [],
   "source": [
    "import time\n",
    "import re\n",
    "# from __future__ import print_function\n",
    "from collections import defaultdict\n",
    "\n",
    "import pandas as pd\n",
    "import numpy as np\n",
    "import matplotlib\n",
    "import matplotlib.pyplot as plt\n",
    "import matplotlib.cm as cm\n",
    "import seaborn as sns\n",
    "\n",
    "from sklearn.base import BaseEstimator, TransformerMixin\n",
    "from sklearn.pipeline import make_union, make_pipeline\n",
    "from sklearn.preprocessing import FunctionTransformer, StandardScaler, LabelEncoder, MinMaxScaler,  Imputer, LabelBinarizer, OneHotEncoder\n",
    "from sklearn.feature_extraction import DictVectorizer\n",
    "from sklearn.linear_model import LogisticRegressionCV\n",
    "from sklearn.metrics import accuracy_score\n",
    "from sklearn.model_selection import RandomizedSearchCV\n",
    "\n",
    "import xgboost as xgb\n",
    "# import lightgbm as lgb\n",
    "\n",
    "%matplotlib inline\n",
    "plt.rcParams[\"figure.figsize\"] = (15, 8)\n",
    "pd.options.display.float_format = '{:.2f}'.format\n",
    "\n",
    "import warnings\n",
    "warnings.filterwarnings(\"ignore\")"
   ]
  },
  {
   "cell_type": "markdown",
   "metadata": {},
   "source": [
    "# Датасет"
   ]
  },
  {
   "cell_type": "markdown",
   "metadata": {},
   "source": [
    "Описание:\n",
    "\n",
    "Предскажите задержки вылета в 15 и более минут. Известно время вылета, авиакомпания-перевозчик, место вылета и назначения, а также расстояние между ними. Прогнозируемый признак – бинарный, целевая метрика – ROC AUC. "
   ]
  },
  {
   "cell_type": "markdown",
   "metadata": {},
   "source": [
    "https://www.kaggle.com/c/flight-delays-2017/overview"
   ]
  },
  {
   "cell_type": "markdown",
   "metadata": {},
   "source": [
    "flight_delays_train.csv – обучающая выборка\n",
    "\n",
    "flight_delays_test.csv – тестовая выборка\n",
    "\n",
    "sample_submission.csv – пример файла посылки\n",
    "\n",
    "Признаки:\n",
    "\n",
    "- Month, DayofMonth, DayOfWeek, месяц, день месяца и день недели\n",
    "- DepTime, время отправления\n",
    "- UniqueCarrier, код перевозчика\n",
    "- Origin, место вылета\n",
    "- Dest, место назначения\n",
    "- Distance, расстояние между аэропортами вылета и прилета\n",
    "- dep_delayed_15min, просрочка вылета на 15 и более минут (целевой признак)\n"
   ]
  },
  {
   "cell_type": "code",
   "execution_count": 5,
   "metadata": {},
   "outputs": [
    {
     "data": {
      "text/html": [
       "<div>\n",
       "<style scoped>\n",
       "    .dataframe tbody tr th:only-of-type {\n",
       "        vertical-align: middle;\n",
       "    }\n",
       "\n",
       "    .dataframe tbody tr th {\n",
       "        vertical-align: top;\n",
       "    }\n",
       "\n",
       "    .dataframe thead th {\n",
       "        text-align: right;\n",
       "    }\n",
       "</style>\n",
       "<table border=\"1\" class=\"dataframe\">\n",
       "  <thead>\n",
       "    <tr style=\"text-align: right;\">\n",
       "      <th></th>\n",
       "      <th>Month</th>\n",
       "      <th>DayofMonth</th>\n",
       "      <th>DayOfWeek</th>\n",
       "      <th>DepTime</th>\n",
       "      <th>UniqueCarrier</th>\n",
       "      <th>Origin</th>\n",
       "      <th>Dest</th>\n",
       "      <th>Distance</th>\n",
       "      <th>dep_delayed_15min</th>\n",
       "    </tr>\n",
       "  </thead>\n",
       "  <tbody>\n",
       "    <tr>\n",
       "      <th>0</th>\n",
       "      <td>c-8</td>\n",
       "      <td>c-21</td>\n",
       "      <td>c-7</td>\n",
       "      <td>1934</td>\n",
       "      <td>AA</td>\n",
       "      <td>ATL</td>\n",
       "      <td>DFW</td>\n",
       "      <td>732</td>\n",
       "      <td>N</td>\n",
       "    </tr>\n",
       "    <tr>\n",
       "      <th>1</th>\n",
       "      <td>c-4</td>\n",
       "      <td>c-20</td>\n",
       "      <td>c-3</td>\n",
       "      <td>1548</td>\n",
       "      <td>US</td>\n",
       "      <td>PIT</td>\n",
       "      <td>MCO</td>\n",
       "      <td>834</td>\n",
       "      <td>N</td>\n",
       "    </tr>\n",
       "    <tr>\n",
       "      <th>2</th>\n",
       "      <td>c-9</td>\n",
       "      <td>c-2</td>\n",
       "      <td>c-5</td>\n",
       "      <td>1422</td>\n",
       "      <td>XE</td>\n",
       "      <td>RDU</td>\n",
       "      <td>CLE</td>\n",
       "      <td>416</td>\n",
       "      <td>N</td>\n",
       "    </tr>\n",
       "    <tr>\n",
       "      <th>3</th>\n",
       "      <td>c-11</td>\n",
       "      <td>c-25</td>\n",
       "      <td>c-6</td>\n",
       "      <td>1015</td>\n",
       "      <td>OO</td>\n",
       "      <td>DEN</td>\n",
       "      <td>MEM</td>\n",
       "      <td>872</td>\n",
       "      <td>N</td>\n",
       "    </tr>\n",
       "    <tr>\n",
       "      <th>4</th>\n",
       "      <td>c-10</td>\n",
       "      <td>c-7</td>\n",
       "      <td>c-6</td>\n",
       "      <td>1828</td>\n",
       "      <td>WN</td>\n",
       "      <td>MDW</td>\n",
       "      <td>OMA</td>\n",
       "      <td>423</td>\n",
       "      <td>Y</td>\n",
       "    </tr>\n",
       "    <tr>\n",
       "      <th>5</th>\n",
       "      <td>c-8</td>\n",
       "      <td>c-3</td>\n",
       "      <td>c-4</td>\n",
       "      <td>1918</td>\n",
       "      <td>NW</td>\n",
       "      <td>MEM</td>\n",
       "      <td>MCO</td>\n",
       "      <td>683</td>\n",
       "      <td>N</td>\n",
       "    </tr>\n",
       "    <tr>\n",
       "      <th>6</th>\n",
       "      <td>c-1</td>\n",
       "      <td>c-27</td>\n",
       "      <td>c-4</td>\n",
       "      <td>754</td>\n",
       "      <td>DL</td>\n",
       "      <td>PBI</td>\n",
       "      <td>LGA</td>\n",
       "      <td>1035</td>\n",
       "      <td>N</td>\n",
       "    </tr>\n",
       "    <tr>\n",
       "      <th>7</th>\n",
       "      <td>c-4</td>\n",
       "      <td>c-29</td>\n",
       "      <td>c-6</td>\n",
       "      <td>635</td>\n",
       "      <td>OH</td>\n",
       "      <td>MSP</td>\n",
       "      <td>CVG</td>\n",
       "      <td>596</td>\n",
       "      <td>N</td>\n",
       "    </tr>\n",
       "    <tr>\n",
       "      <th>8</th>\n",
       "      <td>c-7</td>\n",
       "      <td>c-28</td>\n",
       "      <td>c-5</td>\n",
       "      <td>735</td>\n",
       "      <td>AA</td>\n",
       "      <td>ONT</td>\n",
       "      <td>DFW</td>\n",
       "      <td>1189</td>\n",
       "      <td>N</td>\n",
       "    </tr>\n",
       "    <tr>\n",
       "      <th>9</th>\n",
       "      <td>c-6</td>\n",
       "      <td>c-20</td>\n",
       "      <td>c-2</td>\n",
       "      <td>2029</td>\n",
       "      <td>OO</td>\n",
       "      <td>DEN</td>\n",
       "      <td>PSC</td>\n",
       "      <td>853</td>\n",
       "      <td>N</td>\n",
       "    </tr>\n",
       "  </tbody>\n",
       "</table>\n",
       "</div>"
      ],
      "text/plain": [
       "  Month DayofMonth DayOfWeek  DepTime UniqueCarrier Origin Dest  Distance  \\\n",
       "0   c-8       c-21       c-7     1934            AA    ATL  DFW       732   \n",
       "1   c-4       c-20       c-3     1548            US    PIT  MCO       834   \n",
       "2   c-9        c-2       c-5     1422            XE    RDU  CLE       416   \n",
       "3  c-11       c-25       c-6     1015            OO    DEN  MEM       872   \n",
       "4  c-10        c-7       c-6     1828            WN    MDW  OMA       423   \n",
       "5   c-8        c-3       c-4     1918            NW    MEM  MCO       683   \n",
       "6   c-1       c-27       c-4      754            DL    PBI  LGA      1035   \n",
       "7   c-4       c-29       c-6      635            OH    MSP  CVG       596   \n",
       "8   c-7       c-28       c-5      735            AA    ONT  DFW      1189   \n",
       "9   c-6       c-20       c-2     2029            OO    DEN  PSC       853   \n",
       "\n",
       "  dep_delayed_15min  \n",
       "0                 N  \n",
       "1                 N  \n",
       "2                 N  \n",
       "3                 N  \n",
       "4                 Y  \n",
       "5                 N  \n",
       "6                 N  \n",
       "7                 N  \n",
       "8                 N  \n",
       "9                 N  "
      ]
     },
     "execution_count": 5,
     "metadata": {},
     "output_type": "execute_result"
    }
   ],
   "source": [
    "df = pd.read_csv('data/flight_delays_train.csv')\n",
    "df.head(10)"
   ]
  },
  {
   "cell_type": "markdown",
   "metadata": {},
   "source": [
    "# EDA"
   ]
  },
  {
   "cell_type": "markdown",
   "metadata": {},
   "source": [
    "## 1. Анализ целевой переменной"
   ]
  },
  {
   "cell_type": "markdown",
   "metadata": {},
   "source": [
    "Целевая переменная имеет бинарный характер и принимает значения из `{'Y','N'}`.\n",
    "\n",
    "Посмотрим на балан этих значений:"
   ]
  },
  {
   "cell_type": "code",
   "execution_count": 9,
   "metadata": {},
   "outputs": [
    {
     "data": {
      "text/plain": [
       "<matplotlib.axes._subplots.AxesSubplot at 0x1a16ec4320>"
      ]
     },
     "execution_count": 9,
     "metadata": {},
     "output_type": "execute_result"
    },
    {
     "data": {
      "image/png": "[encoded data removed]",
      "text/plain": [
       "<Figure size 432x360 with 1 Axes>"
      ]
     },
     "metadata": {},
     "output_type": "display_data"
    }
   ],
   "source": [
    "plt.figure(figsize=(6,5))\n",
    "df['dep_delayed_15min'].value_counts().plot(kind='pie')"
   ]
  },
  {
   "cell_type": "code",
   "execution_count": 10,
   "metadata": {},
   "outputs": [
    {
     "name": "stdout",
     "output_type": "stream",
     "text": [
      "Class N: 80956\n",
      "Class Y: 19044\n",
      "Proportion: 4.25 : 1\n"
     ]
    }
   ],
   "source": [
    "target_count = df['dep_delayed_15min'].value_counts()\n",
    "print('Class N:', target_count[0])\n",
    "print('Class Y:', target_count[1])\n",
    "print('Proportion:', round(target_count[0] / target_count[1], 2), ': 1')"
   ]
  },
  {
   "cell_type": "markdown",
   "metadata": {},
   "source": [
    "Целевая переменная имеет невысокий дизбаланс `4 к 1`. Для улучшения результатов необходимо будет провести undersampling."
   ]
  },
  {
   "cell_type": "code",
   "execution_count": 11,
   "metadata": {},
   "outputs": [
    {
     "data": {
      "text/plain": [
       "array(['N', 'Y'], dtype=object)"
      ]
     },
     "execution_count": 11,
     "metadata": {},
     "output_type": "execute_result"
    }
   ],
   "source": [
    "df['dep_delayed_15min'].unique()"
   ]
  },
  {
   "cell_type": "markdown",
   "metadata": {},
   "source": [
    "Пропусков в целевой переменной нет."
   ]
  },
  {
   "cell_type": "markdown",
   "metadata": {},
   "source": [
    "## 2. Анализ признаков"
   ]
  },
  {
   "cell_type": "code",
   "execution_count": 13,
   "metadata": {},
   "outputs": [
    {
     "name": "stdout",
     "output_type": "stream",
     "text": [
      "<class 'pandas.core.frame.DataFrame'>\n",
      "RangeIndex: 100000 entries, 0 to 99999\n",
      "Data columns (total 8 columns):\n",
      "Month            100000 non-null object\n",
      "DayofMonth       100000 non-null object\n",
      "DayOfWeek        100000 non-null object\n",
      "DepTime          100000 non-null int64\n",
      "UniqueCarrier    100000 non-null object\n",
      "Origin           100000 non-null object\n",
      "Dest             100000 non-null object\n",
      "Distance         100000 non-null int64\n",
      "dtypes: int64(2), object(6)\n",
      "memory usage: 6.1+ MB\n"
     ]
    }
   ],
   "source": [
    "df.drop('dep_delayed_15min', axis=1).info()"
   ]
  },
  {
   "cell_type": "markdown",
   "metadata": {},
   "source": [
    "Значений 'NaN' в признаках нет. Датасет содержит 2 чсиловых признака и 6 категориальных.\n",
    "\n",
    "Посмотрим уникальные значения на предмет замены значений различными символами."
   ]
  },
  {
   "cell_type": "code",
   "execution_count": 24,
   "metadata": {},
   "outputs": [
    {
     "name": "stdout",
     "output_type": "stream",
     "text": [
      "Month\n",
      "----------\n",
      "['c-8' 'c-4' 'c-9' 'c-11' 'c-10' 'c-1' 'c-7' 'c-6' 'c-5' 'c-3' 'c-12'\n",
      " 'c-2']\n",
      "\r\n",
      "DayofMonth\n",
      "----------\n",
      "['c-21' 'c-20' 'c-2' 'c-25' 'c-7' 'c-3' 'c-27' 'c-29' 'c-28' 'c-5' 'c-6'\n",
      " 'c-10' 'c-19' 'c-26' 'c-14' 'c-22' 'c-9' 'c-31' 'c-4' 'c-16' 'c-18'\n",
      " 'c-30' 'c-1' 'c-24' 'c-15' 'c-17' 'c-8' 'c-12' 'c-13' 'c-11' 'c-23']\n",
      "\r\n",
      "DayOfWeek\n",
      "----------\n",
      "['c-7' 'c-3' 'c-5' 'c-6' 'c-4' 'c-2' 'c-1']\n",
      "\r\n",
      "DepTime\n",
      "----------\n",
      "[1934 1548 1422 ... 2530  219 2415]\n",
      "\r\n",
      "UniqueCarrier\n",
      "----------\n",
      "['AA' 'US' 'XE' 'OO' 'WN' 'NW' 'DL' 'OH' 'AS' 'UA' 'MQ' 'CO' 'EV' 'DH'\n",
      " 'YV' 'F9' 'AQ' 'TZ' 'HP' 'B6' 'FL' 'HA']\n",
      "\r\n",
      "Origin\n",
      "----------\n",
      "['ATL' 'PIT' 'RDU' 'DEN' 'MDW' 'MEM' 'PBI' 'MSP' 'ONT' 'BDL' 'PHX' 'LAS'\n",
      " 'DFW' 'DSM' 'CMH' 'ORF' 'SLC' 'CLT' 'GSO' 'IAD' 'SMF' 'FLL' 'DAL' 'ORD'\n",
      " 'ITO' 'SAN' 'ROA' 'LGA' 'SFO' 'GSP' 'SEA' 'DAB' 'SJC' 'LIT' 'LAX' 'OAK'\n",
      " 'COS' 'OKC' 'GRR' 'JFK' 'BOI' 'MCI' 'BWI' 'BHM' 'CRP' 'BOS' 'SAT' 'PHL'\n",
      " 'STL' 'CIC' 'AUS' 'IAH' 'COD' 'HNL' 'RNO' 'BNA' 'TPA' 'MIA' 'EVV' 'PNS'\n",
      " 'EWR' 'RSW' 'ANC' 'SNA' 'AMA' 'CID' 'DTW' 'DCA' 'LGB' 'MAF' 'MFE' 'BMI'\n",
      " 'PDX' 'IPL' 'GRB' 'FAR' 'HOU' 'MTJ' 'DRO' 'MLU' 'VPS' 'TUL' 'CVG' 'SBA'\n",
      " 'PWM' 'IDA' 'MCO' 'ACV' 'CHS' 'BGM' 'MSY' 'OGG' 'CLE' 'MOB' 'CAK' 'FAY'\n",
      " 'SHV' 'TUS' 'IND' 'CAE' 'PVD' 'ROC' 'MFR' 'VLD' 'ELP' 'RIC' 'MKE' 'SGF'\n",
      " 'TYS' 'CHO' 'EGE' 'BIS' 'JAN' 'JAX' 'BUF' 'MSO' 'BGR' 'CEC' 'ICT' 'MYR'\n",
      " 'ALB' 'LIH' 'SBP' 'AEX' 'GNV' 'SAV' 'BTM' 'BRO' 'SJU' 'XNA' 'CPR' 'SDF'\n",
      " 'JAC' 'AVL' 'PHF' 'GPT' 'SYR' 'PSP' 'MHT' 'MRY' 'CLD' 'FAT' 'MSN' 'ISP'\n",
      " 'BUR' 'PSC' 'MEI' 'LEX' 'LBB' 'GEG' 'LFT' 'OMA' 'ISO' 'MGM' 'GRK' 'AVP'\n",
      " 'ABQ' 'SRQ' 'BTV' 'FLG' 'BTR' 'MDT' 'ABI' 'TRI' 'ADQ' 'FSM' 'SMX' 'RST'\n",
      " 'RAP' 'ILM' 'SIT' 'EKO' 'DBQ' 'CHA' 'BQK' 'BZN' 'MOD' 'MOT' 'MLB' 'TVC'\n",
      " 'LAN' 'DAY' 'HSV' 'EUG' 'SGU' 'ACT' 'AGS' 'CLL' 'HLN' 'LNK' 'ASE' 'HRL'\n",
      " 'ATW' 'CMI' 'LWS' 'DHN' 'FNT' 'FLO' 'RDM' 'TYR' 'KOA' 'FAI' 'OME' 'RDD'\n",
      " 'MCN' 'TLH' 'MQT' 'AZO' 'FCA' 'CRW' 'TOL' 'HPN' 'FSD' 'FWA' 'SUN' 'LAW'\n",
      " 'YUM' 'PIA' 'GTF' 'ACY' 'PIH' 'SPS' 'MLI' 'BIL' 'TWF' 'HTS' 'SBN' 'PFN'\n",
      " 'GJT' 'CSG' 'JNU' 'TXK' 'LRD' 'BQN' 'CWA' 'SWF' 'GTR' 'BFL' 'OXR' 'KTN'\n",
      " 'PIE' 'SCE' 'PSG' 'DLH' 'SJT' 'GUC' 'SPI' 'IYK' 'ABY' 'STT' 'ABE' 'GFK'\n",
      " 'HDN' 'CDV' 'MBS' 'TUP' 'LCH' 'EYW' 'OTZ' 'ADK' 'GGG' 'VIS' 'GST' 'LYH'\n",
      " 'HVN' 'BRW' 'LSE' 'ERI' 'HKY' 'BET' 'CDC' 'OAJ' 'WRG' 'ACK' 'DLG' 'YAK'\n",
      " 'AKN' 'TEX' 'STX' 'SCC' 'APF' 'BPT' 'WYS' 'RFD' 'BLI' 'ILG' 'VCT' 'LWB'\n",
      " 'PSE']\n",
      "\r\n",
      "Dest\n",
      "----------\n",
      "['DFW' 'MCO' 'CLE' 'MEM' 'OMA' 'LGA' 'CVG' 'PSC' 'STL' 'SEA' 'SJC' 'ORD'\n",
      " 'IAH' 'ATL' 'CMH' 'ILM' 'MSP' 'PHX' 'AUS' 'SYR' 'LAX' 'HNL' 'ORF' 'MYR'\n",
      " 'PDX' 'CHS' 'SMF' 'DTW' 'SNA' 'PHL' 'IAD' 'LAS' 'OGG' 'ABI' 'SLC' 'EWR'\n",
      " 'PVD' 'SFO' 'RDU' 'MDW' 'DAL' 'SAT' 'RNO' 'JAX' 'HRL' 'JAN' 'ISP' 'TPA'\n",
      " 'JFK' 'FCA' 'PIT' 'CLT' 'BUF' 'OKC' 'ANC' 'SAN' 'BET' 'FLL' 'SBA' 'GJT'\n",
      " 'DEN' 'MIA' 'BZN' 'FWA' 'BDL' 'BOI' 'GSO' 'GSP' 'OAK' 'LAN' 'YUM' 'MKE'\n",
      " 'MQT' 'ONT' 'ELP' 'LBB' 'PBI' 'SJU' 'ACY' 'CAK' 'ABQ' 'KOA' 'BNA' 'IDA'\n",
      " 'EVV' 'LEX' 'ITO' 'SBP' 'BOS' 'KTN' 'SGF' 'HOU' 'ALB' 'TUL' 'ABE' 'AMA'\n",
      " 'LIT' 'IND' 'ROA' 'ROC' 'SAV' 'TOL' 'FAT' 'MCI' 'MSN' 'DCA' 'GRR' 'BUR'\n",
      " 'AVL' 'MLU' 'ACV' 'RIC' 'COS' 'DAY' 'GRB' 'CRP' 'FNT' 'ICT' 'TLH' 'XNA'\n",
      " 'CRW' 'GEG' 'HPN' 'VPS' 'CMI' 'LNK' 'EYW' 'BWI' 'MAF' 'HSV' 'TUS' 'PSP'\n",
      " 'SHV' 'MSY' 'LIH' 'FAR' 'EUG' 'SDF' 'MHT' 'DSM' 'FLO' 'ISO' 'MFE' 'RDD'\n",
      " 'BHM' 'BMI' 'FSD' 'RSW' 'FAY' 'CAE' 'MTJ' 'LWB' 'CLD' 'RAP' 'PWM' 'GPT'\n",
      " 'TYS' 'SRQ' 'MBS' 'AVP' 'AZO' 'CEC' 'MFR' 'DAB' 'TUP' 'CID' 'PNS' 'JNU'\n",
      " 'GNV' 'MRY' 'SGU' 'MOB' 'PHF' 'LAW' 'MEI' 'LFT' 'EGE' 'GUC' 'TRI' 'LGB'\n",
      " 'BIL' 'CSG' 'SCE' 'GTF' 'BFL' 'FAI' 'EKO' 'DRO' 'BQK' 'TVC' 'MDT' 'CLL'\n",
      " 'HTS' 'LSE' 'MSO' 'JAC' 'RDM' 'MLI' 'MOD' 'CPR' 'VLD' 'BTR' 'CHA' 'STT'\n",
      " 'MOT' 'BTV' 'SPS' 'PIH' 'PIA' 'LWS' 'SMX' 'BGR' 'SJT' 'STX' 'VIS' 'HDN'\n",
      " 'ACT' 'GRK' 'BRO' 'FSM' 'LCH' 'DBQ' 'DHN' 'MLB' 'IPL' 'PFN' 'GGG' 'SBN'\n",
      " 'OXR' 'IYK' 'LRD' 'TWF' 'PSG' 'RST' 'BQN' 'BPT' 'AEX' 'ERI' 'CIC' 'MGM'\n",
      " 'CDC' 'PIE' 'BIS' 'SWF' 'DLG' 'SUN' 'COD' 'ASE' 'ATW' 'OME' 'GTR' 'CHO'\n",
      " 'GFK' 'BLI' 'ABY' 'TXK' 'APF' 'DLH' 'TYR' 'LYH' 'SPI' 'HLN' 'YAK' 'CWA'\n",
      " 'MCN' 'ILG' 'AKN' 'SIT' 'FLG' 'HVN' 'BRW' 'BTM' 'BGM' 'OTZ' 'SCC' 'CDV'\n",
      " 'WRG' 'AGS' 'HKY' 'RFD' 'SOP' 'WYS' 'PSE' 'ADQ' 'GST' 'TEX' 'ACK' 'TTN'\n",
      " 'VCT']\n",
      "\r\n",
      "Distance\n",
      "----------\n",
      "[ 732  834  416 ... 2242  536 1198]\n",
      "\r\n"
     ]
    }
   ],
   "source": [
    "columns = df.drop('dep_delayed_15min', axis=1).columns.tolist()\n",
    "for column in columns:\n",
    "    print(column)\n",
    "    print('----------')\n",
    "    print(df[column].unique())\n",
    "    print('\\r')"
   ]
  },
  {
   "cell_type": "code",
   "execution_count": 84,
   "metadata": {},
   "outputs": [
    {
     "data": {
      "text/plain": [
       "Month                0\n",
       "DayofMonth           0\n",
       "DayOfWeek            0\n",
       "DepTime              0\n",
       "UniqueCarrier        0\n",
       "Origin               0\n",
       "Dest                 0\n",
       "Distance             0\n",
       "dep_delayed_15min    0\n",
       "dtype: int64"
      ]
     },
     "execution_count": 84,
     "metadata": {},
     "output_type": "execute_result"
    }
   ],
   "source": [
    "df.isnull().sum()"
   ]
  },
  {
   "cell_type": "markdown",
   "metadata": {},
   "source": [
    "Данные не содержат пропусков."
   ]
  },
  {
   "cell_type": "markdown",
   "metadata": {},
   "source": [
    "## 3. Преобразование признаков"
   ]
  },
  {
   "cell_type": "markdown",
   "metadata": {},
   "source": [
    "Преобразуем категориальные признаки"
   ]
  },
  {
   "cell_type": "code",
   "execution_count": 76,
   "metadata": {},
   "outputs": [],
   "source": [
    "# lepf = LabelEncoderPipelineFriendly()\n",
    "# lepf.fit_transform(df['Month'])\n",
    "import re\n",
    "\n",
    "regex = re.compile(r\"\\w+-(\\d+)\", re.IGNORECASE)\n",
    "\n",
    "df2 = df.copy(deep=True)\n",
    "df2['Month'] = df['Month'].apply(lambda x: int(regex.findall(x)[0]))\n",
    "df2['DayofMonth'] = df['DayofMonth'].apply(lambda x: int(regex.findall(x)[0]))\n",
    "df2['DayOfWeek'] = df['DayOfWeek'].apply(lambda x: int(regex.findall(x)[0]))\n",
    "\n",
    "le = LabelEncoder()\n",
    "df2['UniqueCarrier'] = le.fit_transform(df2['UniqueCarrier'])\n",
    "df2['Origin'] = le.fit_transform(df2['Origin'])\n",
    "df2['Dest'] = le.fit_transform(df2['Dest'])\n",
    "\n",
    "df2['dep_delayed_15min'] = df2['dep_delayed_15min'].map({'N':0,'Y':1})"
   ]
  },
  {
   "cell_type": "code",
   "execution_count": 97,
   "metadata": {},
   "outputs": [],
   "source": [
    "def importance_plot(df, model_coef, figsize=(10,6)):\n",
    "    featureImportance = pd.DataFrame({\"feature\": df.drop('dep_delayed_15min',axis=1).columns, \n",
    "                                  \"importance\": model_coef})\n",
    "    \n",
    "    featureImportance.set_index('feature', inplace=True)\n",
    "    featureImportance.sort_values([\"importance\"], ascending=False, inplace=True)\n",
    "    featureImportance[\"importance\"].plot('bar', figsize=figsize);\n",
    "\n",
    "def randomized_cv(model, param_grid, x_train, y_train):\n",
    "    grid_search = RandomizedSearchCV(model, param_grid, cv=5, scoring='accuracy')\n",
    "    t_start = time.time()\n",
    "    grid_search.fit(x_train, y_train)\n",
    "    t_end = time.time()\n",
    "    print('model {} best accuracy score is {}'.format(model.__class__.__name__, grid_search.best_score_))\n",
    "    print('time for training is {} seconds'.format(t_end - t_start))\n",
    "    print(grid_search.best_score_)\n",
    "    return grid_search.best_estimator_"
   ]
  },
  {
   "cell_type": "code",
   "execution_count": 77,
   "metadata": {},
   "outputs": [],
   "source": [
    "from sklearn.model_selection import train_test_split\n",
    "\n",
    "X_train, X_test, y_train, y_test = train_test_split(\n",
    "    df2.drop(['dep_delayed_15min'], axis=1), \n",
    "    df2['dep_delayed_15min'], \n",
    "    stratify=df['dep_delayed_15min'],\n",
    "    random_state=42\n",
    ")"
   ]
  },
  {
   "cell_type": "markdown",
   "metadata": {},
   "source": [
    "# Создание модели"
   ]
  },
  {
   "cell_type": "markdown",
   "metadata": {},
   "source": [
    "## 1. Baseline"
   ]
  },
  {
   "cell_type": "markdown",
   "metadata": {},
   "source": [
    "В качестве `baseline` используем линейную регрессию."
   ]
  },
  {
   "cell_type": "code",
   "execution_count": 93,
   "metadata": {},
   "outputs": [
    {
     "name": "stdout",
     "output_type": "stream",
     "text": [
      "Max auc_roc: 0.6889207355624698\n"
     ]
    }
   ],
   "source": [
    "from sklearn.linear_model import LogisticRegressionCV\n",
    "\n",
    "searchCV = LogisticRegressionCV(\n",
    "    Cs=list(np.power(10.0, np.arange(-10, 10)))\n",
    "    ,penalty='l2'\n",
    "    ,scoring='roc_auc'\n",
    "    ,cv=5\n",
    "    ,random_state=777\n",
    "    ,max_iter=10000\n",
    "    ,fit_intercept=True\n",
    "    ,solver='newton-cg'\n",
    "    ,tol=10\n",
    ")\n",
    "searchCV.fit(X_train, y_train)\n",
    "\n",
    "print ('Max auc_roc:', searchCV.scores_[1].max())"
   ]
  },
  {
   "cell_type": "code",
   "execution_count": 120,
   "metadata": {},
   "outputs": [
    {
     "name": "stdout",
     "output_type": "stream",
     "text": [
      "Accuracity: 0.681549486991095\n"
     ]
    }
   ],
   "source": [
    "accuracity = searchCV.score(X_test, y_test)\n",
    "print(\"Accuracity: {}\".format(accuracity))"
   ]
  },
  {
   "cell_type": "code",
   "execution_count": 106,
   "metadata": {},
   "outputs": [
    {
     "data": {
      "image/png": "[encoded data removed]",
      "text/plain": [
       "<Figure size 720x432 with 1 Axes>"
      ]
     },
     "metadata": {
      "needs_background": "light"
     },
     "output_type": "display_data"
    }
   ],
   "source": [
    "importance_plot(df2, searchCV.coef_[0])"
   ]
  },
  {
   "cell_type": "markdown",
   "metadata": {},
   "source": [
    "## 2. XGB"
   ]
  },
  {
   "cell_type": "code",
   "execution_count": 79,
   "metadata": {},
   "outputs": [
    {
     "name": "stdout",
     "output_type": "stream",
     "text": [
      "model XGBClassifier best accuracy score is 0.8128666666666666\n",
      "time for training is 186.2315378189087 seconds\n",
      "0.8128666666666666\n"
     ]
    }
   ],
   "source": [
    "import xgboost as xgb\n",
    "\n",
    "param_grid = {\n",
    "    'max_depth': [2, 3, 4],\n",
    "    'n_estimators': [50, 100],\n",
    "    'learning_rate': [0.01, 0.025]\n",
    "}\n",
    "xgb = randomized_cv(xgb.XGBClassifier(), param_grid, x_train=X_train,y_train=y_train)"
   ]
  },
  {
   "cell_type": "code",
   "execution_count": 117,
   "metadata": {},
   "outputs": [
    {
     "name": "stdout",
     "output_type": "stream",
     "text": [
      "Accuracity: 0.81256\n"
     ]
    }
   ],
   "source": [
    "accuracity = xgb.score(X_test, y_test)\n",
    "print(\"Accuracity: {}\".format(accuracity))"
   ]
  },
  {
   "cell_type": "code",
   "execution_count": 116,
   "metadata": {},
   "outputs": [
    {
     "data": {
      "image/png": "[encoded data removed]",
      "text/plain": [
       "<Figure size 720x432 with 1 Axes>"
      ]
     },
     "metadata": {
      "needs_background": "light"
     },
     "output_type": "display_data"
    }
   ],
   "source": [
    "importance_plot(df2, xgb.feature_importances_)"
   ]
  },
  {
   "cell_type": "markdown",
   "metadata": {},
   "source": [
    "## 3. CatBoost"
   ]
  },
  {
   "cell_type": "code",
   "execution_count": 81,
   "metadata": {},
   "outputs": [
    {
     "name": "stdout",
     "output_type": "stream",
     "text": [
      "0:\tlearn: 0.6537221\ttotal: 69.2ms\tremaining: 138ms\n",
      "1:\tlearn: 0.6211496\ttotal: 78.1ms\tremaining: 39.1ms\n",
      "2:\tlearn: 0.5945352\ttotal: 94.8ms\tremaining: 0us\n",
      "0:\tlearn: 0.6536466\ttotal: 15.4ms\tremaining: 30.8ms\n",
      "1:\tlearn: 0.6209884\ttotal: 27.1ms\tremaining: 13.6ms\n",
      "2:\tlearn: 0.5943059\ttotal: 37.7ms\tremaining: 0us\n",
      "0:\tlearn: 0.6534932\ttotal: 15.3ms\tremaining: 30.5ms\n",
      "1:\tlearn: 0.6211229\ttotal: 29.6ms\tremaining: 14.8ms\n",
      "2:\tlearn: 0.5948102\ttotal: 43.1ms\tremaining: 0us\n",
      "0:\tlearn: 0.6541509\ttotal: 15.5ms\tremaining: 31ms\n",
      "1:\tlearn: 0.6215318\ttotal: 26.5ms\tremaining: 13.2ms\n",
      "2:\tlearn: 0.5945984\ttotal: 36.6ms\tremaining: 0us\n",
      "0:\tlearn: 0.6541008\ttotal: 30ms\tremaining: 60ms\n",
      "1:\tlearn: 0.6215212\ttotal: 57.3ms\tremaining: 28.7ms\n",
      "2:\tlearn: 0.5945720\ttotal: 66.9ms\tremaining: 0us\n",
      "0:\tlearn: 0.6537803\ttotal: 10.9ms\tremaining: 21.8ms\n",
      "1:\tlearn: 0.6222462\ttotal: 22.9ms\tremaining: 11.5ms\n",
      "2:\tlearn: 0.5961542\ttotal: 30.7ms\tremaining: 0us\n",
      "0:\tlearn: 0.6537290\ttotal: 7.46ms\tremaining: 14.9ms\n",
      "1:\tlearn: 0.6219692\ttotal: 14.6ms\tremaining: 7.32ms\n",
      "2:\tlearn: 0.5958618\ttotal: 22.3ms\tremaining: 0us\n",
      "0:\tlearn: 0.6535125\ttotal: 10.4ms\tremaining: 20.9ms\n",
      "1:\tlearn: 0.6211326\ttotal: 19ms\tremaining: 9.48ms\n",
      "2:\tlearn: 0.5949985\ttotal: 25.6ms\tremaining: 0us\n",
      "0:\tlearn: 0.6542819\ttotal: 10.5ms\tremaining: 20.9ms\n",
      "1:\tlearn: 0.6226725\ttotal: 20.8ms\tremaining: 10.4ms\n",
      "2:\tlearn: 0.5965763\ttotal: 28.3ms\tremaining: 0us\n",
      "0:\tlearn: 0.6542291\ttotal: 9.74ms\tremaining: 19.5ms\n",
      "1:\tlearn: 0.6226364\ttotal: 17.1ms\tremaining: 8.54ms\n",
      "2:\tlearn: 0.5959448\ttotal: 24.5ms\tremaining: 0us\n",
      "0:\tlearn: 0.6927320\ttotal: 12.4ms\tremaining: 12.4ms\n",
      "1:\tlearn: 0.6923136\ttotal: 21.3ms\tremaining: 0us\n",
      "0:\tlearn: 0.6927312\ttotal: 11.8ms\tremaining: 11.8ms\n",
      "1:\tlearn: 0.6923124\ttotal: 23.6ms\tremaining: 0us\n",
      "0:\tlearn: 0.6927295\ttotal: 25.4ms\tremaining: 25.4ms\n",
      "1:\tlearn: 0.6923128\ttotal: 49.6ms\tremaining: 0us\n",
      "0:\tlearn: 0.6927367\ttotal: 16.5ms\tremaining: 16.5ms\n",
      "1:\tlearn: 0.6923290\ttotal: 35.5ms\tremaining: 0us\n",
      "0:\tlearn: 0.6927362\ttotal: 12.2ms\tremaining: 12.2ms\n",
      "1:\tlearn: 0.6923282\ttotal: 22.4ms\tremaining: 0us\n",
      "0:\tlearn: 0.6927331\ttotal: 9.27ms\tremaining: 18.5ms\n",
      "1:\tlearn: 0.6923191\ttotal: 15.7ms\tremaining: 7.85ms\n",
      "2:\tlearn: 0.6919037\ttotal: 23.2ms\tremaining: 0us\n",
      "0:\tlearn: 0.6927326\ttotal: 11.2ms\tremaining: 22.4ms\n",
      "1:\tlearn: 0.6923189\ttotal: 20.8ms\tremaining: 10.4ms\n",
      "2:\tlearn: 0.6919040\ttotal: 31.5ms\tremaining: 0us\n",
      "0:\tlearn: 0.6927293\ttotal: 8.1ms\tremaining: 16.2ms\n",
      "1:\tlearn: 0.6923140\ttotal: 17ms\tremaining: 8.51ms\n",
      "2:\tlearn: 0.6919053\ttotal: 25.9ms\tremaining: 0us\n",
      "0:\tlearn: 0.6927364\ttotal: 11.5ms\tremaining: 22.9ms\n",
      "1:\tlearn: 0.6923240\ttotal: 27.3ms\tremaining: 13.6ms\n",
      "2:\tlearn: 0.6919171\ttotal: 42.6ms\tremaining: 0us\n",
      "0:\tlearn: 0.6927359\ttotal: 10.8ms\tremaining: 21.5ms\n",
      "1:\tlearn: 0.6923234\ttotal: 19.7ms\tremaining: 9.83ms\n",
      "2:\tlearn: 0.6919160\ttotal: 28.8ms\tremaining: 0us\n",
      "0:\tlearn: 0.6537221\ttotal: 13.4ms\tremaining: 40.1ms\n",
      "1:\tlearn: 0.6211496\ttotal: 22ms\tremaining: 22ms\n",
      "2:\tlearn: 0.5945352\ttotal: 33.8ms\tremaining: 11.3ms\n",
      "3:\tlearn: 0.5728877\ttotal: 46.2ms\tremaining: 0us\n",
      "0:\tlearn: 0.6536466\ttotal: 48.1ms\tremaining: 144ms\n",
      "1:\tlearn: 0.6209884\ttotal: 80.2ms\tremaining: 80.2ms\n",
      "2:\tlearn: 0.5943059\ttotal: 107ms\tremaining: 35.5ms\n",
      "3:\tlearn: 0.5725492\ttotal: 146ms\tremaining: 0us\n",
      "0:\tlearn: 0.6534932\ttotal: 13.2ms\tremaining: 39.6ms\n",
      "1:\tlearn: 0.6211229\ttotal: 24.9ms\tremaining: 24.9ms\n",
      "2:\tlearn: 0.5948102\ttotal: 31.8ms\tremaining: 10.6ms\n",
      "3:\tlearn: 0.5724069\ttotal: 39.9ms\tremaining: 0us\n",
      "0:\tlearn: 0.6541509\ttotal: 11.7ms\tremaining: 35.2ms\n",
      "1:\tlearn: 0.6215318\ttotal: 19.2ms\tremaining: 19.2ms\n",
      "2:\tlearn: 0.5945984\ttotal: 30.2ms\tremaining: 10.1ms\n",
      "3:\tlearn: 0.5722290\ttotal: 42.1ms\tremaining: 0us\n",
      "0:\tlearn: 0.6541008\ttotal: 10.4ms\tremaining: 31.3ms\n",
      "1:\tlearn: 0.6215212\ttotal: 22.4ms\tremaining: 22.4ms\n",
      "2:\tlearn: 0.5945720\ttotal: 35.8ms\tremaining: 11.9ms\n",
      "3:\tlearn: 0.5722094\ttotal: 48.7ms\tremaining: 0us\n",
      "0:\tlearn: 0.6927330\ttotal: 7.36ms\tremaining: 7.36ms\n",
      "1:\tlearn: 0.6923269\ttotal: 12.8ms\tremaining: 0us\n",
      "0:\tlearn: 0.6927325\ttotal: 11.3ms\tremaining: 11.3ms\n",
      "1:\tlearn: 0.6923268\ttotal: 23.3ms\tremaining: 0us\n",
      "0:\tlearn: 0.6927302\ttotal: 8.36ms\tremaining: 8.36ms\n",
      "1:\tlearn: 0.6923141\ttotal: 16.6ms\tremaining: 0us\n",
      "0:\tlearn: 0.6927383\ttotal: 9.18ms\tremaining: 9.18ms\n",
      "1:\tlearn: 0.6923325\ttotal: 15.2ms\tremaining: 0us\n",
      "0:\tlearn: 0.6927378\ttotal: 23.3ms\tremaining: 23.3ms\n",
      "1:\tlearn: 0.6923321\ttotal: 44.5ms\tremaining: 0us\n",
      "0:\tlearn: 0.6927325\ttotal: 13ms\tremaining: 52.2ms\n",
      "1:\tlearn: 0.6923147\ttotal: 24.8ms\tremaining: 37.1ms\n",
      "2:\tlearn: 0.6919014\ttotal: 32.6ms\tremaining: 21.7ms\n",
      "3:\tlearn: 0.6914962\ttotal: 40.8ms\tremaining: 10.2ms\n",
      "4:\tlearn: 0.6910822\ttotal: 51.8ms\tremaining: 0us\n",
      "0:\tlearn: 0.6927317\ttotal: 12.2ms\tremaining: 48.6ms\n",
      "1:\tlearn: 0.6923129\ttotal: 20.1ms\tremaining: 30.2ms\n",
      "2:\tlearn: 0.6918986\ttotal: 31.2ms\tremaining: 20.8ms\n",
      "3:\tlearn: 0.6914921\ttotal: 46.5ms\tremaining: 11.6ms\n",
      "4:\tlearn: 0.6910795\ttotal: 59ms\tremaining: 0us\n",
      "0:\tlearn: 0.6927301\ttotal: 13.4ms\tremaining: 53.7ms\n",
      "1:\tlearn: 0.6923137\ttotal: 25.3ms\tremaining: 38ms\n",
      "2:\tlearn: 0.6919035\ttotal: 35ms\tremaining: 23.4ms\n",
      "3:\tlearn: 0.6914873\ttotal: 48ms\tremaining: 12ms\n",
      "4:\tlearn: 0.6910840\ttotal: 64.9ms\tremaining: 0us\n",
      "0:\tlearn: 0.6927370\ttotal: 24.4ms\tremaining: 97.5ms\n",
      "1:\tlearn: 0.6923208\ttotal: 36ms\tremaining: 54ms\n",
      "2:\tlearn: 0.6919033\ttotal: 47.3ms\tremaining: 31.5ms\n",
      "3:\tlearn: 0.6914900\ttotal: 58.9ms\tremaining: 14.7ms\n",
      "4:\tlearn: 0.6910821\ttotal: 70.5ms\tremaining: 0us\n",
      "0:\tlearn: 0.6927365\ttotal: 12.8ms\tremaining: 51.3ms\n",
      "1:\tlearn: 0.6923193\ttotal: 20.8ms\tremaining: 31.1ms\n",
      "2:\tlearn: 0.6919017\ttotal: 31.6ms\tremaining: 21.1ms\n",
      "3:\tlearn: 0.6914884\ttotal: 43.6ms\tremaining: 10.9ms\n",
      "4:\tlearn: 0.6910786\ttotal: 55.6ms\tremaining: 0us\n",
      "0:\tlearn: 0.6890188\ttotal: 18.9ms\tremaining: 18.9ms\n",
      "1:\tlearn: 0.6849328\ttotal: 32.7ms\tremaining: 0us\n",
      "0:\tlearn: 0.6890109\ttotal: 14.2ms\tremaining: 14.2ms\n",
      "1:\tlearn: 0.6849151\ttotal: 23ms\tremaining: 0us\n",
      "0:\tlearn: 0.6889947\ttotal: 13.6ms\tremaining: 13.6ms\n",
      "1:\tlearn: 0.6849231\ttotal: 26.1ms\tremaining: 0us\n",
      "0:\tlearn: 0.6890637\ttotal: 12ms\tremaining: 12ms\n",
      "1:\tlearn: 0.6849926\ttotal: 28.4ms\tremaining: 0us\n",
      "0:\tlearn: 0.6890584\ttotal: 16.1ms\tremaining: 16.1ms\n",
      "1:\tlearn: 0.6849780\ttotal: 34.2ms\tremaining: 0us\n",
      "0:\tlearn: 0.4705788\ttotal: 10.6ms\tremaining: 21.2ms\n",
      "1:\tlearn: 0.4540780\ttotal: 19ms\tremaining: 9.48ms\n",
      "2:\tlearn: 0.4493579\ttotal: 27.9ms\tremaining: 0us\n",
      "0:\tlearn: 0.4702388\ttotal: 12.2ms\tremaining: 24.4ms\n",
      "1:\tlearn: 0.4536827\ttotal: 20.6ms\tremaining: 10.3ms\n",
      "2:\tlearn: 0.4492978\ttotal: 30ms\tremaining: 0us\n",
      "0:\tlearn: 0.4677154\ttotal: 12.1ms\tremaining: 24.2ms\n",
      "1:\tlearn: 0.4526311\ttotal: 22.8ms\tremaining: 11.4ms\n",
      "2:\tlearn: 0.4497103\ttotal: 33.8ms\tremaining: 0us\n",
      "0:\tlearn: 0.4721552\ttotal: 34.5ms\tremaining: 69ms\n",
      "1:\tlearn: 0.4545142\ttotal: 53.2ms\tremaining: 26.6ms\n",
      "2:\tlearn: 0.4512641\ttotal: 69.6ms\tremaining: 0us\n",
      "0:\tlearn: 0.4718175\ttotal: 26.6ms\tremaining: 53.3ms\n",
      "1:\tlearn: 0.4539656\ttotal: 46.2ms\tremaining: 23.1ms\n",
      "2:\tlearn: 0.4497843\ttotal: 78ms\tremaining: 0us\n",
      "0:\tlearn: 0.4697406\ttotal: 12.1ms\tremaining: 24.2ms\n",
      "1:\tlearn: 0.4523168\ttotal: 20.6ms\tremaining: 10.3ms\n",
      "2:\tlearn: 0.4484459\ttotal: 28.7ms\tremaining: 0us\n",
      "0:\tlearn: 0.4692568\ttotal: 11.5ms\tremaining: 23ms\n",
      "1:\tlearn: 0.4507050\ttotal: 20ms\tremaining: 10ms\n",
      "2:\tlearn: 0.4470508\ttotal: 31ms\tremaining: 0us\n",
      "0:\tlearn: 0.4677335\ttotal: 11ms\tremaining: 22.1ms\n",
      "1:\tlearn: 0.4506905\ttotal: 24.4ms\tremaining: 12.2ms\n",
      "2:\tlearn: 0.4463835\ttotal: 37.7ms\tremaining: 0us\n",
      "0:\tlearn: 0.4720328\ttotal: 33.9ms\tremaining: 67.8ms\n",
      "1:\tlearn: 0.4524205\ttotal: 59.3ms\tremaining: 29.7ms\n",
      "2:\tlearn: 0.4482042\ttotal: 90.6ms\tremaining: 0us\n",
      "0:\tlearn: 0.4716896\ttotal: 38.3ms\tremaining: 76.6ms\n",
      "1:\tlearn: 0.4520387\ttotal: 64.1ms\tremaining: 32.1ms\n",
      "2:\tlearn: 0.4478490\ttotal: 86.7ms\tremaining: 0us\n",
      "0:\tlearn: 0.4742975\ttotal: 11.9ms\tremaining: 23.8ms\n",
      "1:\tlearn: 0.4529712\ttotal: 20.6ms\tremaining: 10.3ms\n",
      "2:\tlearn: 0.4481167\ttotal: 32.4ms\tremaining: 0us\n",
      "model CatBoostClassifier best accuracy score is 0.8106933333333334\n",
      "time for training is 20.125924825668335 seconds\n",
      "0.8106933333333334\n"
     ]
    }
   ],
   "source": [
    "from catboost import CatBoostClassifier\n",
    "param_grid = {\n",
    "    'iterations': [2, 3, 4, 5],\n",
    "    'depth': [2, 3, 4, 5],\n",
    "    'learning_rate': [1, 0.1, 0.01, 0.001]\n",
    "}\n",
    "cbm = randomized_cv(CatBoostClassifier(), param_grid,x_train=X_train,y_train=y_train)"
   ]
  },
  {
   "cell_type": "code",
   "execution_count": 118,
   "metadata": {},
   "outputs": [
    {
     "name": "stdout",
     "output_type": "stream",
     "text": [
      "Accuracity: 0.8122\n"
     ]
    }
   ],
   "source": [
    "accuracity = cbm.score(X_test, y_test)\n",
    "print(\"Accuracity: {}\".format(accuracity))"
   ]
  },
  {
   "cell_type": "code",
   "execution_count": 114,
   "metadata": {},
   "outputs": [
    {
     "data": {
      "image/png": "[encoded data removed]",
      "text/plain": [
       "<Figure size 720x432 with 1 Axes>"
      ]
     },
     "metadata": {
      "needs_background": "light"
     },
     "output_type": "display_data"
    }
   ],
   "source": [
    "importance_plot(df2, cbm.feature_importances_)"
   ]
  },
  {
   "cell_type": "markdown",
   "metadata": {},
   "source": [
    "## 3. GBC"
   ]
  },
  {
   "cell_type": "code",
   "execution_count": 83,
   "metadata": {},
   "outputs": [
    {
     "name": "stdout",
     "output_type": "stream",
     "text": [
      "model GradientBoostingClassifier best accuracy score is 0.8141066666666666\n",
      "time for training is 227.8493161201477 seconds\n",
      "0.8141066666666666\n"
     ]
    }
   ],
   "source": [
    "from sklearn.ensemble import GradientBoostingClassifier\n",
    "\n",
    "param_grid = {\n",
    "    'max_depth': [2, 3, 4],\n",
    "    'n_estimators': [50, 100],\n",
    "    'learning_rate': [0.01, 0.025]\n",
    "}\n",
    "gbc = randomized_cv(GradientBoostingClassifier(), param_grid,x_train=X_train,y_train=y_train)"
   ]
  },
  {
   "cell_type": "code",
   "execution_count": 119,
   "metadata": {},
   "outputs": [
    {
     "name": "stdout",
     "output_type": "stream",
     "text": [
      "Accuracity: 0.8136\n"
     ]
    }
   ],
   "source": [
    "accuracity = gbc.score(X_test, y_test)\n",
    "print(\"Accuracity: {}\".format(accuracity))"
   ]
  },
  {
   "cell_type": "code",
   "execution_count": 115,
   "metadata": {},
   "outputs": [
    {
     "data": {
      "image/png": "[encoded data removed]",
      "text/plain": [
       "<Figure size 720x432 with 1 Axes>"
      ]
     },
     "metadata": {
      "needs_background": "light"
     },
     "output_type": "display_data"
    }
   ],
   "source": [
    "importance_plot(df2, gbc.feature_importances_)"
   ]
  },
  {
   "cell_type": "markdown",
   "metadata": {},
   "source": [
    "# Выводы"
   ]
  },
  {
   "cell_type": "markdown",
   "metadata": {},
   "source": [
    "- Лучшие результаты показала модель `XGBClassifier` с accuracity = 0.81256.\n",
    "- Наиболее важный признак модели выделелили: `DepTime`."
   ]
  }
 ],
 "metadata": {
  "kernelspec": {
   "display_name": "Python 3",
   "language": "python",
   "name": "python3"
  },
  "language_info": {
   "codemirror_mode": {
    "name": "ipython",
    "version": 3
   },
   "file_extension": ".py",
   "mimetype": "text/x-python",
   "name": "python",
   "nbconvert_exporter": "python",
   "pygments_lexer": "ipython3",
   "version": "3.7.1"
  }
 },
 "nbformat": 4,
 "nbformat_minor": 2
}
