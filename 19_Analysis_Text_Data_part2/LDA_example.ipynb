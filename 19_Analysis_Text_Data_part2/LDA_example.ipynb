{
 "cells": [
  {
   "cell_type": "markdown",
   "metadata": {},
   "source": [
    "<img src='otus.png'>"
   ]
  },
  {
   "cell_type": "markdown",
   "metadata": {},
   "source": [
    "Примеры задач:\n",
    "\n",
    "- ранжировать документы по степени релевантности заданной теме (тематический поиск);\n",
    "- ранжировать документы по степени тематического сходства с заданным документом или его фрагментом;\n",
    "- построить иерархический тематический каталог коллекции документов и выработать правила каталогизации новых документов;\n",
    "- определить, как темы изменялись со временем (предполагается, что для каждого документа известно время его создания);\n",
    "- определить тематику авторов (предполагается, что для каждого документа известен список авторов);\n",
    "- определить тематику различных сущностей (entities), связанных с документами (например, журналов, конференций, организаций, стран);\n",
    "- разбить документ на тематически однородные фрагменты.\n",
    "\n",
    "\n",
    "[источник](http://www.machinelearning.ru/wiki/index.php?title=%D0%A2%D0%B5%D0%BC%D0%B0%D1%82%D0%B8%D1%87%D0%B5%D1%81%D0%BA%D0%BE%D0%B5_%D0%BC%D0%BE%D0%B4%D0%B5%D0%BB%D0%B8%D1%80%D0%BE%D0%B2%D0%B0%D0%BD%D0%B8%D0%B5)"
   ]
  },
  {
   "cell_type": "markdown",
   "metadata": {},
   "source": [
    "библиотеки:\n",
    "- pyLDAvis\n",
    "- matplotlib\n",
    "- numpy\n",
    "- pandas\n",
    "- gensim\n",
    "- nltk\n",
    "- bigARTM\n"
   ]
  },
  {
   "cell_type": "code",
   "execution_count": 1,
   "metadata": {},
   "outputs": [],
   "source": [
    "%load_ext autoreload\n",
    "%autoreload 2"
   ]
  },
  {
   "cell_type": "code",
   "execution_count": 6,
   "metadata": {},
   "outputs": [
    {
     "name": "stderr",
     "output_type": "stream",
     "text": [
      "[nltk_data] Downloading package wordnet to /Users/dmitrys/nltk_data...\n",
      "[nltk_data]   Package wordnet is already up-to-date!\n",
      "[nltk_data] Downloading package stopwords to\n",
      "[nltk_data]     /Users/dmitrys/nltk_data...\n",
      "[nltk_data]   Package stopwords is already up-to-date!\n"
     ]
    }
   ],
   "source": [
    "import re\n",
    "import pickle\n",
    "import numpy as np\n",
    "import pandas as pd\n",
    "from pprint import pprint\n",
    "\n",
    "# Gensim\n",
    "import gensim\n",
    "import gensim.corpora as corpora\n",
    "from gensim.utils import simple_preprocess\n",
    "from gensim.models import CoherenceModel\n",
    "\n",
    "import nltk\n",
    "from nltk.corpus import stopwords \n",
    "from nltk.stem.wordnet import WordNetLemmatizer\n",
    "nltk.download('wordnet')\n",
    "nltk.download('stopwords')\n",
    "lemma = WordNetLemmatizer()\n",
    "\n",
    "# Plotting tools\n",
    "import pyLDAvis\n",
    "import pyLDAvis.gensim  # don't skip this\n",
    "import matplotlib.pyplot as plt\n",
    "%matplotlib inline\n",
    "\n",
    "# Enable logging for gensim - optional\n",
    "import logging\n",
    "logging.basicConfig(format='%(asctime)s : %(levelname)s : %(message)s', level=logging.ERROR)\n",
    "\n",
    "import warnings\n",
    "warnings.filterwarnings(\"ignore\",category=DeprecationWarning)"
   ]
  },
  {
   "cell_type": "markdown",
   "metadata": {},
   "source": [
    "# Пример анализ тем в статьях NIPS\n",
    "\n",
    "## https://www.kaggle.com/benhamner/nips-papers"
   ]
  },
  {
   "cell_type": "code",
   "execution_count": 7,
   "metadata": {},
   "outputs": [],
   "source": [
    "stop_words = stopwords.words('english')\n",
    "stop_words.extend(['from', 'subject', 're', 'edu', 'use'])\n",
    "stop_words = set(stop_words)"
   ]
  },
  {
   "cell_type": "code",
   "execution_count": 8,
   "metadata": {},
   "outputs": [],
   "source": [
    "df = pd.read_csv('nips-papers/papers.csv')"
   ]
  },
  {
   "cell_type": "code",
   "execution_count": 9,
   "metadata": {},
   "outputs": [
    {
     "name": "stdout",
     "output_type": "stream",
     "text": [
      "(7241, 7)\n"
     ]
    },
    {
     "data": {
      "text/html": [
       "<div>\n",
       "<style scoped>\n",
       "    .dataframe tbody tr th:only-of-type {\n",
       "        vertical-align: middle;\n",
       "    }\n",
       "\n",
       "    .dataframe tbody tr th {\n",
       "        vertical-align: top;\n",
       "    }\n",
       "\n",
       "    .dataframe thead th {\n",
       "        text-align: right;\n",
       "    }\n",
       "</style>\n",
       "<table border=\"1\" class=\"dataframe\">\n",
       "  <thead>\n",
       "    <tr style=\"text-align: right;\">\n",
       "      <th></th>\n",
       "      <th>id</th>\n",
       "      <th>year</th>\n",
       "      <th>title</th>\n",
       "      <th>event_type</th>\n",
       "      <th>pdf_name</th>\n",
       "      <th>abstract</th>\n",
       "      <th>paper_text</th>\n",
       "    </tr>\n",
       "  </thead>\n",
       "  <tbody>\n",
       "    <tr>\n",
       "      <th>0</th>\n",
       "      <td>1</td>\n",
       "      <td>1987</td>\n",
       "      <td>Self-Organization of Associative Database and ...</td>\n",
       "      <td>NaN</td>\n",
       "      <td>1-self-organization-of-associative-database-an...</td>\n",
       "      <td>Abstract Missing</td>\n",
       "      <td>767\\n\\nSELF-ORGANIZATION OF ASSOCIATIVE DATABA...</td>\n",
       "    </tr>\n",
       "    <tr>\n",
       "      <th>1</th>\n",
       "      <td>10</td>\n",
       "      <td>1987</td>\n",
       "      <td>A Mean Field Theory of Layer IV of Visual Cort...</td>\n",
       "      <td>NaN</td>\n",
       "      <td>10-a-mean-field-theory-of-layer-iv-of-visual-c...</td>\n",
       "      <td>Abstract Missing</td>\n",
       "      <td>683\\n\\nA MEAN FIELD THEORY OF LAYER IV OF VISU...</td>\n",
       "    </tr>\n",
       "    <tr>\n",
       "      <th>2</th>\n",
       "      <td>100</td>\n",
       "      <td>1988</td>\n",
       "      <td>Storing Covariance by the Associative Long-Ter...</td>\n",
       "      <td>NaN</td>\n",
       "      <td>100-storing-covariance-by-the-associative-long...</td>\n",
       "      <td>Abstract Missing</td>\n",
       "      <td>394\\n\\nSTORING COVARIANCE BY THE ASSOCIATIVE\\n...</td>\n",
       "    </tr>\n",
       "    <tr>\n",
       "      <th>3</th>\n",
       "      <td>1000</td>\n",
       "      <td>1994</td>\n",
       "      <td>Bayesian Query Construction for Neural Network...</td>\n",
       "      <td>NaN</td>\n",
       "      <td>1000-bayesian-query-construction-for-neural-ne...</td>\n",
       "      <td>Abstract Missing</td>\n",
       "      <td>Bayesian Query Construction for Neural\\nNetwor...</td>\n",
       "    </tr>\n",
       "    <tr>\n",
       "      <th>4</th>\n",
       "      <td>1001</td>\n",
       "      <td>1994</td>\n",
       "      <td>Neural Network Ensembles, Cross Validation, an...</td>\n",
       "      <td>NaN</td>\n",
       "      <td>1001-neural-network-ensembles-cross-validation...</td>\n",
       "      <td>Abstract Missing</td>\n",
       "      <td>Neural Network Ensembles, Cross\\nValidation, a...</td>\n",
       "    </tr>\n",
       "    <tr>\n",
       "      <th>5</th>\n",
       "      <td>1002</td>\n",
       "      <td>1994</td>\n",
       "      <td>Using a neural net to instantiate a deformable...</td>\n",
       "      <td>NaN</td>\n",
       "      <td>1002-using-a-neural-net-to-instantiate-a-defor...</td>\n",
       "      <td>Abstract Missing</td>\n",
       "      <td>U sing a neural net to instantiate a\\ndeformab...</td>\n",
       "    </tr>\n",
       "    <tr>\n",
       "      <th>6</th>\n",
       "      <td>1003</td>\n",
       "      <td>1994</td>\n",
       "      <td>Plasticity-Mediated Competitive Learning</td>\n",
       "      <td>NaN</td>\n",
       "      <td>1003-plasticity-mediated-competitive-learning.pdf</td>\n",
       "      <td>Abstract Missing</td>\n",
       "      <td>Plasticity-Mediated Competitive Learning\\n\\nTe...</td>\n",
       "    </tr>\n",
       "    <tr>\n",
       "      <th>7</th>\n",
       "      <td>1004</td>\n",
       "      <td>1994</td>\n",
       "      <td>ICEG Morphology Classification using an Analog...</td>\n",
       "      <td>NaN</td>\n",
       "      <td>1004-iceg-morphology-classification-using-an-a...</td>\n",
       "      <td>Abstract Missing</td>\n",
       "      <td>ICEG Morphology Classification using an\\nAnalo...</td>\n",
       "    </tr>\n",
       "    <tr>\n",
       "      <th>8</th>\n",
       "      <td>1005</td>\n",
       "      <td>1994</td>\n",
       "      <td>Real-Time Control of a Tokamak Plasma Using Ne...</td>\n",
       "      <td>NaN</td>\n",
       "      <td>1005-real-time-control-of-a-tokamak-plasma-usi...</td>\n",
       "      <td>Abstract Missing</td>\n",
       "      <td>Real-Time Control of a Tokamak Plasma\\nUsing N...</td>\n",
       "    </tr>\n",
       "    <tr>\n",
       "      <th>9</th>\n",
       "      <td>1006</td>\n",
       "      <td>1994</td>\n",
       "      <td>Pulsestream Synapses with Non-Volatile Analogu...</td>\n",
       "      <td>NaN</td>\n",
       "      <td>1006-pulsestream-synapses-with-non-volatile-an...</td>\n",
       "      <td>Abstract Missing</td>\n",
       "      <td>Real-Time Control of a Tokamak Plasma\\nUsing N...</td>\n",
       "    </tr>\n",
       "  </tbody>\n",
       "</table>\n",
       "</div>"
      ],
      "text/plain": [
       "     id  year                                              title event_type  \\\n",
       "0     1  1987  Self-Organization of Associative Database and ...        NaN   \n",
       "1    10  1987  A Mean Field Theory of Layer IV of Visual Cort...        NaN   \n",
       "2   100  1988  Storing Covariance by the Associative Long-Ter...        NaN   \n",
       "3  1000  1994  Bayesian Query Construction for Neural Network...        NaN   \n",
       "4  1001  1994  Neural Network Ensembles, Cross Validation, an...        NaN   \n",
       "5  1002  1994  Using a neural net to instantiate a deformable...        NaN   \n",
       "6  1003  1994           Plasticity-Mediated Competitive Learning        NaN   \n",
       "7  1004  1994  ICEG Morphology Classification using an Analog...        NaN   \n",
       "8  1005  1994  Real-Time Control of a Tokamak Plasma Using Ne...        NaN   \n",
       "9  1006  1994  Pulsestream Synapses with Non-Volatile Analogu...        NaN   \n",
       "\n",
       "                                            pdf_name          abstract  \\\n",
       "0  1-self-organization-of-associative-database-an...  Abstract Missing   \n",
       "1  10-a-mean-field-theory-of-layer-iv-of-visual-c...  Abstract Missing   \n",
       "2  100-storing-covariance-by-the-associative-long...  Abstract Missing   \n",
       "3  1000-bayesian-query-construction-for-neural-ne...  Abstract Missing   \n",
       "4  1001-neural-network-ensembles-cross-validation...  Abstract Missing   \n",
       "5  1002-using-a-neural-net-to-instantiate-a-defor...  Abstract Missing   \n",
       "6  1003-plasticity-mediated-competitive-learning.pdf  Abstract Missing   \n",
       "7  1004-iceg-morphology-classification-using-an-a...  Abstract Missing   \n",
       "8  1005-real-time-control-of-a-tokamak-plasma-usi...  Abstract Missing   \n",
       "9  1006-pulsestream-synapses-with-non-volatile-an...  Abstract Missing   \n",
       "\n",
       "                                          paper_text  \n",
       "0  767\\n\\nSELF-ORGANIZATION OF ASSOCIATIVE DATABA...  \n",
       "1  683\\n\\nA MEAN FIELD THEORY OF LAYER IV OF VISU...  \n",
       "2  394\\n\\nSTORING COVARIANCE BY THE ASSOCIATIVE\\n...  \n",
       "3  Bayesian Query Construction for Neural\\nNetwor...  \n",
       "4  Neural Network Ensembles, Cross\\nValidation, a...  \n",
       "5  U sing a neural net to instantiate a\\ndeformab...  \n",
       "6  Plasticity-Mediated Competitive Learning\\n\\nTe...  \n",
       "7  ICEG Morphology Classification using an\\nAnalo...  \n",
       "8  Real-Time Control of a Tokamak Plasma\\nUsing N...  \n",
       "9  Real-Time Control of a Tokamak Plasma\\nUsing N...  "
      ]
     },
     "execution_count": 9,
     "metadata": {},
     "output_type": "execute_result"
    }
   ],
   "source": [
    "print(df.shape)\n",
    "df.head(10)"
   ]
  },
  {
   "cell_type": "code",
   "execution_count": 10,
   "metadata": {},
   "outputs": [],
   "source": [
    "def clean(text):\n",
    "    # Remove new line characters\n",
    "    text = re.sub('\\s+', ' ', text)\n",
    "    # Remove distracting single quotes\n",
    "    text = re.sub(\"\\'\", \"\", text)\n",
    "    return text\n",
    "\n",
    "\n",
    "def doc_to_words(doc, stop_words, lemma):\n",
    "    stop_words = set(stop_words)\n",
    "    # remove stop words and punctuation\n",
    "    words = [w for w in gensim.utils.simple_preprocess(str(doc), deacc=True) if w not in stop_words]\n",
    "    \n",
    "    # make lemmatization\n",
    "    words = [lemma.lemmatize(w) for w in words]\n",
    "    \n",
    "    return words"
   ]
  },
  {
   "cell_type": "code",
   "execution_count": 11,
   "metadata": {},
   "outputs": [],
   "source": [
    "prepare = True"
   ]
  },
  {
   "cell_type": "code",
   "execution_count": 12,
   "metadata": {
    "scrolled": true
   },
   "outputs": [
    {
     "name": "stdout",
     "output_type": "stream",
     "text": [
      "['self',\n",
      " 'organization',\n",
      " 'associative',\n",
      " 'database',\n",
      " 'application',\n",
      " 'hisashi',\n",
      " 'suzuki',\n",
      " 'suguru',\n",
      " 'arimoto',\n",
      " 'osaka',\n",
      " 'university',\n",
      " 'toyonaka',\n",
      " 'osaka',\n",
      " 'japan',\n",
      " 'abstract',\n",
      " 'efficient',\n",
      " 'method',\n",
      " 'self',\n",
      " 'organizing',\n",
      " 'associative',\n",
      " 'database',\n",
      " 'proposed',\n",
      " 'together',\n",
      " 'application',\n",
      " 'robot',\n",
      " 'eyesight',\n",
      " 'system',\n",
      " 'proposed',\n",
      " 'database',\n",
      " 'associate',\n",
      " 'input',\n",
      " 'output',\n",
      " 'first',\n",
      " 'half',\n",
      " 'part',\n",
      " 'discussion',\n",
      " 'algorithm',\n",
      " 'self',\n",
      " 'organization',\n",
      " 'proposed']\n"
     ]
    }
   ],
   "source": [
    "if prepare:\n",
    "    # Convert to list\n",
    "    data = df.paper_text.values.tolist()\n",
    "\n",
    "    data = [clean(t) for t in data]\n",
    "    data_words = [doc_to_words(t, stop_words, lemma) for t in data]\n",
    "    \n",
    "    with open('data.pkl', 'wb') as f:\n",
    "        pickle.dump({'data': data, 'data_words': data_words}, f)\n",
    "else:\n",
    "    with open('data.pkl', 'rb') as f:\n",
    "        d = pickle.load(f)\n",
    "        data = d['data']\n",
    "        data_words = d['data_words']\n",
    "\n",
    "pprint(data_words[0][:40])"
   ]
  },
  {
   "cell_type": "code",
   "execution_count": 13,
   "metadata": {},
   "outputs": [],
   "source": [
    "if prepare:\n",
    "    # Build the bigram and trigram models\n",
    "    bigram = gensim.models.Phrases(data_words, min_count=5, threshold=100) # higher threshold fewer phrases.\n",
    "\n",
    "    # Faster way to get a sentence clubbed as a trigram/bigram\n",
    "    bigram_mod = gensim.models.phrases.Phraser(bigram)\n",
    "    bigram_mod.save('bigram_mod.pkl')\n",
    "    \n",
    "    data_words_bigrams = [bigram_mod[w] for w in data_words]\n",
    "    with open('bigrams.pkl', 'wb') as f:\n",
    "        pickle.dump(data_words_bigrams, f)\n",
    "\n",
    "else:\n",
    "    bigram_mod = gensim.models.Phrases.load('bigram_mod.pkl')\n",
    "    \n",
    "    with open('bigrams.pkl', 'rb') as f:\n",
    "        data_words_bigrams = pickle.load(f)"
   ]
  },
  {
   "cell_type": "code",
   "execution_count": 14,
   "metadata": {},
   "outputs": [
    {
     "data": {
      "text/plain": [
       "['self_organization',\n",
       " 'associative',\n",
       " 'database',\n",
       " 'application',\n",
       " 'hisashi',\n",
       " 'suzuki',\n",
       " 'suguru',\n",
       " 'arimoto',\n",
       " 'osaka',\n",
       " 'university']"
      ]
     },
     "execution_count": 14,
     "metadata": {},
     "output_type": "execute_result"
    }
   ],
   "source": [
    "data_words_bigrams[0][:10]"
   ]
  },
  {
   "cell_type": "code",
   "execution_count": 15,
   "metadata": {},
   "outputs": [],
   "source": [
    "if prepare:\n",
    "    id2word = corpora.Dictionary(data_words_bigrams)\n",
    "    id2word.save('id2word.pkl')\n",
    "else:\n",
    "    id2word = corpora.Dictionary.load('id2word.pkl')"
   ]
  },
  {
   "cell_type": "code",
   "execution_count": 16,
   "metadata": {},
   "outputs": [],
   "source": [
    "corpus = [id2word.doc2bow(text) for text in data_words_bigrams]"
   ]
  },
  {
   "cell_type": "code",
   "execution_count": 17,
   "metadata": {},
   "outputs": [
    {
     "data": {
      "text/plain": [
       "[(0, 1),\n",
       " (1, 1),\n",
       " (2, 1),\n",
       " (3, 2),\n",
       " (4, 1),\n",
       " (5, 6),\n",
       " (6, 1),\n",
       " (7, 1),\n",
       " (8, 3),\n",
       " (9, 1)]"
      ]
     },
     "execution_count": 17,
     "metadata": {},
     "output_type": "execute_result"
    }
   ],
   "source": [
    "corpus[0][:10]"
   ]
  },
  {
   "cell_type": "code",
   "execution_count": 18,
   "metadata": {},
   "outputs": [
    {
     "data": {
      "text/plain": [
       "'actual'"
      ]
     },
     "execution_count": 18,
     "metadata": {},
     "output_type": "execute_result"
    }
   ],
   "source": [
    "id2word[8]"
   ]
  },
  {
   "cell_type": "code",
   "execution_count": 19,
   "metadata": {
    "scrolled": true
   },
   "outputs": [
    {
     "data": {
      "text/plain": [
       "'767 SELF-ORGANIZATION OF ASSOCIATIVE DATABASE AND ITS APPLICATIONS Hisashi Suzuki and Suguru Arimoto Osaka University, Toyonaka, Osaka 560, Japan ABSTRACT An efficient method of self-organizing associative databases is proposed together with applications to robot eyesight systems. The proposed databases can associate any input with some output. In the first half part of discussion, an algorithm of self-organization is proposed. From an aspect of hardware, it produces a new style of neural network. In the latter half part, an applicability to handwritten letter recognition and that to an autonomous mobile robot system are demonstrated. INTRODUCTION Let a mapping f : X -+ Y be given. Here, X is a finite or infinite set, and Y is another finite or infinite set. A learning machine observes any set of pairs (x, y) sampled randomly from X x Y. (X x Y means the Cartesian product of X and Y.) And, it computes some estimate j : X -+ Y of f to make small, the estimation error in some measure. Usually we say that: the faster the decrease of estimation error with increase of the number of samples, the better the learning machine. However, such expression on performance is incomplete. Since, it lacks consideration on the candidates of J of j assumed preliminarily. Then, how should we find out good learning machines? To clarify this conception, let us discuss for a while on some types of learning machines. And, let us advance the understanding of the self-organization of associative database . . Parameter Type An ordinary type of learning machine assumes an equation relating xs and ys with parameters being indefinite, namely, a structure of f. It is equivalent to define implicitly a set F of candidates of (F is some subset of mappings from X to Y.) And, it computes values of the parameters based on the observed samples. We call such type a parameter type. For a learning machine defined well, if F 3 f, j approaches f as the number of samples increases. In the alternative case, however, some estimation error remains eternally. Thus, a problem of designing a learning machine returns to find out a proper structure of f in this sense. On the other hand, the assumed structure of f is demanded to be as compact as possible to achieve a fast learning. In other words, the number of parameters should be small. Since, if the parameters are few, some j can be uniquely determined even though the observed samples are few. However, this demand of being proper contradicts to that of being compact. Consequently, in the parameter type, the better the compactness of the assumed structure that is proper, the better the learning machine. This is the most elementary conception when we design learning machines . 1. . Universality and Ordinary Neural Networks Now suppose that a sufficient knowledge on f is given though J itself is unknown. In this case, it is comparatively easy to find out proper and compact structures of J. In the alternative case, however, it is sometimes difficult. A possible solution is to give up the compactness and assume an almighty structure that can cover various 1s. A combination of some orthogonal bases of the infinite dimension is such a structure. Neural networks 1 ,2 are its approximations obtained by truncating finitely the dimension for implementation. ? American Institute of Physics 1988 768 A main topic in designing neural networks is to establish such desirable structures of 1. This work includes developing practical procedures that compute values of coefficients from the observed samples. Such discussions are :flourishing since 1980 while many efficient methods have been proposed. Recently, even hardware units computing coefficients in parallel for speed-up are sold, e.g., ANZA, Mark III, Odyssey and E-1. Nevertheless, in neural networks, there always exists a danger of some error remaining eternally in estimating /. Precisely speaking, suppose that a combination of the bases of a finite number can define a structure of 1 essentially. In other words, suppose that F 3 /, or 1 is located near F. In such case, the estimation error is none or negligible. However, if 1 is distant from F, the estimation error never becomes negligible. Indeed, many researches report that the following situation appears when 1 is too complex. Once the estimation error converges to some value (> 0) as the number of samples increases, it decreases hardly even though the dimension is heighten. This property sometimes is a considerable defect of neural networks . . Recursi ve Type The recursive type is founded on another methodology of learning that should be as follows. At the initial stage of no sample, the set Fa (instead of notation F) of candidates of I equals to the set of all mappings from X to Y. After observing the first sample (Xl, Yl) E X x Y, Fa is reduced to Fi so that I(xt) = Yl for any I E F. After observing the second sample (X2 Y2) E X x Y, Fl is further reduced to F2 so that i(xt) = Yl and I(X2) = Y2 for any I E F. Thus, the candidate set F becomes gradually small as observation of samples proceeds. The after observing i-samples, which we write is one of the most likelihood estimation of 1 selected in fi;. Hence, contrarily to the parameter type, the recursive type guarantees surely that j approaches to 1 as the number of samples increases. The recursive type, if observes a sample (x\" yd, rewrites values 1,-l(X),S to I,(x)s for some xs correlated to the sample. Hence, this type has an architecture composed of a rule for rewriting and a free memory space. Such architecture forms naturally a kind of database that builds up management systems of data in a self-organizing way. However, this database differs from ordinary ones in the following sense. It does not only record the samples already observed, but computes some estimation of l(x) for any x E X. We call such database an associative database. The first subject in constructing associative databases is how we establish the rule for rewri ting. For this purpose, we adap t a measure called the dissimilari ty. Here, a dissimilari ty means a mapping d : X x X -+ {reals > O} such that for any (x, x) E X x X, d(x, x) > 0 whenever l(x) t /(x). However, it is not necessarily defined with a single formula. It is definable with, for example, a collection of rules written in forms of \"if? .. then?? .. \" The dissimilarity d defines a structure of 1 locally in X x Y. Hence, even though the knowledge on f is imperfect, we can re:flect it on d in some heuristic way. Hence, contrarily to neural networks, it is possible to accelerate the speed of learning by establishing d well. Especially, we can easily find out simple ds for those ls which process analogically information like a human. (See the applications in this paper.) And, for such /s, the recursive type shows strongly its effectiveness. We denote a sequence of observed samples by (Xl, Yd, (X2 Y2),???. One of the simplest constructions of associative databases after observing i-samples (i = 1,2,.,,) is as follows. i i\" I, Algorithm 1. At the initial stage, let So be the empty set. For every i = 1,2\" .. , let i,-l(x) for any x E X equal some y* such that (x*,y*) E S,-l and d(x, x*) = min (%,y)ES.-t d(x, x) . Furthermore, add (x\" y,) to S;-l to produce Sa, i.e., S, = S,_l U {(x\" (1) y,n. 769 Another version improved to economize the memory is as follows. Algorithm 2, At the initial stage, let So be composed of an arbitrary element in X x Y. For every i = 1,2\"\", let ii-lex) for any x E X equal some y. such that (x?, y.) E Si-l and d(x, x?) = min d(x, x) . (i,i)ES.-l Furthermore, if ii-l(Xi) # Yi then let Si = Si-l, or add (Xi, Yi) to Si-l to produce Si, i.e., Si = Si-l U {(Xi, Yi)} In either construction, ii approaches to f as i increases. However, the computation time grows proportionally to the size of Si. The second subject in constructing associative databases is what addressing rule we should employ to economize the computation time. In the subsequent chapters, a construction of associative database for this purpose is proposed. It manages data in a form of binary tree. SELF-ORGANIZATION OF ASSOCIATIVE DATABASE Given a sample sequence (Xl, Yl), (X2 Y2), .. \" the algorithm for constructing associative database is as follows. Algorithm 3, Step I(Initialization): Let (x[root], y[root]) = (Xl, Yd. Here, x[.] and y[.] are variables assigned for respective nodes to memorize data.. Furthermore, let t = 1. Step 2: Increase t by 1, and put x, in. After reset a pointer n to the root, repeat the following until n arrives at some terminal node, i.e., leaf. Notations nand d(xt, x[n)), let n n mean the descendant nodes of n. =n. Otherwise, let n =n. If d(x\" r[n)) ~ Step 3: Display yIn] as the related information. Next, put y, in. If yIn] = y\" back to step 2. Otherwise, first establish new descendant nodes n and n. Secondly, let (x[n], yIn)) (x[n], yIn)) (x[n], yIn)), (Xt, y,). (2) (3) Finally, back to step 2. Here, the loop of step 2-3 can be stopped at any time and also can be continued. Now, suppose that gate elements, namely, artificial \"synapses\" that play the role of branching by d are prepared. Then, we obtain a new style of neural network with gate elements being randomly connected by this algorithm. LETTER RECOGNITION Recen tly, the vertical slitting method for recognizing typographic English letters3 , the elastic matching method for recognizing hand written discrete English letters4 , the global training and fuzzy logic search method for recognizing Chinese characters written in square styleS, etc. are published. The self-organization of associative database realizes the recognition of handwritten continuous English letters. 770 9 /wn\" NOV ~ ~ ~ -xk :La.t ~~ ~ ~~~ dw1lo ~~~~~of~~ ~~~ 4,-?~~4Fig. 1. Source document. 2~~--------------- lOO~--------------- H o o Fig. 2. Windowing. 1000 2000 3000 4000 Number of samples o 1000 2000 3000 4000 NUAlber of sampl es Fig. 3. An experiment result. An image scanner takes a document image (Fig. 1). The letter recognizer uses a parallelogram window that at least can cover the maximal letter (Fig. 2), and processes the sequence of letters while shifting the window. That is, the recognizer scans a word in a slant direction. And, it places the window so that its left vicinity may be on the first black point detected. Then, the window catches a letter and some part of the succeeding letter. If recognition of the head letter is performed, its end position, namely, the boundary line between two letters becomes known. Hence, by starting the scanning from this boundary and repeating the above operations, the recognizer accomplishes recursively the task. Thus the major problem comes to identifying the head letter in the window. Considering it, we define the following. ? Regard window images as xs, and define X accordingly. ? For a (x, x) E X x X, denote by B a black point in the left area from the boundary on window image X. Project each B onto window image x. Then, measure the Euclidean distance 6 between fj and a black point B on x being the closest to B. Let d(x, x) be the summation of 6s for all black points Bs on x divided by the number of Bs. ? Regard couples of the \"reading\" and the position of boundary as ys, and define Y accordingly. An operator teaches the recognizer in interaction the relation between window image and reading& boundary with algorithm 3. Precisely, if the recalled reading is incorrect, the operator teaches a correct reading via the console. Moreover, if the boundary position is incorrect, he teaches a correct position via the mouse. Fig. 1 shows partially a document image used in this experiment. Fig. 3 shows the change of the number of nodes and that of the recognition rate defined as the relative frequency of correct answers in the past 1000 trials. Speciiications of the window are height = 20dot, width = 10dot, and slant angular = 68deg. In this example, the levels of tree were distributed in 6-19 at time 4000 and the recognition rate converged to about 74%. Experimentally, the recognition rate converges to about 60-85% in most cases, and to 95% at a rare case. However, it does not attain 100% since, e.g., \"c\" and \"e\" are not distinguishable because of excessive lluctuation in writing. If the consistency of the x, y-relation is not assured like this, the number of nodes increases endlessly (d. Fig. 3). Hence, it is clever to stop the learning when the recognition rate attains some upper limit. To improve further the recognition rate, we must consider the spelling of words. It is one of future subjects. 771 OBSTACLE AVOIDING MOVEMENT Various systems of camera type autonomous mobile robot are reported flourishingly6-1O. The system made up by the authors (Fig. 4) also belongs to this category. Now, in mathematical methodologies, we solve usually the problem of obstacle avoiding movement as a cost minimization problem under some cost criterion established artificially. Contrarily, the self-organization of associative database reproduces faithfully the cost criterion of an operator. Therefore, motion of the robot after learning becomes very natural. Now, the length, width and height of the robot are all about O.7m, and the weight is about 30kg. The visual angle of camera is about 55deg. The robot has the following three factors of motion. It turns less than ?30deg, advances less than 1m, and controls speed less than 3km/h. The experiment was done on the passageway of wid th 2.5m inside a building which the authors laboratories exist in (Fig. 5). Because of an experimental intention, we arrange boxes, smoking stands, gas cylinders, stools, handcarts, etc. on the passage way at random. We let the robot take an image through the camera, recall a similar image, and trace the route preliminarily recorded on it. For this purpose, we define the following. ? Let the camera face 28deg downward to take an image, and process it through a low pass filter. Scanning vertically the filtered image from the bottom to the top, search the first point C where the luminance changes excessively. Then, su bstitu te all points from the bottom to C for white, and all points from C to the top for black (Fig. 6). (If no obstacle exists just in front of the robot, the white area shows the free area where the robot can move around.) Regard binary 32 x 32dot images processed thus as xs, and define X accordingly. ? For every (x, x) E X x X, let d(x, x) be the number of black points on the exclusive-or image between x and X. ? Regard as ys the images obtained by drawing routes on images xs, and define Y accordingly. The robot superimposes, on the current camera image x, the route recalled for x, and inquires the operator instructions. The operator judges subjectively whether the suggested route is appropriate or not. In the negative answer, he draws a desirable route on x with the mouse to teach a new y to the robot. This opera.tion defines implicitly a sample sequence of (x, y) reflecting the cost criterion of the operator. .::l\" ! - IibUBe _. - 22 11 Roan 12 {- 13 Stationary uni t Fig. 4. Configuration of autonomous mobile robot system. ~ I , 23 24 North 14 rmbi Ie unit (robot) - Roan y t Fig. 5. Experimental environment. 772 Wall Camera image Preprocessing A ::: !fa ? Preprocessing 0 O Course suggest ion ?? .. Search A Fig. 6. Processing for obstacle avoiding movement. x Fig. 1. Processing for position identification. We define the satisfaction rate by the relative frequency of acceptable suggestions of route in the past 100 trials. In a typical experiment, the change of satisfaction rate showed a similar tendency to Fig. 3, and it attains about 95% around time 800. Here, notice that the rest 5% does not mean directly the percentage of collision. (In practice, we prevent the collision by adopting some supplementary measure.) At time 800, the number of nodes was 145, and the levels of tree were distributed in 6-17. The proposed method reflects delicately various characters of operator. For example, a robot trained by an operator 0 moves slowly with enough space against obstacles while one trained by another operator 0 brushes quickly against obstacles. This fact gives us a hint on a method of printing \"characters\" into machines. POSITION IDENTIFICATION The robot can identify its position by recalling a similar landscape with the position data to a camera image. For this purpose, in principle, it suffices to regard camera images and position data as xs and ys, respectively. However, the memory capacity is finite in actual compu ters. Hence, we cannot but compress the camera images at a slight loss of information. Such compression is admittable as long as the precision of position identification is in an acceptable area. Thus, the major problem comes to find out some suitable compression method. In the experimental environment (Fig. 5), juts are on the passageway at intervals of 3.6m, and each section between adjacent juts has at most one door. The robot identifies roughly from a surrounding landscape which section itself places in. And, it uses temporarily a triangular surveying technique if an exact measure is necessary. To realize the former task, we define the following . ? Turn the camera to take a panorama image of 360deg. Scanning horizontally the center line, substitute the points where the luminance excessively changes for black and the other points for white (Fig. 1). Regard binary 360dot line images processed thus as xs, and define X accordingly. ? For every (x, x) E X x X, project each black point A on x onto x. And, measure the Euclidean distance 6 between A and a black point A on x being the closest to A. Let the summation of 6 be S. Similarly, calculate S by exchanging the roles of x and X. Denoting the numbers of As and As respectively by nand n, define 773 d(x, x) = ~(~ + ~). 2 n n (4) ? Regard positive integers labeled on sections as ys (cf. Fig. 5), and define Y accordingly. In the learning mode, the robot checks exactly its position with a counter that is reset periodically by the operator. The robot runs arbitrarily on the passageways within 18m area and learns the relation between landscapes and position data. (Position identification beyond 18m area is achieved by crossing plural databases one another.) This task is automatic excepting the periodic reset of counter, namely, it is a kind of learning without teacher. We define the identification rate by the relative frequency of correct recalls of position data in the past 100 trials. In a typical example, it converged to about 83% around time 400. At time 400, the number of levels was 202, and the levels oftree were distributed in 522. Since the identification failures of 17% can be rejected by considering the trajectory, no pro blem arises in practical use. In order to improve the identification rate, the compression ratio of camera images must be loosened. Such possibility depends on improvement of the hardware in the future. Fig. 8 shows an example of actual motion of the robot based on the database for obstacle avoiding movement and that for position identification. This example corresponds to a case of moving from 14 to 23 in Fig. 5. Here, the time interval per frame is about 40sec. ,~. .~ ( ;~\"i.. ~ \" \" . ..I I ? ? \" I . .1 t ; i -: , . . , II Fig. 8. Actual motion of the robot. 774 CONCLUSION A method of self-organizing associative databases was proposed with the application to robot eyesight systems. The machine decomposes a global structure unknown into a set of local structures known and learns universally any input-output response. This framework of problem implies a wide application area other than the examples shown in this paper. A defect of the algorithm 3 of self-organization is that the tree is balanced well only for a subclass of structures of f. A subject imposed us is to widen the class. A probable solution is to abolish the addressing rule depending directly on values of d and, instead, to establish another rule depending on the distribution function of values of d. It is now under investigation. REFERENCES 1. Hopfield, J. J. and D. W. Tank, \"Computing with Neural Circuit: A Model/ Science 233 (1986), pp. 625-633. 2. Rumelhart, D. E. et al., \"Learning Representations by Back-Propagating Errors,\" Nature 323 (1986), pp. 533-536. 3. Hull, J. J., \"Hypothesis Generation in a Computational Model for Visual Word Recognition,\" IEEE Expert, Fall (1986), pp. 63-70. 4. Kurtzberg, J. M., \"Feature Analysis for Symbol Recognition by Elastic Matching,\" IBM J. Res. Develop. 31-1 (1987), pp. 91-95. 5. Wang, Q. R. and C. Y. Suen, \"Large Tree Classifier with Heuristic Search and Global Training,\" IEEE Trans. Pattern. Anal. & Mach. Intell. PAMI 9-1 (1987) pp. 91-102. 6. Brooks, R. A. et al, \"Self Calibration of Motion and Stereo Vision for Mobile Robots,\" 4th Int. Symp. of Robotics Research (1987), pp. 267-276. 7. Goto, Y. and A. Stentz, \"The CMU System for Mobile Robot Navigation,\" 1987 IEEE Int. Conf. on Robotics & Automation (1987), pp. 99-105. 8. Madarasz, R. et al., \"The Design of an Autonomous Vehicle for the Disabled,\" IEEE Jour. of Robotics & Automation RA 2-3 (1986), pp. 117-125. 9. Triendl, E. and D. J. Kriegman, \"Stereo Vision and Navigation within Buildings,\" 1987 IEEE Int. Conf. on Robotics & Automation (1987), pp. 1725-1730. 10. Turk, M. A. et al., \"Video Road-Following for the Autonomous Land Vehicle,\" 1987 IEEE Int. Conf. on Robotics & Automation (1987), pp. 273-279. '"
      ]
     },
     "execution_count": 19,
     "metadata": {},
     "output_type": "execute_result"
    }
   ],
   "source": [
    "data[0]"
   ]
  },
  {
   "cell_type": "code",
   "execution_count": 20,
   "metadata": {},
   "outputs": [
    {
     "data": {
      "text/plain": [
       "6"
      ]
     },
     "execution_count": 20,
     "metadata": {},
     "output_type": "execute_result"
    }
   ],
   "source": [
    "data[0].count('accordingly')"
   ]
  },
  {
   "cell_type": "code",
   "execution_count": 24,
   "metadata": {},
   "outputs": [],
   "source": [
    "if prepare:\n",
    "    lda_model = gensim.models.ldamodel.LdaModel(\n",
    "        corpus=corpus,\n",
    "        id2word=id2word,\n",
    "        num_topics=20, \n",
    "        random_state=100,\n",
    "        update_every=1,\n",
    "        chunksize=100,\n",
    "        passes=10,\n",
    "        alpha='auto',\n",
    "        per_word_topics=True)\n",
    "    lda_model.save('lda_default.pkl')\n",
    "else:\n",
    "    lda_model = gensim.models.ldamodel.LdaModel.load('lda_default.pkl')"
   ]
  },
  {
   "cell_type": "code",
   "execution_count": 25,
   "metadata": {
    "scrolled": true
   },
   "outputs": [
    {
     "name": "stdout",
     "output_type": "stream",
     "text": [
      "[(0,\n",
      "  '0.045*\"time\" + 0.037*\"signal\" + 0.026*\"noise\" + 0.020*\"source\" + '\n",
      "  '0.020*\"domain\" + 0.016*\"event\" + 0.014*\"filter\" + 0.013*\"frequency\" + '\n",
      "  '0.013*\"system\" + 0.011*\"speech\"'),\n",
      " (1,\n",
      "  '0.022*\"pi\" + 0.018*\"ai\" + 0.015*\"ii\" + 0.011*\"vi\" + 0.011*\"al\" + 0.011*\"mi\" '\n",
      "  '+ 0.010*\"pr\" + 0.009*\"pu\" + 0.009*\"sr\" + 0.008*\"hi\"'),\n",
      " (2,\n",
      "  '0.292*\"group\" + 0.067*\"interaction\" + 0.047*\"streaming\" + 0.043*\"protein\" + '\n",
      "  '0.042*\"stream\" + 0.025*\"site\" + 0.021*\"grouping\" + 0.018*\"binding\" + '\n",
      "  '0.017*\"overlapping\" + 0.011*\"gy\"'),\n",
      " (3,\n",
      "  '0.042*\"map\" + 0.036*\"region\" + 0.023*\"motion\" + 0.022*\"field\" + '\n",
      "  '0.021*\"point\" + 0.020*\"local\" + 0.018*\"location\" + 0.014*\"figure\" + '\n",
      "  '0.012*\"energy\" + 0.012*\"surface\"'),\n",
      " (4,\n",
      "  '0.063*\"learning\" + 0.036*\"loss\" + 0.036*\"label\" + 0.035*\"class\" + '\n",
      "  '0.029*\"classifier\" + 0.029*\"classification\" + 0.023*\"example\" + '\n",
      "  '0.017*\"training\" + 0.012*\"function\" + 0.012*\"algorithm\"'),\n",
      " (5,\n",
      "  '0.016*\"node\" + 0.016*\"graph\" + 0.014*\"algorithm\" + 0.014*\"set\" + '\n",
      "  '0.012*\"model\" + 0.009*\"tree\" + 0.008*\"edge\" + 0.007*\"number\" + '\n",
      "  '0.007*\"structure\" + 0.007*\"problem\"'),\n",
      " (6,\n",
      "  '0.023*\"data\" + 0.018*\"feature\" + 0.014*\"method\" + 0.013*\"task\" + '\n",
      "  '0.012*\"performance\" + 0.012*\"test\" + 0.012*\"model\" + 0.011*\"set\" + '\n",
      "  '0.011*\"training\" + 0.010*\"using\"'),\n",
      " (7,\n",
      "  '0.042*\"model\" + 0.017*\"task\" + 0.016*\"control\" + 0.014*\"system\" + '\n",
      "  '0.013*\"human\" + 0.012*\"learning\" + 0.010*\"figure\" + 0.010*\"trajectory\" + '\n",
      "  '0.009*\"feedback\" + 0.008*\"prediction\"'),\n",
      " (8,\n",
      "  '0.021*\"algorithm\" + 0.019*\"problem\" + 0.018*\"function\" + 0.017*\"method\" + '\n",
      "  '0.012*\"optimization\" + 0.009*\"solution\" + 0.009*\"gradient\" + 0.009*\"linear\" '\n",
      "  '+ 0.009*\"kernel\" + 0.007*\"convex\"'),\n",
      " (9,\n",
      "  '0.020*\"bound\" + 0.015*\"theorem\" + 0.014*\"log\" + 0.011*\"function\" + '\n",
      "  '0.011*\"result\" + 0.010*\"let\" + 0.010*\"distribution\" + 0.010*\"sample\" + '\n",
      "  '0.009*\"case\" + 0.009*\"probability\"'),\n",
      " (10,\n",
      "  '0.039*\"cell\" + 0.036*\"response\" + 0.021*\"stimulus\" + 0.021*\"visual\" + '\n",
      "  '0.021*\"model\" + 0.014*\"attention\" + 0.011*\"spatial\" + 0.010*\"information\" + '\n",
      "  '0.010*\"unit\" + 0.009*\"receptive_field\"'),\n",
      " (11,\n",
      "  '0.034*\"neuron\" + 0.016*\"time\" + 0.015*\"dynamic\" + 0.014*\"neural\" + '\n",
      "  '0.013*\"activity\" + 0.013*\"network\" + 0.010*\"input\" + 0.009*\"pattern\" + '\n",
      "  '0.009*\"model\" + 0.008*\"state\"'),\n",
      " (12,\n",
      "  '0.118*\"matrix\" + 0.035*\"sparse\" + 0.023*\"vector\" + 0.019*\"column\" + '\n",
      "  '0.018*\"data\" + 0.016*\"low\" + 0.015*\"subspace\" + 0.015*\"analysis\" + '\n",
      "  '0.014*\"entry\" + 0.014*\"noise\"'),\n",
      " (13,\n",
      "  '0.076*\"image\" + 0.028*\"object\" + 0.022*\"model\" + 0.016*\"convolutional\" + '\n",
      "  '0.015*\"feature\" + 0.013*\"recognition\" + 0.011*\"pixel\" + '\n",
      "  '0.010*\"representation\" + 0.010*\"visual\" + 0.008*\"using\"'),\n",
      " (14,\n",
      "  '0.052*\"state\" + 0.042*\"policy\" + 0.033*\"action\" + 0.028*\"learning\" + '\n",
      "  '0.025*\"reward\" + 0.023*\"agent\" + 0.016*\"value\" + 0.016*\"function\" + '\n",
      "  '0.015*\"reinforcement\" + 0.012*\"optimal\"'),\n",
      " (15,\n",
      "  '0.029*\"memory\" + 0.016*\"bit\" + 0.015*\"distributed\" + 0.015*\"parallel\" + '\n",
      "  '0.014*\"system\" + 0.013*\"communication\" + 0.012*\"code\" + 0.011*\"time\" + '\n",
      "  '0.011*\"computation\" + 0.010*\"implementation\"'),\n",
      " (16,\n",
      "  '0.047*\"cluster\" + 0.046*\"clustering\" + 0.042*\"distance\" + 0.040*\"point\" + '\n",
      "  '0.039*\"data\" + 0.024*\"metric\" + 0.021*\"embedding\" + 0.020*\"space\" + '\n",
      "  '0.019*\"mean\" + 0.016*\"algorithm\"'),\n",
      " (17,\n",
      "  '0.076*\"network\" + 0.032*\"neural\" + 0.026*\"input\" + 0.026*\"layer\" + '\n",
      "  '0.023*\"learning\" + 0.020*\"training\" + 0.020*\"output\" + 0.019*\"unit\" + '\n",
      "  '0.018*\"weight\" + 0.014*\"deep\"'),\n",
      " (18,\n",
      "  '0.048*\"model\" + 0.025*\"distribution\" + 0.014*\"data\" + 0.013*\"log\" + '\n",
      "  '0.012*\"parameter\" + 0.012*\"inference\" + 0.011*\"variable\" + 0.011*\"gaussian\" '\n",
      "  '+ 0.010*\"likelihood\" + 0.010*\"latent\"'),\n",
      " (19,\n",
      "  '0.061*\"algorithm\" + 0.038*\"xt\" + 0.022*\"time\" + 0.021*\"online\" + '\n",
      "  '0.017*\"game\" + 0.016*\"stochastic\" + 0.015*\"arm\" + 0.015*\"learning\" + '\n",
      "  '0.012*\"strategy\" + 0.012*\"setting\"')]\n"
     ]
    }
   ],
   "source": [
    "pprint(lda_model.print_topics())"
   ]
  },
  {
   "cell_type": "code",
   "execution_count": 27,
   "metadata": {},
   "outputs": [],
   "source": [
    "# pyLDAvis.enable_notebook()\n",
    "# vis = pyLDAvis.gensim.prepare(lda_model, corpus, id2word)\n",
    "# vis"
   ]
  },
  {
   "cell_type": "code",
   "execution_count": 28,
   "metadata": {},
   "outputs": [
    {
     "name": "stdout",
     "output_type": "stream",
     "text": [
      "\n",
      "Perplexity:  -10.48982175017813\n",
      "\n",
      "Coherence Score:  0.487366949616273\n"
     ]
    }
   ],
   "source": [
    "# Compute Perplexity\n",
    "print('\\nPerplexity: ', lda_model.log_perplexity(corpus))  # a measure of how good the model is. lower the better.\n",
    "\n",
    "# Compute Coherence Score\n",
    "coherence_model_lda = CoherenceModel(model=lda_model, texts=data_words_bigrams, dictionary=id2word, coherence='c_v')\n",
    "coherence_lda = coherence_model_lda.get_coherence()\n",
    "print('\\nCoherence Score: ', coherence_lda)"
   ]
  },
  {
   "cell_type": "code",
   "execution_count": 29,
   "metadata": {},
   "outputs": [
    {
     "data": {
      "text/plain": [
       "[(3, 0.01658643),\n",
       " (5, 0.044622492),\n",
       " (6, 0.027334329),\n",
       " (7, 0.0396485),\n",
       " (8, 0.27373648),\n",
       " (9, 0.076953515),\n",
       " (14, 0.43688047),\n",
       " (17, 0.062421918),\n",
       " (19, 0.017954744)]"
      ]
     },
     "execution_count": 29,
     "metadata": {},
     "output_type": "execute_result"
    }
   ],
   "source": [
    "lda_model.get_document_topics(corpus[22])"
   ]
  },
  {
   "cell_type": "code",
   "execution_count": 30,
   "metadata": {
    "scrolled": true
   },
   "outputs": [
    {
     "data": {
      "text/plain": [
       "'Generalization in Reinforcement Learning: Safely Approximating the Value Function Justin A. Boyan and Andrew W. Moore Computer Science Department Carnegie Mellon University Pittsburgh, PA 15213 jab@cs.cmu.edu, awm@cs.cmu .edu Abstract A straightforward approach to the curse of dimensionality in reinforcement learning and dynamic programming is to replace the lookup table with a generalizing function approximator such as a neural net. Although this has been successful in the domain of backgammon, there is no guarantee of convergence. In this paper, we show that the combination of dynamic programming and function approximation is not robust, and in even very benign cases, may produce an entirely wrong policy. We then introduce Grow-Support, a new algorithm which is safe from divergence yet can still reap the benefits of successful generalization . 1 INTRODUCTION Reinforcement learning-the problem of getting an agent to learn to act from sparse, delayed rewards-has been advanced by techniques based on dynamic programming (DP). These algorithms compute a value function which gives, for each state, the minimum possible long-term cost commencing in that state. For the high-dimensional and continuous state spaces characteristic of real-world control tasks, a discrete representation of the value function is intractable; some form of generalization is required. A natural way to incorporate generalization into DP is to use a function approximator, rather than a lookup table, to represent the value function. This approach, which dates back to uses of Legendre polynomials in DP [Bellman et al., 19631, has recently worked well on several dynamic control problems [Mahadevan and Connell, 1990, Lin, 1993] and succeeded spectacularly on the game of backgammon [Tesauro, 1992, Boyan, 1992]. On the other hand, many sensible implementations have been less successful [Bradtke, 1993, Schraudolph et al., 1994]. Indeed, given the well-established success 370 Justin Boyan, Andrew W. Moore on backgammon, the absence of similarly impressive results appearing for other games is perhaps an indication that using function approximation in reinforcement learning does not always work well. In this paper, we demonstrate that the straightforward substitution of function approximators for lookup tables in DP is not robust and, even in very benign cases, may diverge, resulting in an entirely wrong control policy. We then present Grow-Support, a new algorithm designed to converge robustly. Grow-Support grows a collection of states over which function approximation is stable. One-step backups based on Bellman error are not used; instead, values are assigned by performing \"rollouts\" -explicit simulations with a greedy policy. We discuss potential computational advantages of this method and demonstrate its success on some example problems for which the conventional DP algorithm fails. 2 DISCRETE AND SMOOTH VALUE ITERATION Many popular reinforcement learning algorithms, including Q-Iearning and TD(O), are based on the dynamic programmin~ algorithm known as value iteration [Watkins, 1989, Sutton, 1988, Barto et al., 1989J, which for clarity we will call discrete value iteration. Discrete value iteration takes as input a complete model of the world as a Markov Decision Task, and computes the optimal value function J*: J* (x) = the minimum possible sum of future costs starting from x To assure that J* is well-defined, we assume here that costs are nonnegative and that some absorbing goal state-with all future costs O-is reachable from every state. For simplicity we also assume that state transitions are deterministic. Note that J* and the world model together specify a \"greedy\" policy which is optimal for the domain: optimal action from state x = argmin(CosT(x, a) + J*(NEXT-STATE(X, a))) aEA We now consider extending discrete value iteration to the continuous case: we replace the lookup table over all states with a function approximator trained over a sample of states. The smooth value iteration algorithm is given in the appendix. Convergence is no longer guaranteed; we instead recognize four possible classes of behavior: good convergence The function approximator accurately represents the intermediate value functions at each iteration (that is, after m iterations, the value function correctly represents the cost of the cheapest m-step path), and successfully converges to the optimal J* value function. lucky convergence The function approximator does not accurately represent the intermediate value functions at each iteration; nevertheless, the algorithm manages to converge to a value function whose greedy policy is optimal. bad convergence The algorithm converges, i.e. the target J-values for the N training points stop changing, but the resulting value function and policy are poor. divergence Worst of all: small fitter errors may become magnified from one iteration to the next, resulting in a value function which never stops changing. The hope is that the intermediate value functions will be smooth and we will achieve \"good convergence.\" Unfortunately, our experiments have generated all four of these behaviors-and the divergent behavior occurs frequently, even for quite simple problems. Generalization in Reinforcement Learning: Safely Approximating the Value Function 2.1 37 J DIVERGENCE IN SMOOTH VALUE ITERATION We have run simulations in a variety of domains-including a continuous gridworld, a car-on-the-hill problem with nonlinear dynamics, and tic-tac-toe versus a stochastic opponent-and using a variety of function approximators, including polynomial regression, backpropagation, and local weighted regression. In our experiments, none of these function approximators was immune from divergence. The first set ofresults is from the 2-D continuous gridworld, described in Figure 1. By quantizing the state space into a 100 x 100 grid, we can compute J* with discrete value iteration, as shown in Figure 2. The optimal value function is exactly linear: J*(x, y) = 20 - lOx - lOy. Since J* is linear, one would hope smooth value iteration could converge to it with a function approximator as simple as linear or quadratic regression. However, the intermediate value functions of Figure 2 are not smooth and cannot be fit accurately by a low-order polynomial. Using linear regression on a sample of 256 randomly-chosen states, smooth value iteration took over 500 iterations before \"luckily\" converging to optimal. Quadratic regression, though it always produces a smaller fit error than linear regression, did not converge (Figure 3). The quadratic function, in trying to both be flat in the middle of state space and bend down toward 0 at the goal corner, must compensate by underestimating the values at the corner opposite the goal. These underestimates then enlarge on each iteration, as the one-step DP lookaheads erroneously indicate that points can lower their expected cost-to-go by stepping farther away from the goal. The resulting policy is anti-optimal. fontinuous Gridworld J*(x,y) 0.8 0.6 >. 0.4 0.2 0L-0~.~2-0~.~4-0~.~6~0~.~8~1 x Figure 1: In the continuous gridworld domain, the state is a point (x, y) E [0,1]2. There are four actions corresponding to short steps (length 0.05, cost 0.5) in each compass direction, and the goal region is the upper right-hand corner. l*(x, y) is linear. Iteration 12 Iteration 25 .8 1 Figure 2: Computation of 1* by discrete value iteration Iteration 40 Justin Boyan, Andrew W. Moore 372 Iteration 17 Iteration 43 Iteration 127 1 .8 .8 .8 1 Figure 3: Divergence of smooth value iteration with quadratic regression (note z-axis). J*(x , y) Iteration 144 o. o. >. o. .8 o. 0.20 . 40.60 . 8 x 1 1 Figure 4: The 2-D continuous gridworld with puddles, its optimal value function, and a diverging approximation of the value function by Local Weighted Regression (note z-axis). car- o n-the-Hill J* (pa s, vel) 0.5 pas Figure 5: The car-on-the-hill domain. When the velocity is below a threshold, the car must reverse up the left hill to gain enough speed to reach the goal, so r is discontinuous. Iteration 11 Iterati on 101 Iteration 201 Figure 6: Divergerice oYsmooth value iteration wit~ for car-on-th~~hill~ The neural net, a 2-layer MLP with 80 hidden units, was trained for 2000 epochs per iteration. It may seem as though the divergence of smooth value iteration shown above can be attributed to the global nature of polynomial regression. In fact, when the domain is made slightly less trivial, the same types of instabilities appear with even a highly Generalization in Reinforcement Learning: Safely Approximating the Value Function 373 Table 1: Summary of convergence results: Smooth value iteration Domain 2-D grid world 2-D puddle world Car-on-the-hill Linear lucky Quadratic diverge - - - - LWR good diverge good Backprop lucky diverge diverge local memory-based function approximator such as local weighted regression (LWR) [Cleveland and Delvin, 1988]. Figure 4 shows the continuous gridworld augmented to include two oval \"puddles\" through which it is costly to step. Although LWR can fit the corresponding J* function nearly perfectly, smooth value iteration with LWR nonetheless reliably diverges. On another two-dimensional domain, the car-on-the-hill (Figure 5), smooth value iteration with LWR did converge, but a neural net trained by backpropagation did not (see Figure 6) . Table 1 summarizes our results . In light of such experiments, we conclude that the straightforward combination of DP and function approximation is not robust. A general-purpose learning method will require either using a function approximator constrained to be robust during DP [Yee, 1992], or an algorithm which explicitly prevents divergence even in the face of imperfect function approximation, such as the Grow-Support algorithm we present in Section 3. 2.2 RELATED WORK Theoretically, it is not surprising that inserting a smoothing process into a recursive DP procedure can lead to trouble. In [Thrun and Schwartz, 1993] one case is analyzed with the assumption that errors due to function approximation bias are independently distributed. Another area of theoretical analysis concerns inadequately approximated J* functions. In [Singh and Yee, 1994] and [Williams, 1993] bounds are derived for the maximum reduction in optimality that can be produced by a given error in function approximation. If a basis function approximator is used, then the reduction can be large [Sabes, 1993]. These results assume generalization from a dataset containing true optimal values; the true reinforcement learning scenario is even harder because each iteration of DP requires its own function approximation. 3 THE GROW-SUPPORT ALGORITHM The Grow-Support algorithm is designed to construct the optimal value function with a generalizing function approximator while being robust and stable. It recognizes that function approximators cannot always be relied upon to fit the intermediate value functions produced by DP. Instead, it assumes only that the function approximator can represent the final J* function accurately. The specific principles of Grow-Support are these: 1. We maintain a \"support\" set of states whose final J* values have been computed, starting with goal states, and growing this set out from the goal. The fitter is trained only on these values, which we assume it is capable of fitting. 2. Instead of propagating values by one-step DP backups, we use simulations with the current greedy policy, called \"rollouts\". They explicitly verify the achievability of a states cost-to-go estimate before adding that state to the 374 Justin Boyan, Andrew W. Moore support. In a rollout, the J values are derived from costs of actual paths to the goal, not from the values of the previous iterations function approximation. This prevents divergence . 3. We take maximum advantage of generalization. Each iteration, we add to the support set any sample state which can, by executing a single action, reach a state that passes the rollout test. In a discrete environment, this would cause the support set to expand in one-step concentric \"shells\" back from the goal. But in our continuous case, the function approximator may be able to extrapolate correctly well beyond the support region-and when this happens, we can add many points to the support set at once. This leads to the very desirable behavior that the support set grows in big jumps in regions where the value function is smooth. Iteration 1, I Support I =4 Iteration 2, 1Support 1=12 Iteration 3, ISupportl=256 Figure 7: Grow-Support with quadratic regression on the gridworld. (Compare Figure 3.) Iteration 1, I Support I =3 Iteration 2, ISupportl=213 Iteration 5, ISupportl=253 Figure 8: Grow-Support with LWR on the two-puddle gridworld. (Compare Figure 4.) Iteration 3, I Support I =79 Iteration 8, ISupportl=134 Iteration 14, ISupportl=206 3 O. 2 O. -2 o. Figure 9: Grow-Support with backprop on car-on-the-hill. (Compare Figure 6.) The algorithm, again restricted to the deterministic case for simplicity, is outlined in the appendix. In Figures 7-9, we illustrate its convergence on the same combinations of domain and function approximator which caused smooth value iteration to diverge. In Figure 8, all but three points are added to the support within only five iterations, Generalization in Reinforcement Learning: Safely Approximating the Value Function 375 and the resulting greedy policy is optimal. In Figure 9, after 14 iterations, the algorithm terminates. Although 50 states near the discontinuity were not added to the support set, the resulting policy is optimal within the support set. Grow-support converged to a near-optimal policy for all the problems and fitters in Table 1. The Grow-Support algorithm is more robust than value iteration. Empirically, it was also seen to be no more computationally expensive (and often much cheaper) despite the overhead of performing rollouts. Reasons for this are (1) the rollout test is not expensive; (2) once a state has been added to the support, its value is fixed and it needs no more computation; and most importantly, (3) the aggressive exploitation of generalization enables the algorithm to converge in very few iterations. However, with a nondeterministic problem, where multiple rollouts are required to assess the accuracy of a prediction, Grow-Support would become more expensive. It is easy to prove that Grow-Support will always terminate after a finite number of iterations. If the function approximator is inadequate for representing the J* function, Grow-Support may terminate before adding all sample states to the support set. When this happens, we then know exactly which of the sample states are having trouble and which have been learned. This suggests potential schemes for adaptively adding sample states to the support in problematic regions. Investigation of these ideas is in progress. In conclusion, we have demonstrated that dynamic programming methods may diverge when their tables are replaced by generalizing function approximators. Our Grow-Support algorithm uses rollouts, rather than one-step backups, to assign training values and to keep inaccurate states out of the training set. We believe these principles will contribute substantially to producing practical, robust, reinforcement learning. Acknowledgements We thank Scott Fahlman, Geoff Gordon, Mary Lee, Michael Littman and Marc Ringuette for their suggestions, and the NDSEG fellowship and NSF Grant IRI-9214873 for their support. APPENDIX: ALGORITHMS Smooth Value Iteration(X, G, A, NEXT-STATE, COST, FITJ): Given: _ a finite collection of states X = {Xl, X2, .. . XN} sampled from the continuous state space X C fR n , and goal region G C X _ a finite set of allowable actions A _ a deterministic transition function NEXT-STATE: X x A -+ X _ the I-step cost function COST: X x A -+ fR _ a smoothing function approximator FIT J iter := 0 ]<0) [i] := 0 Vi = 1 ... N {X I t-+ J?(iter) [1] } repeat !rain ~ITJ(iter) to approximate the training set: : Iter .:= Iter + 1; XN t-+ /iter)[N] for ~ := 1 ... N do .(iter) [.] ._ { 0 . J 1.minaEA (COST(Xi,a) + FITJ(lter-I)(NEXT-STATE(xi,a))) until j array stops changing if Xi E G otherwise 376 Justin Boyan, Andrew W. Moore subroutine RoIloutCost(x, J): Starting from state x , follow the greedy policy defined by value function J until either reaching the goal, or exceeding a total path cost of J(x) + ?. Then return: --t the actual total cost of the path, if goal is reached from x with cost ~ J(x) + e --t 00, if goal is not reached in cost J(x) + ?. Grow-Support(X,G,A, NEXT-STATE, COST, FITJ): Given: ? exactly the same inputs as Smooth Value Iteration. SUPPORT := {(Xi t-+ 0) I Xi E G} repeat Train FIT J to approximate the training set SUPPORT for each Xi ~ SUPPORT do c := minaEA [COsT(xi,a) + RolloutCost(NEXT-STATE(Xi, a), FITJ)] if c < 00 then add (Xi t-+ c) to the training set SUPPORT until SUPPORT stops growing or includes all sample points. References [Barto et al., 1989] A . Barto, R. Sutton , and C . Watkins . Learning and sequential decision making. Technical Report COINS 89- 95, Univ. of Massachusetts, 1989 . [Bellman et al., 1963] R . Bellman, R . Kalaba, and B . Kotkin. Polynomial approximation-a new computational technique in dynamic programming: Allocation processes . Mathematics of Computation, 17, 1963. [Boyan , 1992] J. A . Boyan. Modular neural networks for learning context-dependent game strategies . Masters thesis, Cambridge University, 1992. [Bradtke, 1993] S. J. Bradtke. Reinforcement learning applied to linear quadratic regulation. In S. J . Hanson, J . Cowan, and C . L . Giles, editors, NIPS-5. Morgan Kaufmann , 1993. [Cleveland and Delvin, 1988] W . S. Cleveland and S. J. Delvin. Locally weighted regression : An approach to regression analysis by local fitting. JASA , 83(403):596-610, September 1988. [Lin, 1993] L.-J . Lin . Reinforcement Learning for Robots Using Neural Networks. PhD thesis, Carnegie Mellon University, 1993. [Mahadevan and Connell , 1990] S. Mahadevan and J. Connell . Automatic programming of behavior-based robots using reinforcement learning. Technical report, IBM T. J . Watson Research Center, NY 10598, 1990 . [Sabes, 1993] P. Sabes . Approximating Q-values with basis function represent ations. In Proceedings of the Fourth C onnectionist Models Summer School, 1993. [Schraudolph et al., 1994] N . Schraudolph, P . Dayan, and T. Sejnowski . Using TD(>.) to learn an evaluation function for the game of Go . In J. D. Cowan, G . Tesauro , and J . Alspector, editors, NIPS-6. Morgan Kaufmann, 1994. [Singh and Yee, 1994] S. P. Singh and R. Yee. An upper bound on the loss from approximate optimal-value functions . Machine Learning, 1994. Technical Note (to appear) . [Sutton, 1988] R . Sutton . Learning to predict by the methods of temporal differences. Machine Learning, 3,1988. [Tesauro, 1992] G. Tesauro. Practical issues in temporal difference learning. Machine Learning, 8(3/4), May 1992. [Thrun and Schwartz, 1993] S. Thrun and A . Schwartz. Issues in using function approximation for reinforcement learning. In Proceedings of the Fourth Connectionist Models Summer School, 1993. [Watkins, 1989] C . Watkins. Learning from Delayed Rewards. PhD thesis, Cambridge University, 1989 . [Williams, 1993] R. Williams . Tight performance bounds on greedy policies based on imperfect value functions . Technical Report NU-CCS-93-13, Northeastern University, 1993. [Yee, 1992] R . Yee. sachusetts, 1992. Abstraction in control learning. Technical Report COINS 92-16 , Univ. of Mas- '"
      ]
     },
     "execution_count": 30,
     "metadata": {},
     "output_type": "execute_result"
    }
   ],
   "source": [
    "data[22]"
   ]
  },
  {
   "cell_type": "code",
   "execution_count": 287,
   "metadata": {
    "collapsed": true
   },
   "outputs": [],
   "source": [
    "def compute_coherence_values(dictionary, corpus, texts, limit, start=2, step=3):\n",
    "    \"\"\"\n",
    "    Compute c_v coherence for various number of topics\n",
    "\n",
    "    Parameters:\n",
    "    ----------\n",
    "    dictionary : Gensim dictionary\n",
    "    corpus : Gensim corpus\n",
    "    texts : List of input texts\n",
    "    limit : Max num of topics\n",
    "\n",
    "    Returns:\n",
    "    -------\n",
    "    model_list : List of LDA topic models\n",
    "    coherence_values : Coherence values corresponding to the LDA model with respective number of topics\n",
    "    \"\"\"\n",
    "    coherence_values = []\n",
    "    model_list = []\n",
    "    for num_topics in range(start, limit, step):\n",
    "        model = gensim.models.ldamodel.LdaModel(\n",
    "            corpus=corpus,\n",
    "            id2word=dictionary,\n",
    "            num_topics=num_topics, \n",
    "            random_state=100,\n",
    "            update_every=1,\n",
    "            chunksize=100,\n",
    "            passes=10,\n",
    "            alpha='auto',\n",
    "            per_word_topics=True)\n",
    "        model_list.append(model)\n",
    "        coherencemodel = CoherenceModel(model=model, texts=texts, dictionary=dictionary, coherence='c_v')\n",
    "        coherence_values.append(coherencemodel.get_coherence())\n",
    "\n",
    "    return model_list, coherence_values"
   ]
  },
  {
   "cell_type": "code",
   "execution_count": 67,
   "metadata": {
    "collapsed": true
   },
   "outputs": [],
   "source": [
    "model_list, coherence_values = compute_coherence_values(dictionary=id2word, corpus=corpus, texts=data_words_bigrams, start=2, limit=40, step=6)"
   ]
  },
  {
   "cell_type": "code",
   "execution_count": 68,
   "metadata": {},
   "outputs": [
    {
     "data": {
      "image/png": "[encoded data removed]",
      "text/plain": [
       "<Figure size 432x288 with 1 Axes>"
      ]
     },
     "metadata": {},
     "output_type": "display_data"
    }
   ],
   "source": [
    "limit=40; start=2; step=6;\n",
    "x = range(start, limit, step)\n",
    "plt.plot(x, coherence_values)\n",
    "plt.xlabel(\"Num Topics\")\n",
    "plt.ylabel(\"Coherence score\")\n",
    "plt.legend((\"coherence_values\"), loc='best')\n",
    "plt.show()"
   ]
  },
  {
   "cell_type": "code",
   "execution_count": 143,
   "metadata": {},
   "outputs": [],
   "source": [
    "if prepare:\n",
    "    lda_model_opt = gensim.models.ldamodel.LdaModel(\n",
    "        corpus=corpus,\n",
    "        id2word=id2word,\n",
    "        num_topics=8, \n",
    "        random_state=100,\n",
    "        update_every=1,\n",
    "        chunksize=100,\n",
    "        passes=10,\n",
    "        alpha='auto',\n",
    "        per_word_topics=True)\n",
    "    lda_model_opt.save('lda_opt.pkl')\n",
    "else:\n",
    "    lda_model_opt = gensim.models.ldamodel.LdaModel.load('lda_opt.pkl')"
   ]
  },
  {
   "cell_type": "code",
   "execution_count": 77,
   "metadata": {},
   "outputs": [
    {
     "name": "stdout",
     "output_type": "stream",
     "text": [
      "[(0,\n",
      "  '0.013*\"model\" + 0.012*\"neuron\" + 0.009*\"time\" + 0.008*\"cell\" + '\n",
      "  '0.007*\"neural\" + 0.007*\"figure\" + 0.007*\"signal\" + 0.007*\"system\" + '\n",
      "  '0.007*\"response\" + 0.006*\"activity\"'),\n",
      " (1,\n",
      "  '0.014*\"algorithm\" + 0.013*\"graph\" + 0.012*\"node\" + 0.009*\"set\" + '\n",
      "  '0.008*\"time\" + 0.008*\"cluster\" + 0.007*\"clustering\" + 0.007*\"structure\" + '\n",
      "  '0.007*\"number\" + 0.006*\"tree\"'),\n",
      " (2,\n",
      "  '0.050*\"network\" + 0.022*\"neural\" + 0.017*\"input\" + 0.015*\"learning\" + '\n",
      "  '0.015*\"layer\" + 0.013*\"output\" + 0.012*\"weight\" + 0.012*\"training\" + '\n",
      "  '0.012*\"unit\" + 0.008*\"function\"'),\n",
      " (3,\n",
      "  '0.032*\"image\" + 0.012*\"object\" + 0.012*\"model\" + 0.011*\"feature\" + '\n",
      "  '0.007*\"using\" + 0.007*\"convolutional\" + 0.006*\"representation\" + '\n",
      "  '0.006*\"map\" + 0.006*\"method\" + 0.006*\"recognition\"'),\n",
      " (4,\n",
      "  '0.016*\"algorithm\" + 0.012*\"function\" + 0.010*\"problem\" + 0.008*\"bound\" + '\n",
      "  '0.008*\"matrix\" + 0.008*\"method\" + 0.007*\"theorem\" + 0.006*\"learning\" + '\n",
      "  '0.006*\"result\" + 0.006*\"log\"'),\n",
      " (5,\n",
      "  '0.031*\"model\" + 0.018*\"distribution\" + 0.013*\"data\" + 0.009*\"log\" + '\n",
      "  '0.009*\"parameter\" + 0.008*\"sample\" + 0.008*\"inference\" + 0.008*\"gaussian\" + '\n",
      "  '0.008*\"variable\" + 0.007*\"method\"'),\n",
      " (6,\n",
      "  '0.016*\"learning\" + 0.015*\"model\" + 0.013*\"data\" + 0.012*\"task\" + '\n",
      "  '0.012*\"feature\" + 0.012*\"training\" + 0.009*\"set\" + 0.008*\"classification\" + '\n",
      "  '0.008*\"label\" + 0.007*\"class\"'),\n",
      " (7,\n",
      "  '0.018*\"state\" + 0.015*\"learning\" + 0.014*\"policy\" + 0.012*\"action\" + '\n",
      "  '0.011*\"algorithm\" + 0.009*\"time\" + 0.009*\"reward\" + 0.008*\"regret\" + '\n",
      "  '0.008*\"value\" + 0.008*\"agent\"')]\n"
     ]
    }
   ],
   "source": [
    "pprint(lda_model_opt.print_topics())"
   ]
  },
  {
   "cell_type": "code",
   "execution_count": 185,
   "metadata": {
    "collapsed": true
   },
   "outputs": [],
   "source": [
    "doc_rl1 = '''Deep reinforcement learning on Atari games maps pixel directly to actions; internally,\n",
    "the deep neural network bears the responsibility of both extracting useful\n",
    "information and making decisions based on it. Aiming at devoting entire deep\n",
    "networks to decision making alone, we propose a new method for learning policies\n",
    "and compact state representations separately but simultaneously for policy\n",
    "approximation in reinforcement learning. State representations are generated by a\n",
    "novel algorithm based on Vector Quantization and Sparse Coding, trained online\n",
    "along with the network, and capable of growing its dictionary size over time. We\n",
    "also introduce new techniques allowing both the neural network and the evolution\n",
    "strategy to cope with varying dimensions. This enables networks of only 6 to 18\n",
    "neurons to learn to play a selection of Atari games with performance comparable—\n",
    "and occasionally superior—to state-of-the-art techniques using evolution strategies\n",
    "on deep networks two orders of magnitude larger.'''\n",
    "\n",
    "\n",
    "doc_rl2 = '''Deep reinforcement learning methods traditionally struggle with tasks where environment\n",
    "rewards are particularly sparse. One successful method of guiding\n",
    "exploration in these domains is to imitate trajectories provided by a human demonstrator.\n",
    "However, these demonstrations are typically collected under artificial\n",
    "conditions, i.e. with access to the agent’s exact environment setup and the demonstrator’s\n",
    "action and reward trajectories. Here we propose a two-stage method that\n",
    "overcomes these limitations by relying on noisy, unaligned footage without access\n",
    "to such data. First, we learn to map unaligned videos from multiple sources to a\n",
    "common representation using self-supervised objectives constructed over both time\n",
    "and modality (i.e. vision and sound). Second, we embed a single YouTube video\n",
    "in this representation to construct a reward function that encourages an agent to\n",
    "imitate human gameplay. This method of one-shot imitation allows our agent to\n",
    "convincingly exceed human-level performance on the infamously hard exploration\n",
    "games MONTEZUMA’S REVENGE, PITFALL! and PRIVATE EYE for the first time†\n",
    ",\n",
    "even if the agent is not presented with any environment rewards.\n",
    "'''\n",
    "\n",
    "doc_cv = '''Convolutional Neural Networks (CNNs) have become the method of choice \n",
    "for learning problems involving 2D planar images. However, a number of problems of recent \n",
    "interest have created a demand for models that can analyze spherical images. \n",
    "Examples include omnidirectional vision for drones, robots, and autonomous cars, \n",
    "molecular regression problems, and global weather and climate modelling. \n",
    "A naive application of convolutional networks to a planar projection of the spherical signal\n",
    "is destined to fail, because the space-varying distortions introduced by such a projection will\n",
    "make translational weight sharing ineffective.\n",
    "In this paper we introduce the building blocks for constructing spherical CNNs. \n",
    "We propose a definition for the spherical cross-correlation that is both expressive and rotation-equivariant.\n",
    "The spherical correlation satisfies a generalized Fourier theorem, which allows us to compute \n",
    "it efficiently using a generalized (non-commutative) Fast Fourier Transform (FFT) algorithm.\n",
    "We demonstrate the computational efficiency, numerical accuracy, and effectiveness of spherical \n",
    "CNNs applied to 3D model recognition and atomization energy regression.\n",
    "'''"
   ]
  },
  {
   "cell_type": "code",
   "execution_count": 152,
   "metadata": {
    "collapsed": true
   },
   "outputs": [],
   "source": [
    "def doc2bowl_bigram(doc):\n",
    "    doc = clean(doc)\n",
    "    words = doc_to_words(doc, stop_words, lemma)\n",
    "    bigrams = bigram_mod[words]\n",
    "    bow = id2word.doc2bow(bigrams)\n",
    "    return bow, bigrams"
   ]
  },
  {
   "cell_type": "code",
   "execution_count": 186,
   "metadata": {},
   "outputs": [],
   "source": [
    "bow_rl1, bigrams_rl1 = doc2bowl_bigram(doc_rl1)\n",
    "bow_rl2, bigrams_rl2 = doc2bowl_bigram(doc_rl2)\n",
    "bow_cv, bigrams_cv = doc2bowl_bigram(doc_cv)"
   ]
  },
  {
   "cell_type": "code",
   "execution_count": 187,
   "metadata": {
    "scrolled": true
   },
   "outputs": [
    {
     "data": {
      "text/plain": [
       "['deep',\n",
       " 'reinforcement',\n",
       " 'learning',\n",
       " 'atari_game',\n",
       " 'map',\n",
       " 'pixel',\n",
       " 'directly',\n",
       " 'action',\n",
       " 'internally',\n",
       " 'deep',\n",
       " 'neural',\n",
       " 'network',\n",
       " 'bear',\n",
       " 'responsibility',\n",
       " 'extracting',\n",
       " 'useful',\n",
       " 'information',\n",
       " 'making',\n",
       " 'decision',\n",
       " 'based',\n",
       " 'aiming',\n",
       " 'devoting',\n",
       " 'entire',\n",
       " 'deep',\n",
       " 'network',\n",
       " 'decision',\n",
       " 'making',\n",
       " 'alone',\n",
       " 'propose',\n",
       " 'new',\n",
       " 'method',\n",
       " 'learning',\n",
       " 'policy',\n",
       " 'compact',\n",
       " 'state',\n",
       " 'representation',\n",
       " 'separately',\n",
       " 'simultaneously',\n",
       " 'policy',\n",
       " 'approximation',\n",
       " 'reinforcement',\n",
       " 'learning',\n",
       " 'state',\n",
       " 'representation',\n",
       " 'generated',\n",
       " 'novel',\n",
       " 'algorithm',\n",
       " 'based',\n",
       " 'vector',\n",
       " 'quantization',\n",
       " 'sparse',\n",
       " 'coding',\n",
       " 'trained',\n",
       " 'online',\n",
       " 'along',\n",
       " 'network',\n",
       " 'capable',\n",
       " 'growing',\n",
       " 'dictionary',\n",
       " 'size',\n",
       " 'time',\n",
       " 'also',\n",
       " 'introduce',\n",
       " 'new',\n",
       " 'technique',\n",
       " 'allowing',\n",
       " 'neural',\n",
       " 'network',\n",
       " 'evolution',\n",
       " 'strategy',\n",
       " 'cope',\n",
       " 'varying',\n",
       " 'dimension',\n",
       " 'enables',\n",
       " 'network',\n",
       " 'neuron',\n",
       " 'learn',\n",
       " 'play',\n",
       " 'selection',\n",
       " 'atari_game',\n",
       " 'performance',\n",
       " 'comparable',\n",
       " 'occasionally',\n",
       " 'superior',\n",
       " 'state',\n",
       " 'art',\n",
       " 'technique',\n",
       " 'using',\n",
       " 'evolution',\n",
       " 'strategy',\n",
       " 'deep',\n",
       " 'network',\n",
       " 'two',\n",
       " 'order',\n",
       " 'magnitude',\n",
       " 'larger']"
      ]
     },
     "execution_count": 187,
     "metadata": {},
     "output_type": "execute_result"
    }
   ],
   "source": [
    "bigrams_rl1"
   ]
  },
  {
   "cell_type": "code",
   "execution_count": 189,
   "metadata": {},
   "outputs": [
    {
     "data": {
      "text/plain": [
       "[(2, 0.3263107),\n",
       " (3, 0.2581074),\n",
       " (4, 0.017848648),\n",
       " (6, 0.026870906),\n",
       " (7, 0.34916314)]"
      ]
     },
     "execution_count": 189,
     "metadata": {},
     "output_type": "execute_result"
    }
   ],
   "source": [
    "lda_model_opt.get_document_topics(bow_rl1)"
   ]
  },
  {
   "cell_type": "code",
   "execution_count": 190,
   "metadata": {},
   "outputs": [
    {
     "data": {
      "text/plain": [
       "[(3, 0.29723138),\n",
       " (4, 0.015419452),\n",
       " (5, 0.03982899),\n",
       " (6, 0.11953734),\n",
       " (7, 0.50085264)]"
      ]
     },
     "execution_count": 190,
     "metadata": {},
     "output_type": "execute_result"
    }
   ],
   "source": [
    "lda_model_opt.get_document_topics(bow_rl2)"
   ]
  },
  {
   "cell_type": "code",
   "execution_count": 191,
   "metadata": {},
   "outputs": [
    {
     "data": {
      "text/plain": [
       "[(0, 0.029139243),\n",
       " (1, 0.11906097),\n",
       " (2, 0.077320196),\n",
       " (3, 0.44559783),\n",
       " (4, 0.16184708),\n",
       " (5, 0.11535659),\n",
       " (7, 0.043800566)]"
      ]
     },
     "execution_count": 191,
     "metadata": {},
     "output_type": "execute_result"
    }
   ],
   "source": [
    "lda_model_opt.get_document_topics(bow_cv)"
   ]
  },
  {
   "cell_type": "code",
   "execution_count": 192,
   "metadata": {
    "collapsed": true
   },
   "outputs": [],
   "source": [
    "def bow2feat(bow):\n",
    "    return np.asarray([x for _, x in lda_model.get_document_topics(bow, minimum_probability=0)])\n",
    "\n",
    "\n",
    "def doc2feat(doc):\n",
    "    bow, _ = doc2bowl_bigram(doc)\n",
    "    return bow2feat(bow)"
   ]
  },
  {
   "cell_type": "code",
   "execution_count": 194,
   "metadata": {},
   "outputs": [],
   "source": [
    "feat_rl1 = doc2feat(doc_rl1)\n",
    "feat_rl2 = doc2feat(doc_rl2)\n",
    "feat_cv = doc2feat(doc_cv)"
   ]
  },
  {
   "cell_type": "code",
   "execution_count": 198,
   "metadata": {},
   "outputs": [
    {
     "name": "stdout",
     "output_type": "stream",
     "text": [
      "(20,)\n"
     ]
    },
    {
     "data": {
      "text/plain": [
       "array([0.00347409, 0.00494003, 0.01583711, 0.04266278, 0.01496889,\n",
       "       0.01671956, 0.0161709 , 0.00446689, 0.03555086, 0.00768752,\n",
       "       0.00424144, 0.02585269, 0.02773212, 0.12899452, 0.28083357,\n",
       "       0.02106646, 0.00525921, 0.29093683, 0.02459397, 0.02801055],\n",
       "      dtype=float32)"
      ]
     },
     "execution_count": 198,
     "metadata": {},
     "output_type": "execute_result"
    }
   ],
   "source": [
    "print(feat_rl1.shape)\n",
    "feat_rl1"
   ]
  },
  {
   "cell_type": "code",
   "execution_count": 195,
   "metadata": {
    "collapsed": true
   },
   "outputs": [],
   "source": [
    "from scipy.spatial import distance\n",
    "from itertools import combinations"
   ]
  },
  {
   "cell_type": "code",
   "execution_count": 196,
   "metadata": {},
   "outputs": [
    {
     "name": "stdout",
     "output_type": "stream",
     "text": [
      "doc1: rl1, doc2: rl2, similarity 0.27\n",
      "doc1: rl1, doc2: cv, similarity 0.48\n",
      "doc1: rl2, doc2: cv, similarity 0.48\n"
     ]
    }
   ],
   "source": [
    "names = ['rl1', 'rl2', 'cv']\n",
    "feats = [feat_rl1, feat_rl2, feat_cv]\n",
    "names_feat = zip(names, feats)\n",
    "\n",
    "for (n1, f1), (n2, f2) in combinations(names_feat, 2):\n",
    "    print('doc1: {}, doc2: {}, similarity {:.2f}'.format(n1, n2, distance.euclidean(f1, f2)))"
   ]
  },
  {
   "cell_type": "markdown",
   "metadata": {},
   "source": [
    "# Russian example\n",
    "\n",
    "https://github.com/maxoodf/russian_news_corpus\n",
    "\n",
    "```bash\n",
    "git clone https://github.com/maxoodf/russian_news_corpus.git\n",
    "cd ./russian_news_corpus\n",
    "cat ./russian_news.txt.bz2_a* | bzip2 -d > ./russian_news.txt\n",
    "cat russian_news.txt | awk 'BEGIN {srand()} !/^$/ { if (rand() <= .005) print $0}' > russian_news_10k.txt\n",
    "```"
   ]
  },
  {
   "cell_type": "code",
   "execution_count": 199,
   "metadata": {
    "collapsed": true
   },
   "outputs": [],
   "source": [
    "stop_words = set(stopwords.words('russian'))"
   ]
  },
  {
   "cell_type": "code",
   "execution_count": 208,
   "metadata": {},
   "outputs": [],
   "source": [
    "from pathlib import Path"
   ]
  },
  {
   "cell_type": "code",
   "execution_count": 241,
   "metadata": {},
   "outputs": [],
   "source": [
    "data_ru = Path('/media/storage/data_nlp/russian_news_corpus/russian_news_10k.txt').read_text(encoding='utf-8').split('\\n')"
   ]
  },
  {
   "cell_type": "code",
   "execution_count": 242,
   "metadata": {},
   "outputs": [],
   "source": [
    "def doc_to_words_ru(doc, stop_words):\n",
    "    stop_words = set(stop_words)\n",
    "    # remove stop words and punctuation\n",
    "    words = [w for w in gensim.utils.simple_preprocess(str(doc), deacc=True, max_len=100) if w not in stop_words]\n",
    "    \n",
    "    return words"
   ]
  },
  {
   "cell_type": "code",
   "execution_count": null,
   "metadata": {
    "collapsed": true
   },
   "outputs": [],
   "source": [
    "prepare = False"
   ]
  },
  {
   "cell_type": "code",
   "execution_count": 243,
   "metadata": {},
   "outputs": [],
   "source": [
    "data_ru = [clean(t) for t in data_ru]\n",
    "data_words_ru = [doc_to_words_ru(t, stop_words) for t in data_ru]"
   ]
  },
  {
   "cell_type": "code",
   "execution_count": 244,
   "metadata": {},
   "outputs": [
    {
     "data": {
      "text/plain": [
       "['сми',\n",
       " 'называть',\n",
       " 'украина',\n",
       " 'коррумпированныи',\n",
       " 'болото',\n",
       " 'мир',\n",
       " 'политика',\n",
       " 'аргумент',\n",
       " 'факт',\n",
       " 'москва']"
      ]
     },
     "execution_count": 244,
     "metadata": {},
     "output_type": "execute_result"
    }
   ],
   "source": [
    "data_words_ru[0][:10]"
   ]
  },
  {
   "cell_type": "code",
   "execution_count": 245,
   "metadata": {},
   "outputs": [],
   "source": [
    "# Build the bigram and trigram models\n",
    "bigram_ru = gensim.models.Phrases(data_words_ru, min_count=5, threshold=100) # higher threshold fewer phrases.\n",
    "\n",
    "# Faster way to get a sentence clubbed as a trigram/bigram\n",
    "bigram_mod_ru = gensim.models.phrases.Phraser(bigram_ru)\n",
    "    \n",
    "data_words_bigrams_ru = [bigram_mod_ru[w] for w in data_words_ru]"
   ]
  },
  {
   "cell_type": "code",
   "execution_count": 246,
   "metadata": {},
   "outputs": [
    {
     "data": {
      "text/plain": [
       "['цивилизованныи',\n",
       " 'подход',\n",
       " 'наркоз',\n",
       " 'город',\n",
       " 'новость',\n",
       " 'санкт_петербург',\n",
       " 'фонтанка_ру',\n",
       " 'приморскии',\n",
       " 'раион',\n",
       " 'петербург']"
      ]
     },
     "execution_count": 246,
     "metadata": {},
     "output_type": "execute_result"
    }
   ],
   "source": [
    "data_words_bigrams_ru[1][:10]"
   ]
  },
  {
   "cell_type": "code",
   "execution_count": 247,
   "metadata": {},
   "outputs": [],
   "source": [
    "id2word_ru = corpora.Dictionary(data_words_bigrams_ru)\n",
    "corpus_ru = [id2word_ru.doc2bow(text) for text in data_words_bigrams_ru]"
   ]
  },
  {
   "cell_type": "code",
   "execution_count": 248,
   "metadata": {},
   "outputs": [],
   "source": [
    "lda_model_ru = gensim.models.ldamodel.LdaModel(\n",
    "    corpus=corpus_ru,\n",
    "    id2word=id2word_ru,\n",
    "    num_topics=20, \n",
    "    random_state=100,\n",
    "    update_every=1,\n",
    "    chunksize=100,\n",
    "    passes=10,\n",
    "    alpha='auto',\n",
    "    per_word_topics=True)"
   ]
  },
  {
   "cell_type": "code",
   "execution_count": 249,
   "metadata": {
    "scrolled": true
   },
   "outputs": [
    {
     "name": "stdout",
     "output_type": "stream",
     "text": [
      "[(0,\n",
      "  '0.021*\"человек\" + 0.020*\"москва\" + 0.019*\"сообщать\" + 0.011*\"место\" + '\n",
      "  '0.011*\"происходить\" + 0.009*\"улица\" + 0.009*\"здание\" + 0.008*\"находиться\" + '\n",
      "  '0.008*\"мужчина\" + 0.008*\"погибать\"'),\n",
      " (1,\n",
      "  '0.027*\"сбербанк\" + 0.015*\"минфин\" + 0.015*\"снижаться\" + 0.011*\"магазин\" + '\n",
      "  '0.010*\"продукт\" + 0.010*\"ставка\" + 0.009*\"мост\" + 0.008*\"валюта\" + '\n",
      "  '0.008*\"реитинг\" + 0.008*\"выпуск\"'),\n",
      " (2,\n",
      "  '0.034*\"крым\" + 0.025*\"интернет\" + 0.023*\"депутат\" + 0.019*\"закон\" + '\n",
      "  '0.016*\"госдума\" + 0.012*\"законопроект\" + 0.008*\"депутат_госдума\" + '\n",
      "  '0.007*\"лнр\" + 0.007*\"нилов\" + 0.007*\"сеть\"'),\n",
      " (3,\n",
      "  '0.015*\"сирия\" + 0.014*\"военныи\" + 0.014*\"оон\" + 0.011*\"город\" + '\n",
      "  '0.010*\"посол\" + 0.010*\"сша\" + 0.009*\"сила\" + 0.009*\"нато\" + '\n",
      "  '0.008*\"россиискии\" + 0.008*\"россия\"'),\n",
      " (4,\n",
      "  '0.022*\"суд\" + 0.020*\"дело\" + 0.019*\"год\" + 0.009*\"сотрудник\" + '\n",
      "  '0.009*\"задерживать\" + 0.009*\"сообщать\" + 0.008*\"которыи\" + 0.008*\"бывшии\" + '\n",
      "  '0.006*\"убииство\" + 0.006*\"экс\"'),\n",
      " (5,\n",
      "  '0.008*\"роман\" + 0.008*\"иран\" + 0.006*\"израиль\" + 0.006*\"подарок\" + '\n",
      "  '0.006*\"штаб\" + 0.006*\"сохраняться\" + 0.006*\"южныи_осетия\" + 0.006*\"греция\" '\n",
      "  '+ 0.006*\"рокфеллер\" + 0.005*\"выставлять\"'),\n",
      " (6,\n",
      "  '0.011*\"система\" + 0.010*\"исследование\" + 0.009*\"ученыи\" + '\n",
      "  '0.008*\"специалист\" + 0.008*\"медведев\" + 0.007*\"программа\" + '\n",
      "  '0.006*\"развитие\" + 0.006*\"научныи\" + 0.006*\"врач\" + 0.005*\"работа\"'),\n",
      " (7,\n",
      "  '0.031*\"россия\" + 0.017*\"президент\" + 0.015*\"заявлять\" + 0.014*\"россиискии\" '\n",
      "  '+ 0.013*\"глава\" + 0.013*\"украина\" + 0.012*\"страна\" + 0.009*\"которыи\" + '\n",
      "  '0.008*\"сообщать\" + 0.008*\"год\"'),\n",
      " (8,\n",
      "  '0.037*\"это\" + 0.026*\"которыи\" + 0.017*\"весь\" + 0.015*\"свои\" + 0.015*\"мочь\" '\n",
      "  '+ 0.013*\"такои\" + 0.011*\"человек\" + 0.009*\"другои\" + 0.008*\"время\" + '\n",
      "  '0.008*\"говорить\"'),\n",
      " (9,\n",
      "  '0.019*\"ребенок\" + 0.018*\"город\" + 0.018*\"регион\" + 0.012*\"полицеискии\" + '\n",
      "  '0.011*\"тысяча\" + 0.010*\"житель\" + 0.008*\"человек\" + 0.008*\"область\" + '\n",
      "  '0.008*\"региональныи\" + 0.008*\"земля\"'),\n",
      " (10,\n",
      "  '0.075*\"сша\" + 0.050*\"трамп\" + 0.028*\"американскии\" + 0.018*\"дональд_трамп\" '\n",
      "  '+ 0.013*\"самолет\" + 0.009*\"вашингтон\" + 0.009*\"белыи_дом\" + 0.006*\"кадыров\" '\n",
      "  '+ 0.006*\"администрация\" + 0.005*\"штат\"'),\n",
      " (11,\n",
      "  '0.017*\"год\" + 0.008*\"ребенок\" + 0.008*\"женщина\" + 0.007*\"становиться\" + '\n",
      "  '0.007*\"день\" + 0.007*\"жизнь\" + 0.006*\"свои\" + 0.006*\"больница\" + '\n",
      "  '0.006*\"номер\" + 0.005*\"молодои\"'),\n",
      " (12,\n",
      "  '0.019*\"год\" + 0.010*\"фильм\" + 0.009*\"русскии\" + 0.008*\"музеи\" + '\n",
      "  '0.008*\"культура\" + 0.008*\"памятник\" + 0.007*\"театр\" + 0.007*\"советскии\" + '\n",
      "  '0.007*\"белоруссия\" + 0.006*\"история\"'),\n",
      " (13,\n",
      "  '0.023*\"год\" + 0.018*\"банк\" + 0.018*\"компания\" + 0.007*\"млн\" + '\n",
      "  '0.007*\"проект\" + 0.007*\"рубль\" + 0.006*\"которыи\" + 0.006*\"предприятие\" + '\n",
      "  '0.005*\"строительство\" + 0.005*\"получать\"'),\n",
      " (14,\n",
      "  '0.017*\"церковь\" + 0.016*\"турция\" + 0.012*\"турецкии\" + 0.011*\"храм\" + '\n",
      "  '0.009*\"грузия\" + 0.007*\"святои\" + 0.006*\"вчера\" + 0.006*\"собор\" + '\n",
      "  '0.006*\"акция_протест\" + 0.006*\"арена\"'),\n",
      " (15,\n",
      "  '0.020*\"новость\" + 0.016*\"газета_ru\" + 0.011*\"чемпионат\" + 0.009*\"также\" + '\n",
      "  '0.009*\"спортсмен\" + 0.008*\"соревнование\" + 0.007*\"испания\" + '\n",
      "  '0.007*\"праздник\" + 0.007*\"финал\" + 0.006*\"победитель\"'),\n",
      " (16,\n",
      "  '0.051*\"год\" + 0.011*\"составлять\" + 0.011*\"рост\" + 0.010*\"уровень\" + '\n",
      "  '0.010*\"рынок\" + 0.010*\"россия\" + 0.010*\"рубль\" + 0.010*\"экономика\" + '\n",
      "  '0.010*\"цена\" + 0.008*\"россиискии\"'),\n",
      " (17,\n",
      "  '0.024*\"донбасс\" + 0.021*\"военныи\" + 0.011*\"днр\" + 0.010*\"техника\" + '\n",
      "  '0.010*\"советник\" + 0.009*\"сторона\" + 0.009*\"армения\" + 0.008*\"боевои\" + '\n",
      "  '0.008*\"конфликт\" + 0.007*\"минобороны\"'),\n",
      " (18,\n",
      "  '0.027*\"великобритания\" + 0.027*\"лондон\" + 0.026*\"британскии\" + '\n",
      "  '0.020*\"газпром\" + 0.018*\"газ\" + 0.015*\"кндр\" + 0.013*\"восстанавливать\" + '\n",
      "  '0.011*\"спг\" + 0.010*\"отчет\" + 0.008*\"потребоваться\"'),\n",
      " (19,\n",
      "  '0.022*\"матч\" + 0.021*\"команда\" + 0.014*\"сборная\" + 0.013*\"клуб\" + '\n",
      "  '0.012*\"россия\" + 0.011*\"спорт\" + 0.010*\"игра\" + 0.010*\"первыи\" + '\n",
      "  '0.008*\"футболист\" + 0.008*\"второи\"')]\n"
     ]
    }
   ],
   "source": [
    "pprint(lda_model_ru.print_topics())"
   ]
  },
  {
   "cell_type": "code",
   "execution_count": 250,
   "metadata": {
    "collapsed": true
   },
   "outputs": [],
   "source": [
    "with open('lda_ru', 'wb') as f:\n",
    "    pickle.dump({\n",
    "        \"data_ru\": data_ru,\n",
    "        \"data_words_ru\": data_words_ru,\n",
    "        \"bigram_mod_ru\": bigram_mod_ru,\n",
    "        \"data_words_bigrams_ru\": data_words_bigrams_ru,\n",
    "        \"id2word_ru\": id2word_ru,\n",
    "        \"corpus_ru\": corpus_ru,\n",
    "        \"lda_model_ru\": lda_model_ru,\n",
    "    }, f)"
   ]
  },
  {
   "cell_type": "code",
   "execution_count": 295,
   "metadata": {
    "collapsed": true
   },
   "outputs": [],
   "source": [
    "model_list_ru, coherence_values_ru = compute_coherence_values(\n",
    "    dictionary=id2word_ru, corpus=corpus_ru, texts=data_words_bigrams_ru, start=2, limit=40, step=6)"
   ]
  },
  {
   "cell_type": "code",
   "execution_count": 297,
   "metadata": {},
   "outputs": [
    {
     "data": {
      "image/png": "[encoded data removed]",
      "text/plain": [
       "<Figure size 432x288 with 1 Axes>"
      ]
     },
     "metadata": {},
     "output_type": "display_data"
    }
   ],
   "source": [
    "limit=40; start=2; step=6;\n",
    "x = range(start, limit, step)\n",
    "plt.plot(x, coherence_values_ru)\n",
    "plt.xlabel(\"Num Topics\")\n",
    "plt.ylabel(\"Coherence score\")\n",
    "plt.legend((\"coherence_values\"), loc='best')\n",
    "plt.show()"
   ]
  },
  {
   "cell_type": "code",
   "execution_count": 301,
   "metadata": {
    "collapsed": true
   },
   "outputs": [],
   "source": [
    "lda_model_opt_ru = model_list_ru[2]\n",
    "lda_model_opt_ru.save('lda_model_opt_ru.pkl')"
   ]
  },
  {
   "cell_type": "code",
   "execution_count": 300,
   "metadata": {},
   "outputs": [
    {
     "data": {
      "text/plain": [
       "[(0,\n",
       "  '0.023*\"человек\" + 0.015*\"москва\" + 0.013*\"сообщать\" + 0.010*\"место\" + 0.010*\"город\" + 0.010*\"происходить\" + 0.008*\"дом\" + 0.008*\"улица\" + 0.007*\"здание\" + 0.007*\"данные\"'),\n",
       " (1,\n",
       "  '0.039*\"год\" + 0.025*\"банк\" + 0.014*\"рубль\" + 0.012*\"составлять\" + 0.012*\"компания\" + 0.011*\"рынок\" + 0.009*\"рост\" + 0.009*\"млн\" + 0.009*\"цена\" + 0.008*\"млрд\"'),\n",
       " (2,\n",
       "  '0.015*\"крым\" + 0.009*\"новыи\" + 0.009*\"ребенок\" + 0.007*\"завод\" + 0.007*\"интернет\" + 0.007*\"работа\" + 0.007*\"специалист\" + 0.007*\"ученыи\" + 0.006*\"школа\" + 0.006*\"год\"'),\n",
       " (3,\n",
       "  '0.025*\"суд\" + 0.023*\"дело\" + 0.012*\"год\" + 0.012*\"задерживать\" + 0.009*\"сотрудник\" + 0.008*\"убииство\" + 0.008*\"которыи\" + 0.007*\"полиция\" + 0.007*\"бывшии\" + 0.006*\"мвд\"'),\n",
       " (4,\n",
       "  '0.022*\"год\" + 0.019*\"сообщать\" + 0.015*\"москва\" + 0.015*\"россия\" + 0.013*\"риа_новость\" + 0.012*\"россиискии\" + 0.011*\"март\" + 0.009*\"новость\" + 0.008*\"тасс\" + 0.006*\"проходить\"'),\n",
       " (5,\n",
       "  '0.012*\"аукцион\" + 0.012*\"грузия\" + 0.010*\"чечня\" + 0.009*\"дипломат\" + 0.007*\"месторождение\" + 0.006*\"дочка\" + 0.006*\"южныи_осетия\" + 0.005*\"заранее\" + 0.005*\"ирландскии\" + 0.005*\"повторять\"'),\n",
       " (6,\n",
       "  '0.017*\"это\" + 0.014*\"которыи\" + 0.014*\"россия\" + 0.013*\"год\" + 0.010*\"россиискии\" + 0.009*\"страна\" + 0.009*\"мочь\" + 0.008*\"наш\" + 0.008*\"новыи\" + 0.007*\"отмечать\"'),\n",
       " (7,\n",
       "  '0.023*\"россия\" + 0.021*\"президент\" + 0.019*\"сша\" + 0.018*\"заявлять\" + 0.016*\"украина\" + 0.012*\"страна\" + 0.011*\"глава\" + 0.011*\"трамп\" + 0.010*\"это\" + 0.010*\"россиискии\"'),\n",
       " (8,\n",
       "  '0.013*\"партия\" + 0.009*\"депутат\" + 0.008*\"выборы\" + 0.008*\"которыи\" + 0.007*\"свои\" + 0.007*\"проходить\" + 0.006*\"год\" + 0.005*\"митинг\" + 0.005*\"власть\" + 0.005*\"парламент\"'),\n",
       " (9,\n",
       "  '0.023*\"военныи\" + 0.013*\"полицеискии\" + 0.011*\"город\" + 0.010*\"территория\" + 0.009*\"раион\" + 0.008*\"сирия\" + 0.007*\"минобороны\" + 0.007*\"днр\" + 0.007*\"сила\" + 0.007*\"донбасс\"'),\n",
       " (10,\n",
       "  '0.017*\"год\" + 0.008*\"фильм\" + 0.008*\"становиться\" + 0.006*\"культура\" + 0.006*\"церковь\" + 0.006*\"русскии\" + 0.006*\"музеи\" + 0.005*\"театр\" + 0.005*\"которыи\" + 0.004*\"новыи\"'),\n",
       " (11,\n",
       "  '0.026*\"это\" + 0.015*\"которыи\" + 0.014*\"свои\" + 0.012*\"весь\" + 0.011*\"человек\" + 0.009*\"такои\" + 0.009*\"мочь\" + 0.007*\"самыи\" + 0.006*\"другои\" + 0.006*\"время\"'),\n",
       " (12,\n",
       "  '0.016*\"команда\" + 0.016*\"матч\" + 0.010*\"сборная\" + 0.010*\"россия\" + 0.009*\"клуб\" + 0.009*\"спорт\" + 0.008*\"первыи\" + 0.008*\"новость\" + 0.007*\"игра\" + 0.006*\"второи\"'),\n",
       " (13,\n",
       "  '0.016*\"год\" + 0.010*\"которыи\" + 0.010*\"компания\" + 0.008*\"решение\" + 0.008*\"закон\" + 0.006*\"это\" + 0.006*\"принимать\" + 0.006*\"мочь\" + 0.005*\"получать\" + 0.005*\"также\"')]"
      ]
     },
     "execution_count": 300,
     "metadata": {},
     "output_type": "execute_result"
    }
   ],
   "source": [
    "lda_model_opt_ru.print_topics()"
   ]
  }
 ],
 "metadata": {
  "kernelspec": {
   "display_name": "Python 3",
   "language": "python",
   "name": "python3"
  },
  "language_info": {
   "codemirror_mode": {
    "name": "ipython",
    "version": 3
   },
   "file_extension": ".py",
   "mimetype": "text/x-python",
   "name": "python",
   "nbconvert_exporter": "python",
   "pygments_lexer": "ipython3",
   "version": "3.7.4"
  },
  "varInspector": {
   "cols": {
    "lenName": 16,
    "lenType": 16,
    "lenVar": 40
   },
   "kernels_config": {
    "python": {
     "delete_cmd_postfix": "",
     "delete_cmd_prefix": "del ",
     "library": "var_list.py",
     "varRefreshCmd": "print(var_dic_list())"
    },
    "r": {
     "delete_cmd_postfix": ") ",
     "delete_cmd_prefix": "rm(",
     "library": "var_list.r",
     "varRefreshCmd": "cat(var_dic_list()) "
    }
   },
   "types_to_exclude": [
    "module",
    "function",
    "builtin_function_or_method",
    "instance",
    "_Feature"
   ],
   "window_display": false
  }
 },
 "nbformat": 4,
 "nbformat_minor": 2
}
