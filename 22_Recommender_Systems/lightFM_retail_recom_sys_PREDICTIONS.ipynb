{
 "cells": [
  {
   "cell_type": "code",
   "execution_count": 1,
   "metadata": {
    "collapsed": true
   },
   "outputs": [],
   "source": [
    "import pandas as pd\n",
    "import scipy.sparse as sparse\n",
    "import numpy as np\n",
    "from scipy.sparse.linalg import spsolve"
   ]
  },
  {
   "cell_type": "code",
   "execution_count": 2,
   "metadata": {},
   "outputs": [
    {
     "data": {
      "text/html": [
       "<div>\n",
       "<style scoped>\n",
       "    .dataframe tbody tr th:only-of-type {\n",
       "        vertical-align: middle;\n",
       "    }\n",
       "\n",
       "    .dataframe tbody tr th {\n",
       "        vertical-align: top;\n",
       "    }\n",
       "\n",
       "    .dataframe thead th {\n",
       "        text-align: right;\n",
       "    }\n",
       "</style>\n",
       "<table border=\"1\" class=\"dataframe\">\n",
       "  <thead>\n",
       "    <tr style=\"text-align: right;\">\n",
       "      <th></th>\n",
       "      <th>CustomerID</th>\n",
       "      <th>StockCode</th>\n",
       "      <th>Quantity</th>\n",
       "    </tr>\n",
       "  </thead>\n",
       "  <tbody>\n",
       "    <tr>\n",
       "      <th>0</th>\n",
       "      <td>12346</td>\n",
       "      <td>23166</td>\n",
       "      <td>1</td>\n",
       "    </tr>\n",
       "    <tr>\n",
       "      <th>1</th>\n",
       "      <td>12347</td>\n",
       "      <td>16008</td>\n",
       "      <td>24</td>\n",
       "    </tr>\n",
       "    <tr>\n",
       "      <th>2</th>\n",
       "      <td>12347</td>\n",
       "      <td>17021</td>\n",
       "      <td>36</td>\n",
       "    </tr>\n",
       "    <tr>\n",
       "      <th>3</th>\n",
       "      <td>12347</td>\n",
       "      <td>20665</td>\n",
       "      <td>6</td>\n",
       "    </tr>\n",
       "    <tr>\n",
       "      <th>4</th>\n",
       "      <td>12347</td>\n",
       "      <td>20719</td>\n",
       "      <td>40</td>\n",
       "    </tr>\n",
       "  </tbody>\n",
       "</table>\n",
       "</div>"
      ],
      "text/plain": [
       "   CustomerID StockCode  Quantity\n",
       "0       12346     23166         1\n",
       "1       12347     16008        24\n",
       "2       12347     17021        36\n",
       "3       12347     20665         6\n",
       "4       12347     20719        40"
      ]
     },
     "execution_count": 2,
     "metadata": {},
     "output_type": "execute_result"
    }
   ],
   "source": [
    "grouped_purchased = pd.read_csv('cvs_data_file/online-retail.csv', header = 0)\n",
    "grouped_purchased.head()"
   ]
  },
  {
   "cell_type": "code",
   "execution_count": 3,
   "metadata": {},
   "outputs": [
    {
     "name": "stderr",
     "output_type": "stream",
     "text": [
      "C:\\Users\\Office\\Anaconda3\\lib\\site-packages\\ipykernel_launcher.py:5: FutureWarning: specifying 'categories' or 'ordered' in .astype() is deprecated; pass a CategoricalDtype instead\n",
      "  \"\"\"\n",
      "C:\\Users\\Office\\Anaconda3\\lib\\site-packages\\ipykernel_launcher.py:7: FutureWarning: specifying 'categories' or 'ordered' in .astype() is deprecated; pass a CategoricalDtype instead\n",
      "  import sys\n"
     ]
    }
   ],
   "source": [
    "customers = list(np.sort(grouped_purchased.CustomerID.unique())) \n",
    "products = list(grouped_purchased.StockCode.unique()) \n",
    "quantity = list(grouped_purchased.Quantity) \n",
    "\n",
    "rows = grouped_purchased.CustomerID.astype('category', categories = customers).cat.codes \n",
    "cols = grouped_purchased.StockCode.astype('category', categories = products).cat.codes \n",
    "purchases_sparse = sparse.csr_matrix((quantity, (rows, cols)), shape=(len(customers), len(products)))"
   ]
  },
  {
   "cell_type": "code",
   "execution_count": 4,
   "metadata": {},
   "outputs": [
    {
     "name": "stdout",
     "output_type": "stream",
     "text": [
      "[[ 1  0  0 ...  0  0  0]\n",
      " [ 0 24 36 ...  0  0  0]\n",
      " [ 0  0  0 ...  0  0  0]\n",
      " ...\n",
      " [ 0  0  0 ...  0  0  0]\n",
      " [ 0  0  0 ...  0  0  0]\n",
      " [ 0  0  0 ...  0  0  0]]\n"
     ]
    }
   ],
   "source": [
    "print(purchases_sparse.A)"
   ]
  },
  {
   "cell_type": "code",
   "execution_count": 5,
   "metadata": {
    "collapsed": true
   },
   "outputs": [],
   "source": [
    "import random"
   ]
  },
  {
   "cell_type": "code",
   "execution_count": 6,
   "metadata": {
    "collapsed": true
   },
   "outputs": [],
   "source": [
    "def make_train(ratings, pct_test = 0.2):\n",
    "    test_set = ratings.copy() \n",
    "    test_set[test_set != 0] = 1 \n",
    "    training_set = ratings.copy() \n",
    "    nonzero_inds = training_set.nonzero() \n",
    "    nonzero_pairs = list(zip(nonzero_inds[0], nonzero_inds[1])) \n",
    "    random.seed(0) \n",
    "    num_samples = int(np.ceil(pct_test*len(nonzero_pairs))) \n",
    "    samples = random.sample(nonzero_pairs, num_samples) \n",
    "    user_inds = [index[0] for index in samples] \n",
    "    item_inds = [index[1] for index in samples] \n",
    "    training_set[user_inds, item_inds] = 0 \n",
    "    training_set.eliminate_zeros() \n",
    "    return training_set, test_set, list(set(user_inds))  "
   ]
  },
  {
   "cell_type": "code",
   "execution_count": 7,
   "metadata": {
    "collapsed": true
   },
   "outputs": [],
   "source": [
    "product_train, product_test, product_users_altered = make_train(purchases_sparse, pct_test = 0.2)"
   ]
  },
  {
   "cell_type": "code",
   "execution_count": 8,
   "metadata": {},
   "outputs": [
    {
     "data": {
      "text/html": [
       "<div>\n",
       "<style scoped>\n",
       "    .dataframe tbody tr th:only-of-type {\n",
       "        vertical-align: middle;\n",
       "    }\n",
       "\n",
       "    .dataframe tbody tr th {\n",
       "        vertical-align: top;\n",
       "    }\n",
       "\n",
       "    .dataframe thead th {\n",
       "        text-align: right;\n",
       "    }\n",
       "</style>\n",
       "<table border=\"1\" class=\"dataframe\">\n",
       "  <thead>\n",
       "    <tr style=\"text-align: right;\">\n",
       "      <th></th>\n",
       "      <th>StockCode</th>\n",
       "      <th>Description</th>\n",
       "    </tr>\n",
       "  </thead>\n",
       "  <tbody>\n",
       "    <tr>\n",
       "      <th>0</th>\n",
       "      <td>85123A</td>\n",
       "      <td>WHITE HANGING HEART T-LIGHT HOLDER</td>\n",
       "    </tr>\n",
       "    <tr>\n",
       "      <th>1</th>\n",
       "      <td>71053</td>\n",
       "      <td>WHITE METAL LANTERN</td>\n",
       "    </tr>\n",
       "    <tr>\n",
       "      <th>2</th>\n",
       "      <td>84406B</td>\n",
       "      <td>CREAM CUPID HEARTS COAT HANGER</td>\n",
       "    </tr>\n",
       "    <tr>\n",
       "      <th>3</th>\n",
       "      <td>84029G</td>\n",
       "      <td>KNITTED UNION FLAG HOT WATER BOTTLE</td>\n",
       "    </tr>\n",
       "    <tr>\n",
       "      <th>4</th>\n",
       "      <td>84029E</td>\n",
       "      <td>RED WOOLLY HOTTIE WHITE HEART.</td>\n",
       "    </tr>\n",
       "  </tbody>\n",
       "</table>\n",
       "</div>"
      ],
      "text/plain": [
       "  StockCode                          Description\n",
       "0    85123A   WHITE HANGING HEART T-LIGHT HOLDER\n",
       "1     71053                  WHITE METAL LANTERN\n",
       "2    84406B       CREAM CUPID HEARTS COAT HANGER\n",
       "3    84029G  KNITTED UNION FLAG HOT WATER BOTTLE\n",
       "4    84029E       RED WOOLLY HOTTIE WHITE HEART."
      ]
     },
     "execution_count": 8,
     "metadata": {},
     "output_type": "execute_result"
    }
   ],
   "source": [
    "item_lookup = pd.read_csv('cvs_data_file/item_lookup.csv', header = 0)\n",
    "item_lookup.head()"
   ]
  },
  {
   "cell_type": "code",
   "execution_count": 9,
   "metadata": {
    "collapsed": true
   },
   "outputs": [],
   "source": [
    "def get_items_purchased(customer_id, mf_train, customers_list, products_list, item_lookup):\n",
    "    cust_ind = np.where(customers_list == customer_id)[0][0] \n",
    "    purchased_ind = mf_train[cust_ind,:].nonzero()[1] \n",
    "    prod_codes = products_list[purchased_ind] \n",
    "    return item_lookup.loc[item_lookup.StockCode.isin(prod_codes)]"
   ]
  },
  {
   "cell_type": "code",
   "execution_count": 10,
   "metadata": {},
   "outputs": [
    {
     "name": "stderr",
     "output_type": "stream",
     "text": [
      "C:\\Users\\Office\\Anaconda3\\lib\\site-packages\\lightfm\\_lightfm_fast.py:9: UserWarning: LightFM was compiled without OpenMP support. Only a single thread will be used.\n",
      "  warnings.warn('LightFM was compiled without OpenMP support. '\n"
     ]
    }
   ],
   "source": [
    "import pickle\n",
    "\n",
    "with open('saved_model','rb') as f:\n",
    "            saved_model=pickle.load(f)\n",
    "            model=saved_model['model']"
   ]
  },
  {
   "cell_type": "code",
   "execution_count": 11,
   "metadata": {},
   "outputs": [
    {
     "name": "stdout",
     "output_type": "stream",
     "text": [
      "896\n"
     ]
    },
    {
     "data": {
      "text/plain": [
       "896          RING OF ROSES BIRTHDAY CARD\n",
       "1492                       POTTERING MUG\n",
       "1822       FRENCH GARDEN SIGN BLUE METAL\n",
       "1833    4 LILY  BOTANICAL DINNER CANDLES\n",
       "1213              PAPER CHAIN KIT EMPIRE\n",
       "Name: Description, dtype: object"
      ]
     },
     "execution_count": 11,
     "metadata": {},
     "output_type": "execute_result"
    }
   ],
   "source": [
    "from sklearn.metrics.pairwise import cosine_similarity\n",
    "\n",
    "def display_item_to_items_recommendations(model,item_id):\n",
    "\n",
    "    products_arr = np.array(products) \n",
    "    \n",
    "    item_id = np.where(products_arr == item_id)[0][0]\n",
    "    print(item_id)\n",
    "  \n",
    "    return item_lookup['Description'][cosine_similarity(\n",
    "            model.item_embeddings)[item_id].argsort()][-5:][::-1]\n",
    "\n",
    "\n",
    "display_item_to_items_recommendations(model, str('85123A'))"
   ]
  },
  {
   "cell_type": "code",
   "execution_count": 14,
   "metadata": {},
   "outputs": [
    {
     "name": "stdout",
     "output_type": "stream",
     "text": [
      "customers_arr [12346 12347 12348 ... 18282 18283 18287]\n",
      "                              Description\n",
      "34    ROUND SNACK BOXES SET OF4 WOODLAND \n",
      "44                MINI PAINT SET VINTAGE \n",
      "68      LUNCH BOX WITH CUTLERY RETROSPOT \n",
      "69        PACK OF 72 RETROSPOT CAKE CASES\n",
      "629          HEADS AND TAILS SPORTING FUN\n",
      "814           ANT WHITE WIRE HEART SPIRAL\n",
      "815                FEATHER PEN,COAL BLACK\n",
      "1398          HOME SWEET HOME METAL SIGN \n",
      "1518   ASS DES PHONE SPONGE CRAFT STICKER\n",
      "1731        SMALL GLASS SUNDAE DISH CLEAR\n",
      "2753         TRAVEL CARD WALLET KEEP CALM \n",
      " ######################################\n",
      "34      ROUND SNACK BOXES SET OF4 WOODLAND \n",
      "42               MINI JIGSAW CIRCUS PARADE \n",
      "1592                        ANIMAL STICKERS\n",
      "44                  MINI PAINT SET VINTAGE \n",
      "43                     MINI JIGSAW SPACEBOY\n",
      "814             ANT WHITE WIRE HEART SPIRAL\n",
      "1449                 COLUMBIAN CANDLE ROUND\n",
      "231          TV DINNER TRAY VINTAGE PAISLEY\n",
      "214          STRAWBERRY CERAMIC TRINKET BOX\n",
      "887        PINK BLUE FELT CRAFT TRINKET BOX\n",
      "64        BLUE 3 PIECE POLKADOT CUTLERY SET\n",
      "67        STRAWBERRY LUNCH BOX WITH CUTLERY\n",
      "1436                   BLUE POLKADOT PURSE \n",
      "579                       HERB MARKER THYME\n",
      "69          PACK OF 72 RETROSPOT CAKE CASES\n",
      "68        LUNCH BOX WITH CUTLERY RETROSPOT \n",
      "1834                   ROSE DU SUD WASHBAG \n",
      "396       RIBBON REEL CHRISTMAS SOCK BAUBLE\n",
      "65            SET/6 RED SPOTTY PAPER PLATES\n",
      "1489         FRENCH LAUNDRY SIGN BLUE METAL\n",
      "2245                TURQ ICE CREAM BUM BAG \n",
      "1025              AREA PATROLLED METAL SIGN\n",
      "1524                  FELT TOADSTOOL  SMALL\n",
      "218              CHOCOLATE HOT WATER BOTTLE\n",
      "904                  SWALLOWS GREETING CARD\n",
      "296               HEART IVORY TRELLIS LARGE\n",
      "215              PINK DOUGHNUT TRINKET POT \n",
      "1005             WATERING CAN BLUE ELEPHANT\n",
      "1312     NOVELTY BISCUITS CAKE STAND 3 TIER\n",
      "905                   LADLE LOVE HEART PINK\n",
      "                       ...                 \n",
      "3070          FRENCH LATTICE CUSHION COVER \n",
      "2357        PINK FELT EASTER RABBIT GARLAND\n",
      "3576             POSTE FRANCE CUSHION COVER\n",
      "2769        CHILDRENS CUTLERY POLKADOT PINK\n",
      "1389         PINK  HEART SHAPE LOVE BUCKET \n",
      "1922     QUEEN OF THE SKIES PASSPORT COVER \n",
      "268                       GUMBALL COAT RACK\n",
      "270      PINK NEW BAROQUECANDLESTICK CANDLE\n",
      "2688            TINY CRYSTAL BRACELET GREEN\n",
      "2169      SET OF 6 SPICE TINS PANTRY DESIGN\n",
      "271      FAIRY CAKE FLANNEL ASSORTED COLOUR\n",
      "266                      LUNCH BAG WOODLAND\n",
      "1346                  HEARTS WRAPPING TAPE \n",
      "513       RETROSPOT PARTY BAG + STICKER SET\n",
      "1417               3D SHEET OF CAT STICKERS\n",
      "608        PACK OF 20 NAPKINS PANTRY DESIGN\n",
      "512               THREE CANVAS LUGGAGE TAGS\n",
      "2768        CHILDRENS CUTLERY POLKADOT BLUE\n",
      "2721            BLACK CRYSTAL DROP EARRINGS\n",
      "3021        ZINC T-LIGHT HOLDER STARS SMALL\n",
      "514            RETROSPOT SMALL TUBE MATCHES\n",
      "3059           FRENCH FLORAL CUSHION COVER \n",
      "740          DOORMAT SPOTTY HOME SWEET HOME\n",
      "258         SNOWFLAKE PORTABLE TABLE LIGHT \n",
      "511                 BLUE ROSE FABRIC MIRROR\n",
      "3368        SMALL APOTHECARY MEASURING JAR \n",
      "738            STRAWBERRY RAFFIA FOOD COVER\n",
      "2365             MOCK LOBSTER FRIDGE MAGNET\n",
      "256             BLACK PIRATE TREASURE CHEST\n",
      "267                 LUNCH BAG PINK POLKADOT\n",
      "Name: Description, Length: 3664, dtype: object\n"
     ]
    }
   ],
   "source": [
    "def display_recommended_items(model, data, user_ids):\n",
    "    customers_arr = np.array(customers)\n",
    "    products_arr = np.array(products) \n",
    "    print(\"customers_arr\",customers_arr)\n",
    "    user_id = np.where(customers_arr == user_ids)[0][0]\n",
    "    \n",
    "    n_users, n_items = data.shape\n",
    "#     known_positives = get_items_purchased(user_ids, product_train, customers_arr, products_arr, item_lookup)\n",
    "    known_positives = item_lookup['Description'][data.tocsr()[user_id].indices]\n",
    "    known_positives_df = pd.DataFrame(data=known_positives)\n",
    "    print(known_positives_df,'\\n','######################################')            \n",
    "    \n",
    "    \n",
    "    scores = model.predict(user_id, np.arange(n_items))\n",
    "\n",
    "    \n",
    "    top_items = item_lookup['Description'][np.argsort(-scores)]\n",
    "    print(top_items)\n",
    "    \n",
    "    \n",
    "display_recommended_items(model, product_train, 18282)"
   ]
  }
 ],
 "metadata": {
  "kernelspec": {
   "display_name": "Python 3",
   "language": "python",
   "name": "python3"
  },
  "language_info": {
   "codemirror_mode": {
    "name": "ipython",
    "version": 3
   },
   "file_extension": ".py",
   "mimetype": "text/x-python",
   "name": "python",
   "nbconvert_exporter": "python",
   "pygments_lexer": "ipython3",
   "version": "3.6.3"
  }
 },
 "nbformat": 4,
 "nbformat_minor": 2
}
